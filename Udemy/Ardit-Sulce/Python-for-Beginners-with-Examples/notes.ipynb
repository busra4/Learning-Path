{
 "cells": [
  {
   "cell_type": "markdown",
   "metadata": {},
   "source": [
    "You can access Python from browser with __[PythonAnyWhere](https://www.pythonanywhere.com/)__\n",
    "\n",
    "- nano filename.py can create python file in bash/linux command\n",
    "- python filename.py can run the python file in bash/linux command\n",
    "\n",
    "Bash commands\n",
    "- ls is for see what's inside the path\n",
    "- pwd is for see the path\n",
    "- mkdir is for create new folder\n",
    "- cd is for change directory and get inside the folder\n",
    "- You can use Tab for autocomplete\n",
    "- touch/nano is for creating file but touch just create file nano open a console to add something into it then create it\n",
    "- rm is for deleting file/folder\n",
    "- cp is for copying file one path to another path\n",
    "- mv is for moving a file to one path to another path or you can use to change the name of a file or folder\n",
    "\n",
    "----"
   ]
  },
  {
   "cell_type": "markdown",
   "metadata": {},
   "source": [
    "COMMON COMMANDS\n",
    "\n",
    "|LINUX / OSX | WINDOWS | Description |\n",
    "|------------|---------|-------------|\n",
    "|ls | dir | List files and directories |\n",
    "|ls myfolder | dir myfolder | List files and dirs inside a folder |\n",
    "|pwd | cd | Get current directory path |\n",
    "|clear | -same- | Clear the terminal |\n",
    "|touch example.txt | echo > example.txt | Create new file |\n",
    "|mkdir myfolder | -same- | Create new directory |\n",
    "|cd myfolder | -same- | Change directory to myfolder |\n",
    "|cd .. | -same- | Go back one directory |\n",
    "|cp example.txt myfolder/ | copy example.txt myfolder\\ | Copy example.txt file to myfolder |\n",
    "|mv example.txt myfolder/ | move example.txt myfolder\\ | Move example.txt to myfolder|\n",
    "|rm example.txt | del example.txt | Delete example.txt |\n",
    "|rm -r myfolder | del /Q /S myfolder | Delete myfolder and its content |\n",
    "|mv example.txt myexample.txt | move example.txt myexample.txt | Rename example.txt to myexample.txt |\n",
    "|tree | tree /F | Get current directory structure |\n",
    "|find . -name example.txt | dir example.txt /s /p | Find file or directory |\n",
    "|cat example.txt | type example.txt | Display file content |\n",
    "|du example.txt | -none- | Get file or directory size |\n",
    "|zip example.zip example.txt | -none- | Compress example.txt to example.zip |\n",
    "|unzip example.zip | -none- | Unzip example.zip to current directory |\n",
    "|zip -r example.zip myfolder | -none- | Compress all files of myfolder to example.zip|\n",
    "|help pwd | -same- | Show help message for a command |\n",
    "|man pwd | -none- | Show manual text for a command |\n",
    "|pip3 install —user library | -same- | Installs a package for Python 3 |\n",
    "|pip3 uninstall library | -same- | Uninstalls a package for Python 3|\n",
    "\n",
    "\n",
    "----"
   ]
  },
  {
   "cell_type": "markdown",
   "metadata": {},
   "source": [
    "- not use built-in functions name for variable names it may occur conflicts.\n",
    "- dir(\\__builtins__) gets all the builtin errors, underscores and functions."
   ]
  }
 ],
 "metadata": {
  "kernelspec": {
   "display_name": "Python 3.10.5 64-bit",
   "language": "python",
   "name": "python3"
  },
  "language_info": {
   "codemirror_mode": {
    "name": "ipython",
    "version": 3
   },
   "file_extension": ".py",
   "mimetype": "text/x-python",
   "name": "python",
   "nbconvert_exporter": "python",
   "pygments_lexer": "ipython3",
   "version": "3.10.5"
  },
  "orig_nbformat": 4,
  "vscode": {
   "interpreter": {
    "hash": "26de051ba29f2982a8de78e945f0abaf191376122a1563185a90213a26c5da77"
   }
  }
 },
 "nbformat": 4,
 "nbformat_minor": 2
}
