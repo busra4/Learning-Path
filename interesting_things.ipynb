{
 "cells": [
  {
   "cell_type": "code",
   "execution_count": 1,
   "metadata": {},
   "outputs": [
    {
     "name": "stdout",
     "output_type": "stream",
     "text": [
      "Moon\n"
     ]
    }
   ],
   "source": [
    "# WHY??\n",
    "\n",
    "d = {True: \"Sun\"}\n",
    "d[1] = \"Moon\"\n",
    "print(d[True])"
   ]
  },
  {
   "cell_type": "code",
   "execution_count": 1,
   "metadata": {},
   "outputs": [
    {
     "name": "stdout",
     "output_type": "stream",
     "text": [
      "True\n",
      "True\n"
     ]
    }
   ],
   "source": [
    "a = \"False\"\n",
    "b = \"True\"\n",
    "if bool(a) == bool(b):\n",
    "    print(bool(a))\n",
    "    print(bool(b))\n",
    "\n",
    "# it prints True True because strings are not empty and boh of them returns True(1). It not looks to content only full or empty."
   ]
  }
 ],
 "metadata": {
  "kernelspec": {
   "display_name": "Python 3.9.12 ('base')",
   "language": "python",
   "name": "python3"
  },
  "language_info": {
   "codemirror_mode": {
    "name": "ipython",
    "version": 3
   },
   "file_extension": ".py",
   "mimetype": "text/x-python",
   "name": "python",
   "nbconvert_exporter": "python",
   "pygments_lexer": "ipython3",
   "version": "3.9.12"
  },
  "orig_nbformat": 4,
  "vscode": {
   "interpreter": {
    "hash": "8bd5ee9042b3fa0ff9e96de5b7965339b1028b09cd7785b09eca6dd86838d73e"
   }
  }
 },
 "nbformat": 4,
 "nbformat_minor": 2
}
