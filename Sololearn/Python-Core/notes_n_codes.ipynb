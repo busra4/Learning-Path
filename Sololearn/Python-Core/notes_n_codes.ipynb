{
 "cells": [
  {
   "cell_type": "markdown",
   "metadata": {},
   "source": [
    "# Python Core Course"
   ]
  },
  {
   "cell_type": "markdown",
   "metadata": {},
   "source": [
    "## Basic Concepts"
   ]
  },
  {
   "cell_type": "markdown",
   "metadata": {},
   "source": [
    "### Welcome to Python!\n",
    "- In Python, we use the print statement to output text.\n",
    "- Note that the text should be enclosed into single or double quotes.\n",
    "- The print statement needs to be followed by parentheses, which enclose the output we want to generate.\n",
    "- The print statement can also be used to output multiple lines of text."
   ]
  },
  {
   "cell_type": "code",
   "execution_count": 2,
   "metadata": {},
   "outputs": [
    {
     "name": "stdout",
     "output_type": "stream",
     "text": [
      "Python is fun\n"
     ]
    }
   ],
   "source": [
    "# Practice\n",
    "\"\"\"\n",
    "Write a program to print \"Python is fun.\"\n",
    "Note that the sentence starts with a capital letter.\n",
    "\n",
    "Hint\n",
    "Use print() function.\n",
    "\n",
    "** Remember to enclose the text into single or double quotes. **\n",
    "\n",
    "\"\"\"\n",
    "\n",
    "print(\"Python is fun\")"
   ]
  },
  {
   "cell_type": "markdown",
   "metadata": {},
   "source": [
    "### Simple Operations\n",
    "- The spaces around the plus and minus signs here are optional (the code would work without them), but they make it easier to read.\n",
    "- Python carries out addition, substraction, multiplication and division, using an asterisk * to indicate multiplication and a forward slash / to indicate division. + addition, - substraction.\n",
    "- Using a single slash to divide numbers produces a decimal (or float, as it is called in programming). We'll have more about floats in the next lesson.\n",
    "- Use parentheses to determine which operations are performed first."
   ]
  },
  {
   "cell_type": "code",
   "execution_count": 3,
   "metadata": {},
   "outputs": [
    {
     "name": "stdout",
     "output_type": "stream",
     "text": [
      "Total ice creamn scoops: 136\n"
     ]
    }
   ],
   "source": [
    "# Practice\n",
    "\"\"\"\n",
    "Today is a holiday at the children's camp, so all the children will be served ice cream.\n",
    "There are 68 children in the group, and each child should get 2 scoops of ice cream.\n",
    "\n",
    "Task\n",
    "Write a program to calculate and output the total number of ice cream scoops we need.\n",
    "\n",
    "\n",
    "** Use the multiplication operator * inside the print() function. **\n",
    "\n",
    "\"\"\"\n",
    "\n",
    "print(f\"Total ice creamn scoops: {68*2}\")"
   ]
  },
  {
   "cell_type": "markdown",
   "metadata": {},
   "source": [
    "### Floats\n",
    "- Floats are used in Python to represent numbers that aren't integers (whole numbers). Example: 0.5, -7.8237591\n",
    "- They can be created directly by entering a number with a decimal point, or by using operations such as division on integers.\n",
    "- Computers can't store floats perfectly accurately, in the same way that we can't write down the complete decimal expansion of 1/3 (0.3333333333333333...). Keep this in mind, because it often leads to infuriating bugs!\n",
    "- Dividing any two integers produces a float.\n",
    "- A float is also produced by running an operation on two floats, or on a float and an integer.\n",
    "- A float can be added to an integer, because Python silently converts the integer to a float.\n"
   ]
  },
  {
   "cell_type": "markdown",
   "metadata": {},
   "source": [
    "### Exponentiation\n",
    "- Python supports exponentiation, which is the raising of one number to the power of another. This operation is performed using two asterisks.\n",
    "- You can chain exponentiations together. In other words, you can rise a number to multiple powers."
   ]
  },
  {
   "cell_type": "code",
   "execution_count": 1,
   "metadata": {},
   "outputs": [
    {
     "name": "stdout",
     "output_type": "stream",
     "text": [
      "512\n"
     ]
    }
   ],
   "source": [
    "print(2**3**2)"
   ]
  },
  {
   "cell_type": "markdown",
   "metadata": {},
   "source": [
    "- You can also use floats in exponentiation.\n",
    "- Note that the result will be a float."
   ]
  },
  {
   "cell_type": "markdown",
   "metadata": {},
   "source": [
    "### Quotient and Remainder\n",
    "- Floor division is done using two forward slashes and is used to determine the quotient of a division (the quantity produced by the division of two numbers).\n",
    "- You can also use floor division on floats.\n",
    "- The modulo operator is carried out with a percent symbol (%) and is used to get the remainder of a division.\n",
    "- All numerical operators can also be used with floats."
   ]
  },
  {
   "cell_type": "code",
   "execution_count": 4,
   "metadata": {},
   "outputs": [
    {
     "name": "stdout",
     "output_type": "stream",
     "text": [
      "624.0\n"
     ]
    }
   ],
   "source": [
    "# Practice\n",
    "\n",
    "\"\"\"\n",
    "Calculate and output the number of miles in 1000 kilometers.\n",
    "\n",
    "Hint\n",
    "One mile is 1.6 kilometers, so find the quotient of 1000 and 1.6.\n",
    "\n",
    "** Use the floor diviison operator //. **\n",
    "\n",
    "\"\"\"\n",
    "\n",
    "print(1000//1.6)"
   ]
  },
  {
   "cell_type": "code",
   "execution_count": 5,
   "metadata": {},
   "outputs": [
    {
     "name": "stdout",
     "output_type": "stream",
     "text": [
      "First choice before 30 days is 1000000. Second choice before 30 days is 0.01\n",
      "First choice after 30 days is 1000000. Second choice after 30 days is 10737418.24\n"
     ]
    }
   ],
   "source": [
    "# Code Project\n",
    "\n",
    "\"\"\"\n",
    "Exponentiation is the raising of one number to the power of another.\n",
    "This operation is performed using two asterisks **.\n",
    "\n",
    "Let's use exponentiation to solve a known problem.\n",
    "You are offered a choice of either $1.000.000 or $0.01 (one penny) doubled every day for 30 days (the resulting amount is doubled every day).\n",
    "\n",
    "Task:\n",
    "Write a program to calculate the amount that will result from the doubling to understand which choice results in a larger amount.\n",
    "\n",
    "Hint:\n",
    "Let's see how exponentiation can be useful to perform the calculation.\n",
    "For example, if we want to calculate how much money we will have on the 5th day, we can use this expression: 0.01*(2**5) = 0.32 dollars (multiply the penny by 2 raised to the power of 5).\n",
    "\n",
    "** Use the print statement to output the resulting amount. **\n",
    "\n",
    "\"\"\"\n",
    "\n",
    "\n",
    "one = 1000000\n",
    "two = 0.01\n",
    "\n",
    "print(f\"First choice before 30 days is {one}. Second choice before 30 days is {two}\")\n",
    "\n",
    "for _ in range(30):\n",
    "    two = two * 2\n",
    "\n",
    "print(f\"First choice after 30 days is {one}. Second choice after 30 days is {two}\")"
   ]
  },
  {
   "cell_type": "markdown",
   "metadata": {},
   "source": [
    "## Strings & Variables"
   ]
  },
  {
   "cell_type": "markdown",
   "metadata": {},
   "source": [
    "### Strings\n",
    "- A string is created by entering text between two single or double quotation marks.\n",
    "- The delimiter (\" or ') used for a string doesn't affect how it behaves in any way.\n",
    "- Some characters can't be directly included in a string. For instance, double quotes can't be directly included in a double quote string; this would cause it to end prematurely.\n",
    "- Characters like these must be escaped by placing a backslash before them.\n",
    "- Double quotes only need to be escaped in double quote strings, and the same is true for single quote strings.\n",
    "- Backslashes can also be used to escape tabs, arbitrary Unicode characters, and various other things that can't be reliably printed."
   ]
  },
  {
   "cell_type": "code",
   "execution_count": 6,
   "metadata": {},
   "outputs": [
    {
     "name": "stdout",
     "output_type": "stream",
     "text": [
      "I'm a programmer\n"
     ]
    }
   ],
   "source": [
    "# Practice\n",
    "\n",
    "\"\"\"\n",
    "Fix the given code to output I'm a programmer.\n",
    "\n",
    "Hint\n",
    "Escape the single quote inside the string.\n",
    "\n",
    "** Use backslash \\ for escaping. **\n",
    "\n",
    "\"\"\"\n",
    "print('I\\'m a programmer')"
   ]
  },
  {
   "cell_type": "markdown",
   "metadata": {},
   "source": [
    "### Newlines\n",
    "- \\n represents a new line.\n",
    "- It can be used in strings to create multi-line output.\n",
    "- Similarly, \\t represents a tab.\n",
    "- Newlines will be automatically added for strings that are created using three quotes.\n",
    "- This makes it easier to format long, multi-line texts without the need to explicitly put \\n for line breaks."
   ]
  },
  {
   "cell_type": "code",
   "execution_count": null,
   "metadata": {},
   "outputs": [],
   "source": [
    "# Practice (will be added in the future)\n"
   ]
  },
  {
   "cell_type": "markdown",
   "metadata": {},
   "source": [
    "### String Operations\n",
    "- As with integers and floats, strings in Python can be added, using a process called concatenation, which can be done on any two strings.\n",
    "- Even if your strings contain numbers, they are still added as strings rather than integers.\n",
    "- Adding a string to a number produces an error, as even though they might look similar, they are two different entities.\n",
    "- Strings can also be multiplied by integers. This produces a repeated version of the original string. The order of the string and the integer doesn't matter, but the string usually comes first.\n",
    "- Strings can also be multiplied by integers. This produces a repeated version of the original string. The order of the string and the integer doesn't matter, but the string usually comes first."
   ]
  },
  {
   "cell_type": "code",
   "execution_count": null,
   "metadata": {},
   "outputs": [],
   "source": [
    "# Practice (will be added in the future)\n"
   ]
  },
  {
   "cell_type": "markdown",
   "metadata": {},
   "source": [
    "### Variables\n",
    "- A variable allows you to store a value by assigning it to a name, which can be used to refer to the value later in the program.\n",
    "- Certain restrictions apply in regard to the characters that may be used in Python variable names. The only characters that are allowed are letters, numbers, and underscores. Also, they can't start with numbers.\n",
    "- Not following these rules results in errors.\n",
    "- Python is a case sensitive programming language. Thus, Lastname and lastname are two different variable names in Python."
   ]
  },
  {
   "cell_type": "markdown",
   "metadata": {},
   "source": [
    "### Working with Variables\n",
    "- You can use variables to perform corresponding operations, just as you did with numbers and strings.\n",
    "- Variables can be reassigned as many times as you want, in order to change their value.\n",
    "- In Python, variables don't have specific types, so you can assign a string to a variable, and later assign an integer to the same variable.\n",
    "- However, it is not good practice. To avoid mistakes, try to avoid overwriting the same variable with different data types."
   ]
  },
  {
   "cell_type": "code",
   "execution_count": null,
   "metadata": {},
   "outputs": [],
   "source": [
    "# Practice (will be added in the future)\n"
   ]
  },
  {
   "cell_type": "markdown",
   "metadata": {},
   "source": [
    "### Taking User Input\n",
    "- To get input from the user in Python, you can use the intuitively named input function.\n",
    "- The input function prompts the user for input, and returns what they enter as a string (with the contents automatically escaped).\n",
    "- Even if the user enters a number as input, it is processed as a string.\n",
    "- The input statement needs to be followed by parentheses.\n",
    "- You can provide a string to input() between the parentheses, producing a prompt message.\n",
    "- The prompt message helps to clarify what input the program is asking for."
   ]
  },
  {
   "cell_type": "markdown",
   "metadata": {},
   "source": [
    "### Working with Input\n",
    "- Let's assume we want to take the age of the user as input. We know that the input() function returns a string. To convert it to a number, we can use the int() function.\n",
    "- Similarly, in order to convert a number to a string, the str() function is used.\n",
    "- You can convert to float using the float() function.\n",
    "- You can use input() multiple times to take multiple user inputs.\n",
    "- When input() function executes, program flow stops until a user enters some value."
   ]
  },
  {
   "cell_type": "code",
   "execution_count": null,
   "metadata": {},
   "outputs": [],
   "source": [
    "# Practice (will be added in the future)\n"
   ]
  },
  {
   "cell_type": "markdown",
   "metadata": {},
   "source": [
    "### In-Place and Walrus Operators\n",
    "- In-place operators allow you to write code like 'x = x + 3' more concisely, as 'x += 3'.\n",
    "- The same thing is possible with other operators such as -, *, / and % as well.\n",
    "- These operators can be used on types other than numbers, as well, such as strings.\n",
    "- In-place operators can be used for any numerical operation (+, -, *, /, %, **, //).\n",
    "- Walrus operator (:=) allows you to assign values to variables within an expression, including variables that do not exist yet.\n",
    "- The walrus operator accomplishes these operations at once. Example: print(number := int(input()))\n",
    "- The walrus operator makes code more readable and can be useful in many situations. "
   ]
  },
  {
   "cell_type": "code",
   "execution_count": 8,
   "metadata": {},
   "outputs": [
    {
     "name": "stdout",
     "output_type": "stream",
     "text": [
      "10\n"
     ]
    }
   ],
   "source": [
    "# Code Project\n",
    "\n",
    "\"\"\"\n",
    "Write a program to take two integers as input and output their sum.\n",
    "\n",
    "Sample Input:\n",
    "2\n",
    "8\n",
    "\n",
    "Sample Output:\n",
    "10\n",
    "\n",
    "** Remember, input() results in a string. **\n",
    "\n",
    "\"\"\"\n",
    "\n",
    "print((one := int(input())) + (two := int(input())))\n"
   ]
  },
  {
   "cell_type": "markdown",
   "metadata": {},
   "source": [
    "## Control Structures"
   ]
  },
  {
   "cell_type": "markdown",
   "metadata": {},
   "source": [
    "### Booleans & Comparisions\n",
    "- Another type in Python is the Boolean type. There are two Boolean values: True and False.\n",
    "- They can be created by comparing values, for instance by using the equal operator ==.\n",
    "- Be careful not to confuse assignment (one equals sign) with comparison (two equals signs).\n",
    "- Another comparison operator, the not equal operator (!=), evaluates to True if the items being compared aren't equal, and False if they are.\n",
    "- Comparison operators are also called Relational operators.\n",
    "- Python also has operators that determine whether one number (float or integer) is greater than or smaller than another. These operators are > and < respectively.\n",
    "- Different numeric types can also be compared, for example, integer and float.\n",
    "- The greater than or equal to, and smaller than or equal to operators are >= and <=.\n",
    "- They are the same as the strict greater than and smaller than operators, except that they return True when comparing equal numbers.\n",
    "- Greater than and smaller than operators can also be used to compare strings lexicographically (the alphabetical order of words is based on the alphabetical order of their component letters)."
   ]
  },
  {
   "cell_type": "markdown",
   "metadata": {},
   "source": [
    "### if Statements\n",
    "- You can use if statements to run code if a certain condition holds.\n",
    "- If an expression evaluates to True, some statements are carried out. Otherwise, they aren't carried out.\n",
    "- An if statement looks like this: <br>\n",
    "``` python\n",
    "    if expression:\n",
    "        statements\n",
    "```\n",
    "- Python uses indentation (white space at the beginning of a line) to delimit blocks of code. Depending on program's logic, indentation can be mandatory. As you can see, the statements in the if should be indented.\n",
    "- To perform more complex checks, if statements can be nested, one inside the other.\n",
    "- This means that the inner if statement is the statement part of the outer one. This is one way to see whether multiple conditions are satisfied.\n",
    "- Indentation is used to define the level of nesting."
   ]
  },
  {
   "cell_type": "code",
   "execution_count": null,
   "metadata": {},
   "outputs": [],
   "source": [
    "# Practice (will be added in the future)\n"
   ]
  },
  {
   "cell_type": "markdown",
   "metadata": {},
   "source": [
    "### else Statements\n",
    "- The if statement allows you to check a condition and run some statements, if the condition is True.\n",
    "- The else statement can be used to run some statements when the condition of the if statement is False.\n",
    "- Every if condition block can have only one else statement.\n",
    "- In order to make multiple checks, you can chain if and else statements.\n",
    "- Indentation determines which if/else statements the code blocks belong to.\n",
    "- Multiple if/else statements make the code long and not very readable.\n",
    "- The elif (short for else if) statement is a shortcut to use when chaining if and else statements, making the code shorter.\n",
    "- A series of if elif statements can have a final else block, which is called if none of the if or elif expressions is True.\n",
    "- The elif statement is equivalent to an else/if statement. It is used to make the code shorter, more readable, and avoid indentation increase."
   ]
  },
  {
   "cell_type": "code",
   "execution_count": null,
   "metadata": {},
   "outputs": [],
   "source": [
    "# Practice (will be added in the future)\n"
   ]
  },
  {
   "cell_type": "markdown",
   "metadata": {},
   "source": [
    "### Boolean Logic\n",
    "- Boolean logic is used to make more complicated conditions for if statements that rely on more than one condition.\n",
    "- Python's Boolean operators are and, or, and not.\n",
    "- The and operator takes two arguments, and evaluates as True if, and only if, both of its arguments are True. Otherwise, it evaluates to False.\n",
    "- Boolean operators can be used in expression as many times as needed.\n",
    "- The or operator also takes two arguments. It evaluates to True if either (or both) of its arguments are True, and False if both arguments are False\n",
    "- Besides values, you can also compare variables.\n",
    "- Unlike other operators we've seen so far, not only takes one argument, and inverts it.\n",
    "- The result of not True is False, and not False goes to True\n",
    "- You can chain multiple conditional statements in an if statement using the Boolean operators."
   ]
  },
  {
   "cell_type": "code",
   "execution_count": null,
   "metadata": {},
   "outputs": [],
   "source": [
    "# Practice (will be added in the future)\n"
   ]
  },
  {
   "cell_type": "markdown",
   "metadata": {},
   "source": [
    "### Multiple Operators & Conditions\n",
    "- Operator precedence is a very important concept in programming. It is an extension of the mathematical idea of order of operations (multiplication being performed before addition, etc.) to include other operators, such as those in Boolean logic.\n",
    "- The below code shows that == has a higher precedence than or\n",
    "- Python's order of operations is the same as that of normal mathematics: parentheses first, then exponentiation, then multiplication/division, and then addition/subtraction.\n",
    "- You can chain multiple conditional statements in an if statement using the Boolean operators.\n",
    "- You can use multiple and, or, not operators to chain multiple conditions together."
   ]
  },
  {
   "cell_type": "code",
   "execution_count": null,
   "metadata": {},
   "outputs": [],
   "source": [
    "# Practice (will be added in the future)\n"
   ]
  },
  {
   "cell_type": "markdown",
   "metadata": {},
   "source": [
    "### Lists\n",
    "- Lists are used to store items.\n",
    "- A list is created using square brackets with commas separating items.\n",
    "<br>\n",
    "    ```python\n",
    "    words = [\"Hello\", \"world\", \"!\"]\n",
    "    ```\n",
    "- A certain item in the list can be accessed by using its index in square brackets.\n",
    "<br>\n",
    "    ```python\n",
    "    print(words[0]) # prints Hello\n",
    "    ```\n",
    "- The first list item's index is 0, rather than 1, as might be expected.\n",
    "- Sometimes you need to create an empty list and populate it later during the program. \n",
    "- An empty list is created with an empty pair of square brackets.\n",
    "- In some code samples you might see a comma after the last item in the list. It's not mandatory, but perfectly valid.\n",
    "- Typically, a list will contain items of a single item type, but it is also possible to include several different types.\n",
    "- Lists can also be nested within other lists.\n",
    "- Nested lists can be used to represent 2D grids, such as matrices.\n",
    "- A matrix-like structure can be used in cases where you need to store data in row-column format.\n",
    "- Some types, such as strings, can be indexed like lists.\n",
    "- Indexing strings behaves as though you are indexing a list containing each character in the string.\n",
    "- Space (\" \") is also a symbol and has an index.\n",
    "- Trying to access a non-existing index will produce an error."
   ]
  },
  {
   "cell_type": "code",
   "execution_count": null,
   "metadata": {},
   "outputs": [],
   "source": [
    "# Practice (will be added in the future)\n"
   ]
  },
  {
   "cell_type": "markdown",
   "metadata": {},
   "source": [
    "### List Operations\n",
    "- The item at a certain index in a list can be reassigned.\n",
    "- You can replace the item with an item of a different type.\n",
    "- Lists can be added and multiplied in the same way as strings.\n",
    "- Lists and strings are similar in many ways - strings can be thought of as lists of characters that can't be changed.\n",
    "- To check if an item is in a list, the in operator can be used.\n",
    "- It returns True if the item occurs one or more times in the list, and False if it doesn't.\n",
    "- The in operator is also used to determine whether or not a string is a substring of another string.\n",
    "- To check if an item is not in a list, you can use the not operator in one of the following ways:"
   ]
  },
  {
   "cell_type": "code",
   "execution_count": null,
   "metadata": {},
   "outputs": [],
   "source": [
    "# Practice (will be added in the future)\n"
   ]
  },
  {
   "cell_type": "markdown",
   "metadata": {},
   "source": [
    "### List Functions\n",
    "- The append method adds an item to the end of an existing list.\n",
    "- The dot before append is there because it is a method of the list class.\n",
    "- To get the number of items in a list, you can use the len function.\n",
    "- Unlike the index of the items, len does not start with 0. So, the list above contains 5 items, meaning len will return 5.\n",
    "- len is written before the list it is being called on, without a dot.\n",
    "- The insert method is similar to append, except that it allows you to insert a new item at any position in the list, as opposed to just at the end.\n",
    "- Elements, that are after the inserted item, are shifted to the right.\n",
    "- The index method finds the first occurrence of a list item and returns its index.\n",
    "- If the item isn't in the list, it raises a ValueError.\n",
    "- There are a few more useful functions and methods for lists.\n",
    "- max(list): Returns the list item with the maximum value\n",
    "- min(list): Returns the list item with minimum value\n",
    "- list.count(item): Returns a count of how many times an item occurs in a list\n",
    "- list.remove(item): Removes an object from a list\n",
    "- list.reverse(): Reverses items in a list."
   ]
  },
  {
   "cell_type": "code",
   "execution_count": null,
   "metadata": {},
   "outputs": [],
   "source": [
    "# Practice (will be added in the future)\n"
   ]
  },
  {
   "cell_type": "markdown",
   "metadata": {},
   "source": [
    "### while Loops\n",
    "- A while loop is used to repeat a block of code multiple times.\n"
   ]
  },
  {
   "cell_type": "code",
   "execution_count": null,
   "metadata": {},
   "outputs": [],
   "source": [
    "# Practice (will be added in the future)\n"
   ]
  },
  {
   "cell_type": "markdown",
   "metadata": {},
   "source": [
    "### for Loops"
   ]
  },
  {
   "cell_type": "code",
   "execution_count": null,
   "metadata": {},
   "outputs": [],
   "source": [
    "# Practice (will be added in the future)\n"
   ]
  },
  {
   "cell_type": "markdown",
   "metadata": {},
   "source": [
    "### Range"
   ]
  },
  {
   "cell_type": "code",
   "execution_count": null,
   "metadata": {},
   "outputs": [],
   "source": [
    "# Practice (will be added in the future)\n"
   ]
  },
  {
   "cell_type": "code",
   "execution_count": null,
   "metadata": {},
   "outputs": [],
   "source": [
    "# Code Project\n",
    "\n"
   ]
  }
 ],
 "metadata": {
  "kernelspec": {
   "display_name": "Python 3.10.5 64-bit",
   "language": "python",
   "name": "python3"
  },
  "language_info": {
   "codemirror_mode": {
    "name": "ipython",
    "version": 3
   },
   "file_extension": ".py",
   "mimetype": "text/x-python",
   "name": "python",
   "nbconvert_exporter": "python",
   "pygments_lexer": "ipython3",
   "version": "3.10.5"
  },
  "orig_nbformat": 4,
  "vscode": {
   "interpreter": {
    "hash": "26de051ba29f2982a8de78e945f0abaf191376122a1563185a90213a26c5da77"
   }
  }
 },
 "nbformat": 4,
 "nbformat_minor": 2
}
