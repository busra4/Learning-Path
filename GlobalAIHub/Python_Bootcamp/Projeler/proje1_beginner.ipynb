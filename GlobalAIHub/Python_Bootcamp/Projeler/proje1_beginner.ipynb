{
 "cells": [
  {
   "cell_type": "markdown",
   "metadata": {},
   "source": [
    "# Global AI Hub - Python Bootcamp Proje 1\n",
    "\n",
    "Bu projede bir öğrenci not sistemi oluşturacaksınız. Sizden istenilenler:\n",
    "\n",
    "- Kendinize bir ders belirleyiniz. (Matematik,Fizik, Lineer Cebir vb.)\n",
    "- Not aralığınızı oluşturunuz (100-80 ⇒ A, 79-70 ⇒ B vb.)\n",
    "- Öğrenci Bilgilerini (Ad, Soyad, Okul No, sınav puanı) girebileceğiniz ve bu bilgilerin tutulabileceği bir sistem oluşturunuz.\n",
    "- Girilen bilgilerden yola çıkarak öğrencinin dersi geçip geçmediğini göstermesi gerekmektedir.\n",
    "- Öğrenci dersi geçti ise öğrencinin bilgilerinin tutulduğu alana “Geçti” yazısı, öğrenci dersi geçemedi ise “kaldı” yazısını göstermesi gerekmektedir.\n",
    "- Notları girilen öğrencilerden dersi geçenleri ve geçmeyenleri gösteren bir Dataframe oluşturunuz. \n",
    "- Oluşturulan Dataframe’i Excel tablosuna dönüştürünüz."
   ]
  },
  {
   "cell_type": "markdown",
   "metadata": {},
   "source": [
    "## Tanımlamalar\n",
    "- Ders olarak Matematik seçtim ve not aralıkları A: 100-85, B: 85-70, C: 70-55, D: 55-40, F: 40-0 aralıklarıdır."
   ]
  },
  {
   "cell_type": "code",
   "execution_count": 1,
   "metadata": {},
   "outputs": [],
   "source": [
    "course = \"Mathematics\"\n",
    "grade_ranges = {\"A\": list(range(85,101)), \"B\": list(range(70,85)), \"C\": list(range(55,70)), \"D\": list(range(40,55)), \"F\": list(range(40))}"
   ]
  },
  {
   "cell_type": "markdown",
   "metadata": {},
   "source": [
    "## Öğrenci Kayıt\n",
    "- Öğrencileri sistem veritabanına dictionary mantığıyla ekliyorum. Burda okul no key olarak öğrenci ismi ve matematik sınavından aldığı notta value olarak liste şeklinde kaydediliyor.\n",
    "- Value'ları liste olarak atamamın sebebi sonrasında herhangi bir yanlışlık olması dahilinde değiştirilebilir olması için."
   ]
  },
  {
   "cell_type": "code",
   "execution_count": 2,
   "metadata": {},
   "outputs": [],
   "source": [
    "def adding_info_to_database(course, database):\n",
    "    student_name = input(\"Öğrencinin tam adını giriniz: \").capitalize()\n",
    "    student_school_id = int(input(f\"{student_name} adlı öğrencinin okul numarasını giriniz: \"))\n",
    "    student_exam_grade = int(input(f\"{student_name} adlı öğrencinin {course.capitalize()} dersinin notunu giriniz: \"))\n",
    "    database[student_school_id] = [student_name, student_exam_grade]\n",
    "    print(f\"{student_school_id} no'lu öğrenci kaydı yapılmıştır.\")\n",
    "    return database"
   ]
  },
  {
   "cell_type": "markdown",
   "metadata": {},
   "source": [
    "## Öğrenci Arama\n",
    "- Öğrencilerin veritabanında olup olmadığının kontrolünün yapıldığı fonksiyon. Eğer öğrenci varsa çıktı olarak \"ogrenci_isim kayıtlı olarak sistemde var. Bilgileri: ogrenci_okul_no, ogrenci_isim, ogrenci_sinav_puani\" ekrana yazmaktadır. Eğer yoksa kayıt istenip istenmediği sorularak evet/hayır cevabına göre kayıdı yapılıyor veya yapılmıyor."
   ]
  },
  {
   "cell_type": "code",
   "execution_count": 3,
   "metadata": {},
   "outputs": [],
   "source": [
    "def searching_student(student_school_id, database):\n",
    "    try:\n",
    "        temp = database[student_school_id]  # dictionary içindeki school idye sahip öğrencinin kaydını çekmekte ve temp değişkeninde tutmaktadır.\n",
    "        print(f\"{temp[0]} kayıtlı olarak sistemde var. Bilgileri: {student_school_id}, {temp[0]}, {temp[1]}\")\n",
    "    except:\n",
    "        print(f\"{student_school_id} ile bir öğrenci bulunmamaktadır.\")\n",
    "        yes_no = input(\"Öğrenciyi kayıt etmek ister misiniz? \").lower()\n",
    "        if yes_no in [\"evet\", \"yes\"]:\n",
    "            student_name = input(\"Öğrencinin ismi? \")\n",
    "            exam_grade = int(input(\"Sınavdan aldığı not nedir? \"))\n",
    "            database = adding_info_to_database(student_name, student_school_id, exam_grade, database)\n",
    "        "
   ]
  },
  {
   "cell_type": "markdown",
   "metadata": {},
   "source": [
    "## Dersi Geçti/Geçmedi\n",
    "- Kayıt edilen öğrencilerin otomatik olarak harf notları hesaplanıp onlar üzerinden dersi geçip geçmedikleri ekrana ve harf notlarıyla beraber dictionarydeki yerlerine yazılmaktadır."
   ]
  },
  {
   "cell_type": "code",
   "execution_count": 4,
   "metadata": {},
   "outputs": [],
   "source": [
    "def passed_not_passed(letter_range, database):\n",
    "    for i in database:\n",
    "        temp = database[i]\n",
    "        for j in range(len(list(letter_range.values()))):\n",
    "            if temp[1] in list(letter_range.values())[j]:\n",
    "                letter = list(letter_range.keys())[j]\n",
    "                if letter != \"F\":\n",
    "                    database[i] = [temp[0], temp[1], letter, \"passed\"]\n",
    "                    print(f\"{i} no'lu öğrenci dersi geçti.\")\n",
    "                else:\n",
    "                    database[i] = [temp[0], temp[1], letter, \"not passed\"]\n",
    "                    print(f\"{i} no'lu öğrenci dersi geçemedi.\")\n",
    "    return database"
   ]
  },
  {
   "cell_type": "markdown",
   "metadata": {},
   "source": [
    "## Veritabanının Dataframe'e Çevrilmesi\n",
    "- Bu fonksiyon ile otomatik olarak tüm veritabanı daha kolay analiz yapılabilmesi için dataframe çevrilmektedir."
   ]
  },
  {
   "cell_type": "code",
   "execution_count": 5,
   "metadata": {},
   "outputs": [],
   "source": [
    "def dict_to_df(database):\n",
    "    import pandas as pd\n",
    "    student_name = []\n",
    "    student_no = []\n",
    "    student_grade = []\n",
    "    student_grade_letter = []\n",
    "    student_passed_not_passed = []\n",
    "    for i in database:\n",
    "        temp = database[i]\n",
    "        student_no.append(i)\n",
    "        student_name.append(temp[0])\n",
    "        student_grade.append(temp[1])\n",
    "        student_grade_letter.append(temp[2])\n",
    "        if temp[3] == \"passed\":\n",
    "            student_passed_not_passed.append(1)\n",
    "        else:\n",
    "            student_passed_not_passed.append(0)\n",
    "\n",
    "    dataframe_dict = {\"Student Name\": student_name, \"Student School No\": student_no, \"Student Mathematics Grade\": student_grade, \"Student Grade Letter\": student_grade_letter, \"Student Passed/Not Passed\": student_passed_not_passed}\n",
    "    dataframe = pd.DataFrame(dataframe_dict)\n",
    "    print(\"Dönüşüm tamamlandı. Dataframe'in içindeki verilerden bazıları:\")\n",
    "    print(dataframe.head())\n",
    "    \n",
    "    return dataframe"
   ]
  },
  {
   "cell_type": "markdown",
   "metadata": {},
   "source": [
    "## Dataframe'i Excel (CSV) Dosyasına Çevrilmesi\n",
    "- Bu fonksiyon ile oluşturulan dataframe excel (csv) dosyası olarak çıktı alınması sağlanmaktadır."
   ]
  },
  {
   "cell_type": "code",
   "execution_count": 6,
   "metadata": {},
   "outputs": [],
   "source": [
    "def df_to_excel(dataframe):\n",
    "    import pandas as pd\n",
    "    dataframe.to_csv(\"school_database.csv\", sep=\",\", index=False)\n",
    "    print(\"Dataframe başarılı bir şekilde Excel (csv) dosyası olarak dışarıya aktarılmıştır.\")\n"
   ]
  },
  {
   "cell_type": "markdown",
   "metadata": {},
   "source": [
    "## Öğrenci Bilgilerinin Kaydı ve Fonksiyonların Çalıştırılması\n",
    "- Bu kısımda kullanıcıdan (burda öğretmenin giriş yaptığı varsayılmıştır) öğrenci bilgileri istenip sonrasında kaydı yapılacaktır. İsteğine ve şartlara göre fonksiyonları kullanılması sağlanmıştır.\n",
    "- En az 1 kayıt yapılıp diğer işlemleri yapılmasına izin verilmektedir."
   ]
  },
  {
   "cell_type": "code",
   "execution_count": 7,
   "metadata": {},
   "outputs": [
    {
     "name": "stdout",
     "output_type": "stream",
     "text": [
      "1 no'lu öğrenci kaydı yapılmıştır.\n",
      "A kayıtlı olarak sistemde var. Bilgileri: 1, A, 20\n",
      "Arama yerinden çıkılmıştır.\n",
      "Sistemden çıkış yapılmıştır.\n"
     ]
    }
   ],
   "source": [
    "school_database = {}\n",
    "while True:\n",
    "    yes_no = input(\"Öğrenci ekleyecek misiniz? \").lower()\n",
    "    if yes_no in [\"yes\", \"evet\"]:\n",
    "        school_database = adding_info_to_database(course=course, database=school_database)\n",
    "    else:\n",
    "        yes_no = input(\"Sistemden çıkmak ister misiniz? \").lower()\n",
    "        if yes_no in [\"yes\", \"evet\"]:\n",
    "            print(\"Sistemden çıkış yapılmıştır.\")\n",
    "            break\n",
    "        yes_no = input(\"Sistemde arama yapacak mısınız? \").lower()\n",
    "        if yes_no in [\"yes\", \"evet\"]:\n",
    "            while True:\n",
    "                s_no = int(input(\"Öğrencinin okul numarasını giriniz: \"))\n",
    "                searching_student(s_no, school_database)\n",
    "                yes_no = input(\"Yeni arama yapacak mısınız? \").lower()\n",
    "                if yes_no not in [\"yes\", \"evet\"]:\n",
    "                    print(\"Arama yerinden çıkılmıştır.\")\n",
    "                    break\n",
    "        yes_no = input(\"Öğrencilerin geçip geçmediğini kontrol edecek misiniz? \").lower()\n",
    "        if yes_no in [\"yes\", \"evet\"]:\n",
    "            school_database = passed_not_passed(letter_range=grade_ranges, database=school_database)\n",
    "            yes_no = input(\"Veritabanını dataframe çevirmek ister misiniz? \").lower()\n",
    "            if yes_no in [\"yes\", \"evet\"]:\n",
    "                school_dataframe = dict_to_df(database=school_database)\n",
    "                yes_no = input(\"Excel (csv) dosyası olarak çıktı almak ister misiniz? \").lower()\n",
    "            if yes_no in [\"yes\", \"evet\"]:\n",
    "                df_to_excel(dataframe=school_dataframe)"
   ]
  }
 ],
 "metadata": {
  "kernelspec": {
   "display_name": "Python 3.10.5 64-bit",
   "language": "python",
   "name": "python3"
  },
  "language_info": {
   "codemirror_mode": {
    "name": "ipython",
    "version": 3
   },
   "file_extension": ".py",
   "mimetype": "text/x-python",
   "name": "python",
   "nbconvert_exporter": "python",
   "pygments_lexer": "ipython3",
   "version": "3.10.5"
  },
  "orig_nbformat": 4,
  "vscode": {
   "interpreter": {
    "hash": "26de051ba29f2982a8de78e945f0abaf191376122a1563185a90213a26c5da77"
   }
  }
 },
 "nbformat": 4,
 "nbformat_minor": 2
}
