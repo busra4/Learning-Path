{
  "cells": [
    {
      "cell_type": "markdown",
      "id": "15177c1c",
      "metadata": {
        "id": "15177c1c"
      },
      "source": [
        "#Chapter 3: Data cleaning exercise\n",
        "\n",
        "### Sales department performance analysis\n",
        "\n",
        "The HR department wants to analyze the performance of the employees in the sales department.\n",
        "\n",
        "### Data Reading\n",
        "Rachel wrote a text file employee_revenue.txt including all necessary information, but she needs help to extract the necessary information.\n",
        "\n",
        "Start by uploading the employee_revenue file to the working directory.\n",
        "\n",
        "📌 Use the .read() method to open the text file in read mode and assign it to the variable \"data\".\n"
      ]
    },
    {
      "cell_type": "code",
      "execution_count": 1,
      "id": "da79a8da",
      "metadata": {
        "colab": {
          "base_uri": "https://localhost:8080/",
          "height": 17
        },
        "id": "da79a8da",
        "outputId": "de60b8cb-3977-4a43-df3a-4529cc28dfae"
      },
      "outputs": [],
      "source": [
        "#Open the file in read mode\n",
        "file = open(\"employee_revenue.txt\", \"r\")\n",
        "data = file.read()"
      ]
    },
    {
      "cell_type": "code",
      "execution_count": 2,
      "id": "75a5de52",
      "metadata": {
        "id": "75a5de52"
      },
      "outputs": [
        {
          "name": "stdout",
          "output_type": "stream",
          "text": [
            "  Ben made 300 calls and generated 2400 dollars last Month with an 8$ average deal size.  \n",
            "omer called 10 times and Sold 2 courses generated 60 dollars last month with a 6$ average deal size.\n",
            "   KAren called 500 people and achieved success by GETting 24$ average deal size, got 12000 dollars revenue.     \n",
            "Celine with 70 calls, made 2275 dollars and 32$ average deal size IN the previous month.  \n",
            "     Sue called 100 people and earned 500 Dollars in REvenue and an AVERAGE DEAL SIZE of 5$ Last month.\n",
            "Bora called 100 people generated 770 dollars last month, his average deal size was 25$.  \n",
            "Rose made 600 phone calls and GENERATING 4000 dollars a past month 25$ average deal SIZE. \n",
            "Ellen made 800 calls and generated 6000 dollars a prior mONTH and reached 40$ the average deal size. \n",
            " bob made 200 phone calls, helped to make a proGress and generated 800 dollars LAST MONTH and gaining 15$ average deal size.\n",
            "Taylor, with 450 calls generated 1200 dollars in revenue pASt month, and the average deal size was 10$. \n",
            "  JuDE made 80 calls and earned 500 dollars for the company last month, her average deal size was 12$.\n",
            "\n"
          ]
        }
      ],
      "source": [
        "#Print the data\n",
        "print(data)"
      ]
    },
    {
      "cell_type": "markdown",
      "id": "33d4f7ef",
      "metadata": {
        "id": "33d4f7ef"
      },
      "source": [
        "### Data Cleaning\n",
        "\n",
        "You can see that the data needs to be cleaned and information has to be extracted from these lines. \n",
        "\n",
        "To be able to clean the data, you need to separate the text into lines.\n",
        "\n",
        "📌 Use the .splitlines() method."
      ]
    },
    {
      "cell_type": "code",
      "execution_count": 3,
      "id": "9a1a651d",
      "metadata": {
        "id": "9a1a651d"
      },
      "outputs": [
        {
          "name": "stdout",
          "output_type": "stream",
          "text": [
            "  Ben made 300 calls and generated 2400 dollars last Month with an 8$ average deal size.  \n",
            "omer called 10 times and Sold 2 courses generated 60 dollars last month with a 6$ average deal size.\n",
            "   KAren called 500 people and achieved success by GETting 24$ average deal size, got 12000 dollars revenue.     \n",
            "Celine with 70 calls, made 2275 dollars and 32$ average deal size IN the previous month.  \n",
            "     Sue called 100 people and earned 500 Dollars in REvenue and an AVERAGE DEAL SIZE of 5$ Last month.\n",
            "Bora called 100 people generated 770 dollars last month, his average deal size was 25$.  \n",
            "Rose made 600 phone calls and GENERATING 4000 dollars a past month 25$ average deal SIZE. \n",
            "Ellen made 800 calls and generated 6000 dollars a prior mONTH and reached 40$ the average deal size. \n",
            " bob made 200 phone calls, helped to make a proGress and generated 800 dollars LAST MONTH and gaining 15$ average deal size.\n",
            "Taylor, with 450 calls generated 1200 dollars in revenue pASt month, and the average deal size was 10$. \n",
            "  JuDE made 80 calls and earned 500 dollars for the company last month, her average deal size was 12$.\n"
          ]
        }
      ],
      "source": [
        "#Seperate the data into lines\n",
        "lines = data.splitlines()\n",
        "splited_data = data.splitlines()\n",
        "for i in splited_data:\n",
        "    print(i)"
      ]
    },
    {
      "cell_type": "markdown",
      "id": "CKkeig2poz7w",
      "metadata": {
        "id": "CKkeig2poz7w"
      },
      "source": [
        "### Clean the data line by line\n",
        "\n",
        "Start to clean the data for the first line.\n",
        "\n",
        "📌 Use the .strip() method to remove the whitespaces from the edges of the string."
      ]
    },
    {
      "cell_type": "code",
      "execution_count": 4,
      "id": "2332622c",
      "metadata": {
        "id": "2332622c"
      },
      "outputs": [
        {
          "name": "stdout",
          "output_type": "stream",
          "text": [
            "Ben made 300 calls and generated 2400 dollars last Month with an 8$ average deal size.\n",
            "omer called 10 times and Sold 2 courses generated 60 dollars last month with a 6$ average deal size.\n",
            "KAren called 500 people and achieved success by GETting 24$ average deal size, got 12000 dollars revenue.\n",
            "Celine with 70 calls, made 2275 dollars and 32$ average deal size IN the previous month.\n",
            "Sue called 100 people and earned 500 Dollars in REvenue and an AVERAGE DEAL SIZE of 5$ Last month.\n",
            "Bora called 100 people generated 770 dollars last month, his average deal size was 25$.\n",
            "Rose made 600 phone calls and GENERATING 4000 dollars a past month 25$ average deal SIZE.\n",
            "Ellen made 800 calls and generated 6000 dollars a prior mONTH and reached 40$ the average deal size.\n",
            "bob made 200 phone calls, helped to make a proGress and generated 800 dollars LAST MONTH and gaining 15$ average deal size.\n",
            "Taylor, with 450 calls generated 1200 dollars in revenue pASt month, and the average deal size was 10$.\n",
            "JuDE made 80 calls and earned 500 dollars for the company last month, her average deal size was 12$.\n"
          ]
        }
      ],
      "source": [
        "#Remove the whitespaces from the edges\n",
        "for i in range(len(splited_data)):\n",
        "    splited_data[i] = splited_data[i].strip()\n",
        "    print(splited_data[i])"
      ]
    },
    {
      "cell_type": "markdown",
      "id": "ed90bfc6",
      "metadata": {
        "id": "ed90bfc6"
      },
      "source": [
        "Next, you need to fix the capitalization issues.\n",
        "\n",
        "📌 Use the .lower() method to convert the text to lowercase.\n",
        "\n",
        "📌 Then use the .capitalize() method to capitalize the first letter."
      ]
    },
    {
      "cell_type": "code",
      "execution_count": 5,
      "id": "ef8bca74",
      "metadata": {
        "id": "ef8bca74"
      },
      "outputs": [
        {
          "name": "stdout",
          "output_type": "stream",
          "text": [
            "ben made 300 calls and generated 2400 dollars last month with an 8$ average deal size.\n",
            "omer called 10 times and sold 2 courses generated 60 dollars last month with a 6$ average deal size.\n",
            "karen called 500 people and achieved success by getting 24$ average deal size, got 12000 dollars revenue.\n",
            "celine with 70 calls, made 2275 dollars and 32$ average deal size in the previous month.\n",
            "sue called 100 people and earned 500 dollars in revenue and an average deal size of 5$ last month.\n",
            "bora called 100 people generated 770 dollars last month, his average deal size was 25$.\n",
            "rose made 600 phone calls and generating 4000 dollars a past month 25$ average deal size.\n",
            "ellen made 800 calls and generated 6000 dollars a prior month and reached 40$ the average deal size.\n",
            "bob made 200 phone calls, helped to make a progress and generated 800 dollars last month and gaining 15$ average deal size.\n",
            "taylor, with 450 calls generated 1200 dollars in revenue past month, and the average deal size was 10$.\n",
            "jude made 80 calls and earned 500 dollars for the company last month, her average deal size was 12$.\n"
          ]
        }
      ],
      "source": [
        "#Convert the string to lowercase\n",
        "for i in range(len(splited_data)):\n",
        "    splited_data[i] = splited_data[i].lower()\n",
        "    print(splited_data[i])"
      ]
    },
    {
      "cell_type": "code",
      "execution_count": 6,
      "id": "d4be9443",
      "metadata": {
        "id": "d4be9443"
      },
      "outputs": [
        {
          "name": "stdout",
          "output_type": "stream",
          "text": [
            "Ben made 300 calls and generated 2400 dollars last month with an 8$ average deal size.\n",
            "Omer called 10 times and sold 2 courses generated 60 dollars last month with a 6$ average deal size.\n",
            "Karen called 500 people and achieved success by getting 24$ average deal size, got 12000 dollars revenue.\n",
            "Celine with 70 calls, made 2275 dollars and 32$ average deal size in the previous month.\n",
            "Sue called 100 people and earned 500 dollars in revenue and an average deal size of 5$ last month.\n",
            "Bora called 100 people generated 770 dollars last month, his average deal size was 25$.\n",
            "Rose made 600 phone calls and generating 4000 dollars a past month 25$ average deal size.\n",
            "Ellen made 800 calls and generated 6000 dollars a prior month and reached 40$ the average deal size.\n",
            "Bob made 200 phone calls, helped to make a progress and generated 800 dollars last month and gaining 15$ average deal size.\n",
            "Taylor, with 450 calls generated 1200 dollars in revenue past month, and the average deal size was 10$.\n",
            "Jude made 80 calls and earned 500 dollars for the company last month, her average deal size was 12$.\n"
          ]
        }
      ],
      "source": [
        "#Capitalize the first character\n",
        "for i in range(len(splited_data)):\n",
        "    splited_data[i] = splited_data[i].capitalize()\n",
        "    print(splited_data[i])"
      ]
    },
    {
      "cell_type": "markdown",
      "id": "f89b01c4",
      "metadata": {
        "id": "f89b01c4"
      },
      "source": [
        "### Information Extraction\n",
        "\n",
        "To extract the information, you need to split the sentence into words. \n",
        "\n",
        "📌 Use the .split() method.\n"
      ]
    },
    {
      "cell_type": "code",
      "execution_count": 7,
      "id": "04ede2fd",
      "metadata": {
        "id": "04ede2fd"
      },
      "outputs": [
        {
          "name": "stdout",
          "output_type": "stream",
          "text": [
            "['Ben', 'made', '300', 'calls', 'and', 'generated', '2400', 'dollars', 'last', 'month', 'with', 'an', '8$', 'average', 'deal', 'size.']\n",
            "['Omer', 'called', '10', 'times', 'and', 'sold', '2', 'courses', 'generated', '60', 'dollars', 'last', 'month', 'with', 'a', '6$', 'average', 'deal', 'size.']\n",
            "['Karen', 'called', '500', 'people', 'and', 'achieved', 'success', 'by', 'getting', '24$', 'average', 'deal', 'size,', 'got', '12000', 'dollars', 'revenue.']\n",
            "['Celine', 'with', '70', 'calls,', 'made', '2275', 'dollars', 'and', '32$', 'average', 'deal', 'size', 'in', 'the', 'previous', 'month.']\n",
            "['Sue', 'called', '100', 'people', 'and', 'earned', '500', 'dollars', 'in', 'revenue', 'and', 'an', 'average', 'deal', 'size', 'of', '5$', 'last', 'month.']\n",
            "['Bora', 'called', '100', 'people', 'generated', '770', 'dollars', 'last', 'month,', 'his', 'average', 'deal', 'size', 'was', '25$.']\n",
            "['Rose', 'made', '600', 'phone', 'calls', 'and', 'generating', '4000', 'dollars', 'a', 'past', 'month', '25$', 'average', 'deal', 'size.']\n",
            "['Ellen', 'made', '800', 'calls', 'and', 'generated', '6000', 'dollars', 'a', 'prior', 'month', 'and', 'reached', '40$', 'the', 'average', 'deal', 'size.']\n",
            "['Bob', 'made', '200', 'phone', 'calls,', 'helped', 'to', 'make', 'a', 'progress', 'and', 'generated', '800', 'dollars', 'last', 'month', 'and', 'gaining', '15$', 'average', 'deal', 'size.']\n",
            "['Taylor,', 'with', '450', 'calls', 'generated', '1200', 'dollars', 'in', 'revenue', 'past', 'month,', 'and', 'the', 'average', 'deal', 'size', 'was', '10$.']\n",
            "['Jude', 'made', '80', 'calls', 'and', 'earned', '500', 'dollars', 'for', 'the', 'company', 'last', 'month,', 'her', 'average', 'deal', 'size', 'was', '12$.']\n"
          ]
        }
      ],
      "source": [
        "#Split the sentece into words\n",
        "for i in range(len(splited_data)):\n",
        "    splited_data[i] = splited_data[i].split()\n",
        "    print(splited_data[i])"
      ]
    },
    {
      "cell_type": "markdown",
      "id": "9138eb5b",
      "metadata": {
        "id": "9138eb5b"
      },
      "source": [
        "You might noticed that the first element in the list is the name and the third element is the number of calls.\n",
        "\n",
        "📌 Use the indeces to extract the name and number of calls."
      ]
    },
    {
      "cell_type": "code",
      "execution_count": 8,
      "id": "897c59e5",
      "metadata": {
        "id": "897c59e5"
      },
      "outputs": [
        {
          "name": "stdout",
          "output_type": "stream",
          "text": [
            "Ben\n",
            "Omer\n",
            "Karen\n",
            "Celine\n",
            "Sue\n",
            "Bora\n",
            "Rose\n",
            "Ellen\n",
            "Bob\n",
            "Taylor\n",
            "Jude\n"
          ]
        }
      ],
      "source": [
        "#Use the index 0 to access the name element\n",
        "names_list = []\n",
        "for i in range(len(splited_data)):\n",
        "    splited_data[i][0] = splited_data[i][0].replace(\",\", \"\")\n",
        "    print(splited_data[i][0])\n",
        "    names_list.append(splited_data[i][0])"
      ]
    },
    {
      "cell_type": "code",
      "execution_count": 9,
      "id": "98103332",
      "metadata": {
        "id": "98103332"
      },
      "outputs": [
        {
          "name": "stdout",
          "output_type": "stream",
          "text": [
            "300\n",
            "10\n",
            "500\n",
            "70\n",
            "100\n",
            "100\n",
            "600\n",
            "800\n",
            "200\n",
            "450\n",
            "80\n"
          ]
        }
      ],
      "source": [
        "#Use the index 2 to access the number of calls element\n",
        "calls_list = []\n",
        "for i in range(len(splited_data)):\n",
        "    print(splited_data[i][2])\n",
        "    calls_list.append(splited_data[i][2])"
      ]
    },
    {
      "cell_type": "markdown",
      "id": "etif7Kb3tEUC",
      "metadata": {
        "id": "etif7Kb3tEUC"
      },
      "source": [
        "So far so good!\n",
        "\n",
        "But as you can see the sentence order is not the same after the 7th element.\n",
        "\n",
        "To extract the average deal size you need to come up with a different approach. You can use the \"$\" sign to find the corresponding element.\n",
        "\n",
        "📌 Loop over the list to find the element that includes the \"$\" sign.\n",
        "\n",
        "📌 Then, use the .split() method to divide the string into the number and the $ sign."
      ]
    },
    {
      "cell_type": "code",
      "execution_count": 10,
      "id": "443a9ddf",
      "metadata": {
        "id": "443a9ddf"
      },
      "outputs": [
        {
          "name": "stdout",
          "output_type": "stream",
          "text": [
            "Ben has average deal size 8 dollars.\n",
            "Omer has average deal size 6 dollars.\n",
            "Karen has average deal size 24 dollars.\n",
            "Celine has average deal size 32 dollars.\n",
            "Sue has average deal size 5 dollars.\n",
            "Bora has average deal size 25 dollars.\n",
            "Rose has average deal size 25 dollars.\n",
            "Ellen has average deal size 40 dollars.\n",
            "Bob has average deal size 15 dollars.\n",
            "Taylor has average deal size 10 dollars.\n",
            "Jude has average deal size 12 dollars.\n"
          ]
        }
      ],
      "source": [
        "average_deal_size_list = []\n",
        "for i in range(len(splited_data)):\n",
        "  for y in range(len(splited_data[i])):\n",
        "    \n",
        "    #Find the element with the \"$\" sign\n",
        "    if \"$\" in splited_data[i][y]:\n",
        "      \n",
        "      #Divide the number from it\n",
        "      splited_data[i][y] = splited_data[i][y].split(\"$\")[0]\n",
        "      average_deal_size_list.append(splited_data[i][y])\n",
        "      \n",
        "  #Print the average deal size\n",
        "  print(f\"{names_list[i]} has average deal size {average_deal_size_list[i]} dollars.\")    \n",
        "\n"
      ]
    },
    {
      "cell_type": "markdown",
      "id": "1332df7e",
      "metadata": {
        "id": "1332df7e"
      },
      "source": [
        "Similarly, we can use the string \"dollars\" to extract the revenue, which is the element right before \"dollars\".\n",
        "\n",
        "📌 Use the .index() method to identify the index for the \"dollars\" element.\n",
        "\n",
        "📌 Then, use this index to specify and extract the revenue."
      ]
    },
    {
      "cell_type": "code",
      "execution_count": 11,
      "id": "a00945b0",
      "metadata": {
        "id": "a00945b0"
      },
      "outputs": [
        {
          "name": "stdout",
          "output_type": "stream",
          "text": [
            "Ben has revenue 2400 dollars.\n",
            "Omer has revenue 60 dollars.\n",
            "Karen has revenue 12000 dollars.\n",
            "Celine has revenue 2275 dollars.\n",
            "Sue has revenue 500 dollars.\n",
            "Bora has revenue 770 dollars.\n",
            "Rose has revenue 4000 dollars.\n",
            "Ellen has revenue 6000 dollars.\n",
            "Bob has revenue 800 dollars.\n",
            "Taylor has revenue 1200 dollars.\n",
            "Jude has revenue 500 dollars.\n"
          ]
        }
      ],
      "source": [
        "revenue_list = []\n",
        "for i in range(len(splited_data)):\n",
        "    #Find the index of element \"dollars\"\n",
        "    temp_var = splited_data[i].index(\"dollars\")\n",
        "    \n",
        "    #Subtract one from the index to identify the index of the revenue element\n",
        "    revenue_list.append(splited_data[i][temp_var-1]) \n",
        "    \n",
        "    #Extract and print the revenue\n",
        "    print(f\"{names_list[i]} has revenue {revenue_list[i]} dollars.\")\n"
      ]
    },
    {
      "cell_type": "markdown",
      "id": "537ed4c2",
      "metadata": {
        "id": "537ed4c2"
      },
      "source": [
        "Great! You extracted all necessary information.\n",
        "\n",
        "📌 Check the types of the data."
      ]
    },
    {
      "cell_type": "code",
      "execution_count": 12,
      "id": "SwAyLOAInasY",
      "metadata": {
        "id": "SwAyLOAInasY"
      },
      "outputs": [
        {
          "name": "stdout",
          "output_type": "stream",
          "text": [
            "Names' type is <class 'str'>\n",
            "Calls' type is <class 'str'>\n",
            "Average Deal Size' type is <class 'str'>\n",
            "Revenue' type is <class 'str'>\n"
          ]
        }
      ],
      "source": [
        "#Check the types\n",
        "print(f\"Names' type is {type(names_list[0])}\")\n",
        "print(f\"Calls' type is {type(calls_list[0])}\")\n",
        "print(f\"Average Deal Size' type is {type(average_deal_size_list[0])}\")\n",
        "print(f\"Revenue' type is {type(revenue_list[0])}\")\n"
      ]
    },
    {
      "cell_type": "markdown",
      "id": "08f5b5fd",
      "metadata": {
        "id": "08f5b5fd"
      },
      "source": [
        "As you can see, we have the type string for all the data, but the average deal size, number of calls, and the revenue need to be integers. \n",
        "\n",
        "📌 Convert the data using the int() function and check again."
      ]
    },
    {
      "cell_type": "code",
      "execution_count": 13,
      "id": "5f42e3f0",
      "metadata": {
        "colab": {
          "base_uri": "https://localhost:8080/",
          "height": 17
        },
        "id": "5f42e3f0",
        "outputId": "acab915b-2771-4de7-aad1-093b39f4b058"
      },
      "outputs": [
        {
          "name": "stdout",
          "output_type": "stream",
          "text": [
            "Calls' type is <class 'int'>\n",
            "Average Deal Size' type is <class 'int'>\n",
            "Revenue' type is <class 'int'>\n"
          ]
        }
      ],
      "source": [
        "#Convert the datatypes of average deal size, number of calls, and revenue\n",
        "for i in range(len(calls_list)):\n",
        "    calls_list[i] = int(calls_list[i])\n",
        "    average_deal_size_list[i] = int(average_deal_size_list[i])\n",
        "    revenue_list[i] = int(revenue_list[i])\n",
        "\n",
        "#Print out the information again\n",
        "print(f\"Calls' type is {type(calls_list[0])}\")\n",
        "print(f\"Average Deal Size' type is {type(average_deal_size_list[0])}\")\n",
        "print(f\"Revenue' type is {type(revenue_list[0])}\")"
      ]
    },
    {
      "cell_type": "markdown",
      "id": "62628590",
      "metadata": {},
      "source": [
        "\n",
        "<span style=\"color:red\">!!Done tasks below at the above!!</span>"
      ]
    },
    {
      "cell_type": "markdown",
      "id": "0b194713",
      "metadata": {
        "id": "0b194713"
      },
      "source": [
        "Now, you need to apply all the methods and functions to the list that contains the different strings of all employees.\n",
        "\n",
        "📌 Create an empty lists for storing names, number of calls, average deal sizes, and revenues.\n",
        "\n",
        "📌 Use a for loop to iterate through the list with the whole data.\n",
        "\n",
        "📌 Print out the necessary information."
      ]
    },
    {
      "cell_type": "code",
      "execution_count": 14,
      "id": "5a4aab7e",
      "metadata": {
        "id": "5a4aab7e"
      },
      "outputs": [],
      "source": [
        "#Create empty lists for the names, number of calls, average deal sizes, revenues\n"
      ]
    },
    {
      "cell_type": "code",
      "execution_count": 15,
      "id": "2366069b",
      "metadata": {
        "id": "2366069b"
      },
      "outputs": [],
      "source": [
        "#Loop over the whole data\n",
        "\n",
        "    #Clean the string\n",
        "   \n",
        "\n",
        "    #Split the clean string\n",
        "    \n",
        "    \n",
        "    #Extract the name\n",
        "    \n",
        "\n",
        "    #Extract the average deal size\n",
        " \n",
        "\n",
        "    #Extract the revenue\n",
        "\n",
        "\n",
        "    #Convert to the correct data types\n",
        "\n",
        "\n",
        "    #Append the information to the lists\n",
        "\n",
        "\n",
        "#Print out the information\n"
      ]
    },
    {
      "cell_type": "markdown",
      "id": "4d848787",
      "metadata": {
        "id": "4d848787"
      },
      "source": [
        "Finally, you can make the process even easier and reusable by defining functions.\n",
        "\n",
        "📌 Define the function \"clean_extract\".\n",
        "\n",
        "📌 Use the retured values by assigning them to variables."
      ]
    },
    {
      "cell_type": "code",
      "execution_count": 16,
      "id": "_ipfpGrirCs7",
      "metadata": {
        "colab": {
          "base_uri": "https://localhost:8080/",
          "height": 17
        },
        "id": "_ipfpGrirCs7",
        "outputId": "5c4f5ebd-b114-4b61-e332-49cc94d13f25"
      },
      "outputs": [],
      "source": [
        "#Create empty lists again\n",
        "names_list = []\n",
        "calls_list = []\n",
        "average_deal_size_list = []\n",
        "revenue_list = []"
      ]
    },
    {
      "cell_type": "code",
      "execution_count": 17,
      "id": "tnFT5Fk2qu_x",
      "metadata": {
        "id": "tnFT5Fk2qu_x"
      },
      "outputs": [],
      "source": [
        "#Define a function to clean and extract the data\n",
        "def clean_extract(lines, names, calls, average_deal_sizes, revenues):\n",
        "    for employee in lines:\n",
        "        employee = employee.strip(\" \")\n",
        "        employee = employee.lower()\n",
        "        employee = employee.capitalize()\n",
        "        \n",
        "        split_employee = employee.split()\n",
        "        split_employee[0] = split_employee[0].replace(\",\", \"\")\n",
        "        names.append(split_employee[0])\n",
        "        calls.append(int(split_employee[2]))\n",
        "        \n",
        "        for i in split_employee:\n",
        "            if \"$\" in i:\n",
        "                average_deal_size = i\n",
        "                average_deal_size = average_deal_size.split(\"$\")[0]\n",
        "                average_deal_sizes.append(int(average_deal_size))\n",
        "        \n",
        "        dollars_index = split_employee.index(\"dollars\")\n",
        "        revenues.append(int(split_employee[dollars_index-1]))\n",
        "    \n",
        "    return names, calls, average_deal_sizes, revenues"
      ]
    },
    {
      "cell_type": "code",
      "execution_count": 18,
      "id": "13b0fe6b",
      "metadata": {
        "id": "13b0fe6b"
      },
      "outputs": [],
      "source": [
        "#Assign returned values to variables\n",
        "names_list, calls_list, average_deal_size_list, revenue_list = clean_extract(lines, names_list, calls_list, average_deal_size_list, revenue_list)"
      ]
    },
    {
      "cell_type": "code",
      "execution_count": 19,
      "id": "44e38957",
      "metadata": {
        "id": "44e38957"
      },
      "outputs": [
        {
          "name": "stdout",
          "output_type": "stream",
          "text": [
            "Names: ['Ben', 'Omer', 'Karen', 'Celine', 'Sue', 'Bora', 'Rose', 'Ellen', 'Bob', 'Taylor', 'Jude']\n",
            "Calls: [300, 10, 500, 70, 100, 100, 600, 800, 200, 450, 80]\n",
            "Average Deal Sizes: [8, 6, 24, 32, 5, 25, 25, 40, 15, 10, 12]\n",
            "Revenues: [2400, 60, 12000, 2275, 500, 770, 4000, 6000, 800, 1200, 500]\n"
          ]
        }
      ],
      "source": [
        "#Print out the information\n",
        "print(f\"Names: {names_list}\")\n",
        "print(f\"Calls: {calls_list}\")\n",
        "print(f\"Average Deal Sizes: {average_deal_size_list}\")\n",
        "print(f\"Revenues: {revenue_list}\")"
      ]
    },
    {
      "cell_type": "markdown",
      "id": "26efe652",
      "metadata": {
        "id": "26efe652"
      },
      "source": [
        "### Performance Analysis Report\n",
        "\n",
        "Now that you cleaned the string and extracted all the information using the function, you can create performance analysis report for the last month.\n",
        "\n",
        "📌 Assign IDs to each employee.\n",
        "\n",
        "📌 Create dictionaries.\n",
        "\n",
        "📌 Sort the dictionaries.\n",
        "\n",
        "\n"
      ]
    },
    {
      "cell_type": "markdown",
      "id": "ZT7mAK3M5k3W",
      "metadata": {
        "id": "ZT7mAK3M5k3W"
      },
      "source": [
        "First, check how many employees there are and assign the IDs.\n",
        "\n",
        "📌 Use the len() and range() function.\n"
      ]
    },
    {
      "cell_type": "code",
      "execution_count": 20,
      "id": "f20ff52f",
      "metadata": {
        "id": "f20ff52f"
      },
      "outputs": [
        {
          "name": "stdout",
          "output_type": "stream",
          "text": [
            "11\n"
          ]
        }
      ],
      "source": [
        "#Check the number of employees\n",
        "print(len(names_list))"
      ]
    },
    {
      "cell_type": "code",
      "execution_count": 21,
      "id": "5c62caf8",
      "metadata": {
        "id": "5c62caf8"
      },
      "outputs": [
        {
          "name": "stdout",
          "output_type": "stream",
          "text": [
            "[0, 1, 2, 3, 4, 5, 6, 7, 8, 9, 10]\n"
          ]
        }
      ],
      "source": [
        "#Generate IDs\n",
        "IDs = list(range(11))\n",
        "print(IDs)"
      ]
    },
    {
      "cell_type": "code",
      "execution_count": 22,
      "id": "28cd8ce6",
      "metadata": {
        "id": "28cd8ce6"
      },
      "outputs": [
        {
          "name": "stdout",
          "output_type": "stream",
          "text": [
            "11\n"
          ]
        }
      ],
      "source": [
        "#Check the number of IDs\n",
        "print(len(IDs))"
      ]
    },
    {
      "cell_type": "markdown",
      "id": "NKP6Yoto6eqP",
      "metadata": {
        "id": "NKP6Yoto6eqP"
      },
      "source": [
        "With the IDs ready, you need to assign the IDs to the employees.\n",
        "\n",
        "📌 Use the zip() function to pair the employee with the ID.\n",
        "\n",
        "📌 Convert the zip object into a dictionary."
      ]
    },
    {
      "cell_type": "code",
      "execution_count": 23,
      "id": "7e56a43f",
      "metadata": {
        "id": "7e56a43f"
      },
      "outputs": [
        {
          "name": "stdout",
          "output_type": "stream",
          "text": [
            "Employees: ['Ben', 'Omer', 'Karen', 'Celine', 'Sue', 'Bora', 'Rose', 'Ellen', 'Bob', 'Taylor', 'Jude']\n",
            "IDs: [0, 1, 2, 3, 4, 5, 6, 7, 8, 9, 10]\n"
          ]
        }
      ],
      "source": [
        "#Pair the names with the IDs in a dictionary\n",
        "employee_dictionary = dict(zip(IDs, names_list))\n",
        "print(f\"Employees: {list(employee_dictionary.values())}\")\n",
        "print(f\"IDs: {list(employee_dictionary.keys())}\")"
      ]
    },
    {
      "cell_type": "markdown",
      "id": "429d7b7f",
      "metadata": {
        "id": "429d7b7f"
      },
      "source": [
        "Similarly, create a dictionary for the  employees and their revenues."
      ]
    },
    {
      "cell_type": "code",
      "execution_count": 24,
      "id": "aa2c6560",
      "metadata": {
        "id": "aa2c6560"
      },
      "outputs": [
        {
          "name": "stdout",
          "output_type": "stream",
          "text": [
            "Revenue: {'Ben': 2400, 'Omer': 60, 'Karen': 12000, 'Celine': 2275, 'Sue': 500, 'Bora': 770, 'Rose': 4000, 'Ellen': 6000, 'Bob': 800, 'Taylor': 1200, 'Jude': 500}"
          ]
        }
      ],
      "source": [
        "#Pair the names with the revenues\n",
        "revenue_dictionary = dict(zip(names_list, revenue_list))\n",
        "print(\"Revenue:\", revenue_dictionary, end=\"\")\n"
      ]
    },
    {
      "cell_type": "code",
      "execution_count": 25,
      "metadata": {},
      "outputs": [
        {
          "name": "stdout",
          "output_type": "stream",
          "text": [
            "Calls: {'Ben': 300, 'Omer': 10, 'Karen': 500, 'Celine': 70, 'Sue': 100, 'Bora': 100, 'Rose': 600, 'Ellen': 800, 'Bob': 200, 'Taylor': 450, 'Jude': 80}\n",
            "Average Deal Size: {'Ben': 8, 'Omer': 6, 'Karen': 24, 'Celine': 32, 'Sue': 5, 'Bora': 25, 'Rose': 25, 'Ellen': 40, 'Bob': 15, 'Taylor': 10, 'Jude': 12}"
          ]
        }
      ],
      "source": [
        "calls_dictionary = dict(zip(names_list, calls_list))\n",
        "average_deal_size_dictionary = dict(zip(names_list, average_deal_size_list))\n",
        "print(\"Calls:\", calls_dictionary, end=\"\")\n",
        "print(\"\\nAverage Deal Size:\", average_deal_size_dictionary, end=\"\")"
      ]
    },
    {
      "cell_type": "markdown",
      "id": "Ou3ne5Vn76N_",
      "metadata": {
        "id": "Ou3ne5Vn76N_"
      },
      "source": [
        "Finally, you need to find the employees with the best and lowest performance.\n",
        "\n",
        "📌 Sort the dictionary using the sorted() function in ascending and descending order.\n"
      ]
    },
    {
      "cell_type": "code",
      "execution_count": 26,
      "id": "aae82f64",
      "metadata": {},
      "outputs": [
        {
          "name": "stdout",
          "output_type": "stream",
          "text": [
            "Omer\n",
            "Jude\n",
            "Bora\n",
            "Bob\n"
          ]
        }
      ],
      "source": [
        "#Find the lowest performing employees (ascending order)\n",
        "revenue_dictionary1 = dict(zip(revenue_list, names_list))\n",
        "sorted_revenue_dictionary = sorted(revenue_dictionary1)[:4]\n",
        "\n",
        "for i in sorted_revenue_dictionary:\n",
        "    print(revenue_dictionary1[i])"
      ]
    },
    {
      "cell_type": "code",
      "execution_count": 27,
      "id": "3210f1ad",
      "metadata": {
        "id": "3210f1ad"
      },
      "outputs": [
        {
          "name": "stdout",
          "output_type": "stream",
          "text": [
            "Karen\n",
            "Ellen\n",
            "Rose\n",
            "Ben\n"
          ]
        }
      ],
      "source": [
        "#Find the best performing employees (descending order)\n",
        "sorted_revenue_dictionary1 = sorted(revenue_dictionary1, reverse=True)[:4]\n",
        "\n",
        "for i in sorted_revenue_dictionary1:\n",
        "    print(revenue_dictionary1[i])"
      ]
    }
  ],
  "metadata": {
    "colab": {
      "collapsed_sections": [],
      "name": "Guided_project_3_updated.ipynb",
      "provenance": []
    },
    "kernelspec": {
      "display_name": "Python 3.10.5 64-bit",
      "language": "python",
      "name": "python3"
    },
    "language_info": {
      "codemirror_mode": {
        "name": "ipython",
        "version": 3
      },
      "file_extension": ".py",
      "mimetype": "text/x-python",
      "name": "python",
      "nbconvert_exporter": "python",
      "pygments_lexer": "ipython3",
      "version": "3.10.5"
    },
    "vscode": {
      "interpreter": {
        "hash": "26de051ba29f2982a8de78e945f0abaf191376122a1563185a90213a26c5da77"
      }
    }
  },
  "nbformat": 4,
  "nbformat_minor": 5
}
