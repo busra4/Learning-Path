{
  "cells": [
    {
      "cell_type": "markdown",
      "metadata": {
        "id": "5jgSAdg2OdNB"
      },
      "source": [
        "#Chapter 6\n",
        "## Data Visualization\n",
        "\n",
        "Your manager wants you to provide data visualizations for the sales team to help them gain better, useful insights.\n",
        "\n"
      ]
    },
    {
      "cell_type": "markdown",
      "metadata": {
        "id": "zbfSem6dPJBA"
      },
      "source": [
        "###Importing Libraries\n",
        "\n",
        "First, you need to import the required libraries.\n",
        "\n",
        "📌 Import the Matplotlib and Pandas libraries.\n"
      ]
    },
    {
      "cell_type": "code",
      "execution_count": 1,
      "metadata": {
        "id": "17RkQhf9e2ys"
      },
      "outputs": [],
      "source": [
        "#Import Matplotlib and Pandas\n",
        "import matplotlib.pyplot as plt\n",
        "import pandas as pd\n",
        "import numpy as np"
      ]
    },
    {
      "cell_type": "markdown",
      "metadata": {
        "id": "Hkgg9XRT8fBh"
      },
      "source": [
        "###Matplotlib Basics\n",
        "\n",
        "Before focusing on your task, first practice the Matplotlib basics.\n",
        "\n",
        "📌 Create example data:\n",
        "  1. A list for the x-axis values\n",
        "  2. A list for the y-axis values\n"
      ]
    },
    {
      "cell_type": "code",
      "execution_count": 4,
      "metadata": {
        "id": "kQ-E0ehv_Iie"
      },
      "outputs": [],
      "source": [
        "#Create a list for the x-axis values\n",
        "x = list(range(15))\n",
        "\n",
        "#Create a list for the y-axis values\n",
        "y = [i*i for i in range(15)]"
      ]
    },
    {
      "cell_type": "markdown",
      "metadata": {
        "id": "K5PFIDduEBNH"
      },
      "source": [
        "####Line plot\n",
        "Use this simple data to explore some of the different graph types.\n",
        "\n",
        "📌 Use the .plot() function of Matplotlib to create a line plot and the .title() method to add the title \"Example data - Line plot\". \n",
        "\n",
        "📌 Use *plt.show()* to display the plot.\n"
      ]
    },
    {
      "cell_type": "code",
      "execution_count": 5,
      "metadata": {
        "id": "Q2RJR-lACHtT"
      },
      "outputs": [
        {
          "data": {
            "image/png": "[encoded data removed]",
            "text/plain": [
              "<Figure size 432x288 with 1 Axes>"
            ]
          },
          "metadata": {
            "needs_background": "light"
          },
          "output_type": "display_data"
        }
      ],
      "source": [
        "#Use the .plot() function to create a line plot\n",
        "plt.plot(x,y)\n",
        "\n",
        "#Use the .title() method to add the title\n",
        "plt.title(\"Example data - Line plot\")\n",
        "\n",
        "#Display the plot\n",
        "plt.show()"
      ]
    },
    {
      "cell_type": "markdown",
      "metadata": {
        "id": "lNE6V48wIGAm"
      },
      "source": [
        "####Scatter plot\n",
        "\n",
        "Next, use the same data to create a scatter plot.\n",
        "\n",
        "📌 Use the .scatter() function of Matplotlib to create a scatter plot and use the .title() method to add the title \"Example data - Scatter plot\".\n",
        "\n",
        "📌 Use *plt.show()* to display the plot.\n"
      ]
    },
    {
      "cell_type": "code",
      "execution_count": 6,
      "metadata": {
        "id": "xMwQPq0qJlDn"
      },
      "outputs": [
        {
          "data": {
            "image/png": "[encoded data removed]",
            "text/plain": [
              "<Figure size 432x288 with 1 Axes>"
            ]
          },
          "metadata": {
            "needs_background": "light"
          },
          "output_type": "display_data"
        }
      ],
      "source": [
        "#Use the .scatter() function to create a scatter plot\n",
        "plt.scatter(x ,y)\n",
        "\n",
        "#Use the .title() method to add the title\n",
        "plt.title(\"Example data - Scatter plot\")\n",
        "\n",
        "#Display the plot\n",
        "plt.show()"
      ]
    },
    {
      "cell_type": "markdown",
      "metadata": {
        "id": "LvRSS0hpZf5a"
      },
      "source": [
        "####Bar chart\n",
        "\n",
        "Lastly, use the same data to create a bar chart.\n",
        "\n",
        "📌 Use the .bar() function of Matplotlib to create a bar chart and use the .title() method to add the title \"Example data - Bar chart\".\n",
        "\n",
        "📌 Use *plt.show()* to display the chart."
      ]
    },
    {
      "cell_type": "code",
      "execution_count": 7,
      "metadata": {
        "id": "qZtSOedrKsxX"
      },
      "outputs": [
        {
          "data": {
            "image/png": "[encoded data removed]",
            "text/plain": [
              "<Figure size 432x288 with 1 Axes>"
            ]
          },
          "metadata": {
            "needs_background": "light"
          },
          "output_type": "display_data"
        }
      ],
      "source": [
        "#Use the .bar() function to create a bar chart\n",
        "plt.bar(x, y)\n",
        "\n",
        "#Use the .title() method to add the title\n",
        "plt.title(\"Example data - Bar chart\")\n",
        "\n",
        "#Display the chart\n",
        "plt.show()"
      ]
    },
    {
      "cell_type": "markdown",
      "metadata": {
        "id": "9TM1cLF3KuhX"
      },
      "source": [
        "###Display multiple graphs in on figure\n",
        "\n",
        "You decide that you would like to see the graphs side by side. Each graph should have a different color to make the figure more readable.\n",
        "\n",
        "📌 Use the .figure() function of Matplotlib and its argument \"figsize\" to create a figure object of the size 18x5.\n",
        "\n",
        "📌 Use the .add_subplot() method to add the three graphs you just created to the figure and add a title to each. \n",
        "\n",
        "  * There should be 1 row with the 3 graphs. \n",
        "\n",
        "  * Use the \"color\" argument to change the color of each plot:\n",
        "    1. Line plot: red\n",
        "    2. Scatter plot: green\n",
        "    3. Bar chart: orange"
      ]
    },
    {
      "cell_type": "code",
      "execution_count": 8,
      "metadata": {
        "id": "7Myfb-oVr-Wv"
      },
      "outputs": [
        {
          "data": {
            "image/png": "[encoded data removed]",
            "text/plain": [
              "<Figure size 1296x360 with 3 Axes>"
            ]
          },
          "metadata": {
            "needs_background": "light"
          },
          "output_type": "display_data"
        }
      ],
      "source": [
        "#Create a figure object of the size 18x5\n",
        "fig = plt.figure(figsize=(18,5))\n",
        "\n",
        "#Use the .add_subplot() method to add the line plot\n",
        "first_plot = fig.add_subplot(1,3,1)\n",
        "\n",
        "#Change the color to red\n",
        "first_plot.plot(x, y, color=\"red\")\n",
        "\n",
        "#Add the title\n",
        "first_plot.set_title(\"Example data - Line plot\")\n",
        "\n",
        "#Use the .add_subplot() method to add the scatter plot\n",
        "second_plot = fig.add_subplot(1,3,2)\n",
        "\n",
        "#Change the color to green\n",
        "second_plot.scatter(x, y, color=\"green\")\n",
        "\n",
        "#Add the title\n",
        "second_plot.set_title(\"Example data - Scatter plot\")\n",
        "\n",
        "#Use the .add_subplot() method to add the bar chart\n",
        "third_plot = fig.add_subplot(1,3,3)\n",
        "\n",
        "#Change the color to orange\n",
        "third_plot.bar(x, y, color=\"orange\")\n",
        "\n",
        "#Add the title\n",
        "third_plot.set_title(\"Example data - Bar plot\")\n",
        "\n",
        "#Display the figure\n",
        "plt.show()"
      ]
    },
    {
      "cell_type": "markdown",
      "metadata": {
        "id": "RliAIBFUiTBC"
      },
      "source": [
        "###Visualization of the sales report\n",
        "\n",
        "Now, you are prepared to take on your task. \n",
        "\n",
        "The sales team is creating a report and they need a visualization of the results. Your manager Rachel asks you to create some graphs so people reviewing the report will have a better understanding of the data. They deliver you a .csv file that contains the sales data."
      ]
    },
    {
      "cell_type": "markdown",
      "metadata": {
        "id": "KkoxQUK6zqu-"
      },
      "source": [
        "####Data Preparation\n",
        "\n",
        "First you need to get the data from the .csv file.\n",
        "\n",
        "📌 Use the .read_csv() function to read \"employee_performance.csv\" and assign it to the variable \"data\".\n",
        "\n",
        "📌 Use the .head() function to check what the dataset contains."
      ]
    },
    {
      "cell_type": "code",
      "execution_count": 9,
      "metadata": {
        "id": "CZou7BxPOFeX"
      },
      "outputs": [
        {
          "data": {
            "text/html": [
              "<div>\n",
              "<style scoped>\n",
              "    .dataframe tbody tr th:only-of-type {\n",
              "        vertical-align: middle;\n",
              "    }\n",
              "\n",
              "    .dataframe tbody tr th {\n",
              "        vertical-align: top;\n",
              "    }\n",
              "\n",
              "    .dataframe thead th {\n",
              "        text-align: right;\n",
              "    }\n",
              "</style>\n",
              "<table border=\"1\" class=\"dataframe\">\n",
              "  <thead>\n",
              "    <tr style=\"text-align: right;\">\n",
              "      <th></th>\n",
              "      <th>Name</th>\n",
              "      <th>Job Type</th>\n",
              "      <th>Experience Level</th>\n",
              "      <th>Education</th>\n",
              "      <th>Number of Calls</th>\n",
              "      <th>Average Deal Size</th>\n",
              "      <th>Revenue</th>\n",
              "    </tr>\n",
              "  </thead>\n",
              "  <tbody>\n",
              "    <tr>\n",
              "      <th>0</th>\n",
              "      <td>Omer</td>\n",
              "      <td>Full-Time</td>\n",
              "      <td>Senior</td>\n",
              "      <td>High School</td>\n",
              "      <td>400</td>\n",
              "      <td>8</td>\n",
              "      <td>2000</td>\n",
              "    </tr>\n",
              "    <tr>\n",
              "      <th>1</th>\n",
              "      <td>Arnold</td>\n",
              "      <td>Full-Time</td>\n",
              "      <td>Junior</td>\n",
              "      <td>University</td>\n",
              "      <td>150</td>\n",
              "      <td>10</td>\n",
              "      <td>1000</td>\n",
              "    </tr>\n",
              "    <tr>\n",
              "      <th>2</th>\n",
              "      <td>Aidan</td>\n",
              "      <td>Full-Time</td>\n",
              "      <td>Senior</td>\n",
              "      <td>College</td>\n",
              "      <td>170</td>\n",
              "      <td>15</td>\n",
              "      <td>2000</td>\n",
              "    </tr>\n",
              "    <tr>\n",
              "      <th>3</th>\n",
              "      <td>Sue</td>\n",
              "      <td>Part-Time</td>\n",
              "      <td>Mid</td>\n",
              "      <td>High School</td>\n",
              "      <td>220</td>\n",
              "      <td>5</td>\n",
              "      <td>1000</td>\n",
              "    </tr>\n",
              "    <tr>\n",
              "      <th>4</th>\n",
              "      <td>Ben</td>\n",
              "      <td>Full-Time</td>\n",
              "      <td>Junior</td>\n",
              "      <td>College</td>\n",
              "      <td>140</td>\n",
              "      <td>22</td>\n",
              "      <td>1600</td>\n",
              "    </tr>\n",
              "  </tbody>\n",
              "</table>\n",
              "</div>"
            ],
            "text/plain": [
              "     Name   Job Type Experience Level    Education  Number of Calls  \\\n",
              "0    Omer  Full-Time           Senior  High School              400   \n",
              "1  Arnold  Full-Time           Junior   University              150   \n",
              "2   Aidan  Full-Time           Senior      College              170   \n",
              "3     Sue  Part-Time              Mid  High School              220   \n",
              "4     Ben  Full-Time           Junior      College              140   \n",
              "\n",
              "   Average Deal Size  Revenue  \n",
              "0                  8     2000  \n",
              "1                 10     1000  \n",
              "2                 15     2000  \n",
              "3                  5     1000  \n",
              "4                 22     1600  "
            ]
          },
          "execution_count": 9,
          "metadata": {},
          "output_type": "execute_result"
        }
      ],
      "source": [
        "#Read the data from \"employee_performance.csv\"\"\n",
        "employee_performance_dataframe = pd.read_csv(\"employee_performance.csv\")\n",
        "\n",
        "#Use the .head() function to check the dataset\n",
        "employee_performance_dataframe.head()"
      ]
    },
    {
      "cell_type": "markdown",
      "metadata": {
        "id": "Eq5mYRO7fB-_"
      },
      "source": [
        "####Plot the education level\n",
        "\n",
        "First you create some insights about the education level of sales team and you decide that a pie chart will be useful. You need to determine the number of people in the different categories.\n",
        "\n",
        "📌 Use the .value_counts() function to determine the number of people in the different categories.\n"
      ]
    },
    {
      "cell_type": "markdown",
      "metadata": {
        "id": "iGvSZQ3DYBjD"
      },
      "source": [
        "Then, create a pie chart with the labels \"College\", \"High School\", \"University\"\n",
        "\n",
        "📌 Use the .pie() function to create a pie chart and the \"labels\" argument, to give the indexes of the Pandas Series as labels."
      ]
    },
    {
      "cell_type": "code",
      "execution_count": 26,
      "metadata": {
        "id": "m-7PMknQs4QU"
      },
      "outputs": [
        {
          "data": {
            "image/png": "[encoded data removed]",
            "text/plain": [
              "<Figure size 504x504 with 1 Axes>"
            ]
          },
          "metadata": {},
          "output_type": "display_data"
        }
      ],
      "source": [
        "#Use the .value_counts() function to determine the number of people in the different categories\n",
        "values_of_people = employee_performance_dataframe[\"Education\"].value_counts()\n",
        "\n",
        "#Display the result\n",
        "plt.figure(figsize=(7,7))\n",
        "plt.pie(values_of_people)\n",
        "plt.title(\"Pie chart of Education of People\")\n",
        "plt.legend(values_of_people.keys())\n",
        "plt.show()"
      ]
    },
    {
      "cell_type": "markdown",
      "metadata": {
        "id": "pdkWDA_46T7E"
      },
      "source": [
        "####Plot the revenue\n",
        "\n",
        "Next, you need to create a bar chart of the revenue generated by the employees.\n",
        "The names should be on the x-axis and revenues on the y-axis.\n",
        "\n",
        "📌 Use the .bar() function to create a bar chart of the revenue values."
      ]
    },
    {
      "cell_type": "code",
      "execution_count": 28,
      "metadata": {
        "id": "n_Xg2MhityuQ"
      },
      "outputs": [
        {
          "data": {
            "image/png": "[encoded data removed]",
            "text/plain": [
              "<Figure size 504x504 with 1 Axes>"
            ]
          },
          "metadata": {
            "needs_background": "light"
          },
          "output_type": "display_data"
        }
      ],
      "source": [
        "#Create a bar chart with the names on the x-axis and the revenue values on the y-axis\n",
        "names = employee_performance_dataframe.Name\n",
        "revenue = employee_performance_dataframe.Revenue\n",
        "\n",
        "#Display the chart\n",
        "plt.figure(figsize=(7,7))\n",
        "plt.bar(names, revenue)\n",
        "plt.title(\"Revenue Generated by the Employee\")\n",
        "plt.show()"
      ]
    },
    {
      "cell_type": "markdown",
      "metadata": {
        "id": "nnqivANx3j7R"
      },
      "source": [
        "The graph, in this state, just shows a comparison between employees. \n",
        "\n",
        "You decide to add the data \"Number of calls\" in the graph to increase the understandability. \n",
        "\n",
        "📌 Add the data for \"Revenue\" as well as for \"Number of calls\" to the bar chart. Use the argument \"label\" to label the data.\n",
        "\n",
        "To differentiate between the data, you need to add a legend. Also adding grid lines will be useful.\n",
        "\n",
        "📌 Add a legend by using the .legend() function and the .grid() function to add grid lines.\n"
      ]
    },
    {
      "cell_type": "code",
      "execution_count": 40,
      "metadata": {
        "id": "2t30cboVvjXY"
      },
      "outputs": [
        {
          "data": {
            "image/png": "[encoded data removed]",
            "text/plain": [
              "<Figure size 504x504 with 1 Axes>"
            ]
          },
          "metadata": {
            "needs_background": "light"
          },
          "output_type": "display_data"
        }
      ],
      "source": [
        "#Create a bar chart with the data \"Revenue\" and \"Number of calls\"\n",
        "calls = employee_performance_dataframe[\"Number of Calls\"]\n",
        "\n",
        "# To show better graph\n",
        "x_axis = np.arange(len(names))\n",
        "plt.figure(figsize=(7,7))\n",
        "\n",
        "#Add a legend\n",
        "#Add grid lines\n",
        "#Display the chart\n",
        "plt.bar(x_axis - 0.2, revenue, 0.4, label=\"Revenue\")\n",
        "plt.bar(x_axis + 0.2, calls, 0.4, label=\"Calls\")\n",
        "plt.title(\"Revenue Generated by the Employee\")\n",
        "plt.xticks(x_axis, names)\n",
        "plt.xlabel(\"Names\")\n",
        "plt.legend()\n",
        "plt.grid()\n",
        "plt.show()"
      ]
    }
  ],
  "metadata": {
    "colab": {
      "collapsed_sections": [],
      "name": "Guided_project_6.ipynb",
      "provenance": []
    },
    "kernelspec": {
      "display_name": "Python 3.10.5 64-bit",
      "language": "python",
      "name": "python3"
    },
    "language_info": {
      "codemirror_mode": {
        "name": "ipython",
        "version": 3
      },
      "file_extension": ".py",
      "mimetype": "text/x-python",
      "name": "python",
      "nbconvert_exporter": "python",
      "pygments_lexer": "ipython3",
      "version": "3.10.5"
    },
    "vscode": {
      "interpreter": {
        "hash": "26de051ba29f2982a8de78e945f0abaf191376122a1563185a90213a26c5da77"
      }
    }
  },
  "nbformat": 4,
  "nbformat_minor": 0
}
