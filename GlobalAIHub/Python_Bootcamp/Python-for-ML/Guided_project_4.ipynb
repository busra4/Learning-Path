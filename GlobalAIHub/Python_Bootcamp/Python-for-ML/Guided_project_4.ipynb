{
  "cells": [
    {
      "cell_type": "markdown",
      "metadata": {
        "id": "QkcKMNzWAbg7"
      },
      "source": [
        "#Chapter 4 \n",
        "##NumPy\n",
        "\n",
        "Rachel is very happy with the way you cleaned and structured the employee data last time, but she wants to take things one step further. The sales team wants to track the performance of the employees not only by the revenue they generated, but also taking the number of calls and the average deal size into account. For that, Rachel wants you to create a software for reporting. To be able to perform calculations on the data you decide that creating a data structure using Numpy will be best."
      ]
    },
    {
      "cell_type": "markdown",
      "metadata": {
        "id": "LWlWyFTek4PO"
      },
      "source": [
        "### Get the data\n",
        "\n",
        "First, you need to get the data. You created lists with the relevant information in the last chapter.\n",
        "\n",
        "📌 Copy and paste the lists \"names\", \"call_numbers\", \"average_deal_size\", and \"revenues\" you created in chapter 3 and assign them to variables."
      ]
    },
    {
      "cell_type": "code",
      "execution_count": 169,
      "metadata": {
        "id": "XtkCWxs4lGyX"
      },
      "outputs": [],
      "source": [
        "# Taking file to not write lists by hand. Give basic tasks to program to do it for you.\n",
        "file = open(\"employee_revenue.txt\", \"r\")\n",
        "data = file.read()\n",
        "lines = data.splitlines()\n",
        "\n",
        "# Created lists to use.\n",
        "names_list = []\n",
        "call_numbers_list = []\n",
        "average_deal_size_list = []\n",
        "revenues_list = []\n"
      ]
    },
    {
      "cell_type": "code",
      "execution_count": 170,
      "metadata": {},
      "outputs": [],
      "source": [
        "# Use the clean_extract function from guided project 3 to fill the lists.\n",
        "def clean_extract(lines, names, calls, average_deal_sizes, revenues):\n",
        "    for employee in lines:\n",
        "        employee = employee.strip(\" \")\n",
        "        employee = employee.lower()\n",
        "        employee = employee.capitalize()\n",
        "        \n",
        "        split_employee = employee.split()\n",
        "        split_employee[0] = split_employee[0].replace(\",\", \"\")\n",
        "        names.append(split_employee[0])\n",
        "        calls.append(int(split_employee[2]))\n",
        "        \n",
        "        for i in split_employee:\n",
        "            if \"$\" in i:\n",
        "                average_deal_size = i\n",
        "                average_deal_size = average_deal_size.split(\"$\")[0]\n",
        "                average_deal_sizes.append(int(average_deal_size))\n",
        "        \n",
        "        dollars_index = split_employee.index(\"dollars\")\n",
        "        revenues.append(int(split_employee[dollars_index-1]))\n",
        "    \n",
        "    return names, calls, average_deal_sizes, revenues"
      ]
    },
    {
      "cell_type": "code",
      "execution_count": 171,
      "metadata": {},
      "outputs": [],
      "source": [
        "# Calling the function and fill the lists.\n",
        "names_list, calls_list, average_deal_size_list, revenue_list = clean_extract(lines, names_list, call_numbers_list, average_deal_size_list, revenues_list)"
      ]
    },
    {
      "cell_type": "markdown",
      "metadata": {
        "id": "Ge6Rw3bkA1nq"
      },
      "source": [
        "### Importing NumPy\n",
        "\n",
        "You plan to create a data structure using NumPy.\n",
        "\n",
        "📌 Import the NumPy library as."
      ]
    },
    {
      "cell_type": "code",
      "execution_count": 172,
      "metadata": {
        "id": "bkJKAysX41P0"
      },
      "outputs": [],
      "source": [
        "#Import the NumPy library\n",
        "import numpy as np"
      ]
    },
    {
      "cell_type": "markdown",
      "metadata": {
        "id": "V_RyXQRPDKDX"
      },
      "source": [
        "###Creating an initial (base) arrays\n",
        "\n",
        "Next, you need to prepare an array in which you will store the values. The initial array will be empty. Since it will hold numerical data, the data type should be integer.\n",
        "\n",
        "📌 Create an empty array using .array(). \n",
        "\n",
        "📌 Use the *dtype* parameter to specify the data type."
      ]
    },
    {
      "cell_type": "code",
      "execution_count": 173,
      "metadata": {
        "id": "rhn8VLL5F1io"
      },
      "outputs": [],
      "source": [
        "#Create an empty array with the data type integer\n",
        "data = np.array([], dtype=int)"
      ]
    },
    {
      "cell_type": "markdown",
      "metadata": {
        "id": "RTg7VcXco1pB"
      },
      "source": [
        "###Functions to add the data\n",
        "\n",
        "Now that your empty array is ready, you need to transfer the data from the lists to the array. You create 2 functions functions for this. \n",
        "\n",
        "1. append_names function: A function that takes the \"names\" list and adds the index of each name to the \"data\" array.\n",
        "\n",
        "  📌 Use a for loop and the .append() method for the indexes.\n",
        "\n",
        "2. append_performance_measures function: A function that takes one of the remaining lists to add the sales performance data like number of calls, average deal size and revenue to the \"data\" array.\n",
        "\n",
        "  📌 Use the .append() method."
      ]
    },
    {
      "cell_type": "code",
      "execution_count": 174,
      "metadata": {
        "id": "aFt18Yn_Ai48"
      },
      "outputs": [],
      "source": [
        "#Define the append_names function\n",
        "def append_names(list_name, array_name):\n",
        "    for i in list_name:\n",
        "        array_name = np.append(array_name, list_name.index(i))\n",
        "    return array_name"
      ]
    },
    {
      "cell_type": "code",
      "execution_count": 175,
      "metadata": {
        "id": "XZ0xJEnqUCt6"
      },
      "outputs": [],
      "source": [
        "#Define the append_performance_measures function\n",
        "def append_performance_measures(list_name, array_name):\n",
        "    array_name = np.append(array_name, list_name)\n",
        "    return array_name"
      ]
    },
    {
      "cell_type": "markdown",
      "metadata": {
        "id": "JEQ_Il_JFPJR"
      },
      "source": [
        "Call the functions to add the data to the array and print the array and its shape to see the result.\n",
        "\n",
        "📌 Use the .shape() method."
      ]
    },
    {
      "cell_type": "code",
      "execution_count": 176,
      "metadata": {
        "id": "eknqraz75Qj9"
      },
      "outputs": [
        {
          "name": "stdout",
          "output_type": "stream",
          "text": [
            "Shape of the data array: (44,)\n",
            "Size of the data array: 44\n"
          ]
        }
      ],
      "source": [
        "#Use the append_names and append_sales_performance_measures to add the data\n",
        "data = append_names(names_list, data)\n",
        "data = append_performance_measures(call_numbers_list, data)\n",
        "data = append_performance_measures(average_deal_size_list, data)\n",
        "data = append_performance_measures(revenues_list, data)\n",
        "\n",
        "#Print the array and its shape to see the result\n",
        "print(f\"Shape of the data array: {data.shape}\")\n",
        "print(f\"Size of the data array: {data.size}\")\n"
      ]
    },
    {
      "cell_type": "markdown",
      "metadata": {
        "id": "PrHY03X6C94s"
      },
      "source": [
        "###Reshape the array\n",
        "\n",
        "But like this, your array is not very structured. You need a 2D-array to be able to work better with it. The original data was 4 lists each with 11 values. So, the \"data\" array should have 4 rows and 11 columns. Print the result afterwards.\n",
        "\n",
        "📌 Use the .reshape() method to rearrange the values in the array.\n"
      ]
    },
    {
      "cell_type": "code",
      "execution_count": 177,
      "metadata": {
        "id": "__2N4NZB5k3Q"
      },
      "outputs": [
        {
          "name": "stdout",
          "output_type": "stream",
          "text": [
            "Data array: [[    0     1     2     3     4     5     6     7     8     9    10]\n",
            " [  300    10   500    70   100   100   600   800   200   450    80]\n",
            " [    8     6    24    32     5    25    25    40    15    10    12]\n",
            " [ 2400    60 12000  2275   500   770  4000  6000   800  1200   500]]\n",
            "Shape and size of the data array: (4, 11) and 44\n"
          ]
        }
      ],
      "source": [
        "#Use the .reshape() method to change the array structure to 4 rows and 11 columns\n",
        "data = data.reshape(4,11)\n",
        "\n",
        "#Print the resulting array and its shape\n",
        "print(f\"Data array: {data}\")\n",
        "print(f\"Shape and size of the data array: {data.shape} and {data.size}\")"
      ]
    },
    {
      "cell_type": "markdown",
      "metadata": {
        "id": "-JgrV_l7MIwQ"
      },
      "source": [
        "###Accessing values\n",
        "\n",
        "Inside the array you can access the values in different ways. \n",
        "\n",
        "1. Print each row separately. \n",
        "\n",
        "  📌 Write down the array name and the index of the row you want to access.\n"
      ]
    },
    {
      "cell_type": "code",
      "execution_count": 178,
      "metadata": {
        "id": "7IwKRbzORnjA"
      },
      "outputs": [
        {
          "name": "stdout",
          "output_type": "stream",
          "text": [
            "First row (names indexes): [ 0  1  2  3  4  5  6  7  8  9 10]\n"
          ]
        }
      ],
      "source": [
        "#Print the name indexes\n",
        "print(f\"First row (names indexes): {data[0]}\")"
      ]
    },
    {
      "cell_type": "code",
      "execution_count": 179,
      "metadata": {
        "id": "4TZ-6AI3AJ3k"
      },
      "outputs": [
        {
          "name": "stdout",
          "output_type": "stream",
          "text": [
            "Second row (call_numbers): [300  10 500  70 100 100 600 800 200 450  80]\n"
          ]
        }
      ],
      "source": [
        "#Print the number of calls\n",
        "print(f\"Second row (call_numbers): {data[1]}\")"
      ]
    },
    {
      "cell_type": "code",
      "execution_count": 180,
      "metadata": {
        "id": "6AwKKNcVP-Z4"
      },
      "outputs": [
        {
          "name": "stdout",
          "output_type": "stream",
          "text": [
            "Third row (average deal sizes): [ 8  6 24 32  5 25 25 40 15 10 12]\n"
          ]
        }
      ],
      "source": [
        "#Print the average deal sizes\n",
        "print(f\"Third row (average deal sizes): {data[2]}\")"
      ]
    },
    {
      "cell_type": "code",
      "execution_count": 181,
      "metadata": {
        "id": "A0XcKZpKQRnI"
      },
      "outputs": [
        {
          "name": "stdout",
          "output_type": "stream",
          "text": [
            "Fourth row (revenues): [ 2400    60 12000  2275   500   770  4000  6000   800  1200   500]\n"
          ]
        }
      ],
      "source": [
        "#Print the revenues \n",
        "print(f\"Fourth row (revenues): {data[3]}\")"
      ]
    },
    {
      "cell_type": "markdown",
      "metadata": {
        "id": "vwggtzzeAuGX"
      },
      "source": [
        "2. Print a specific value.\n",
        "\n",
        "  📌 Give the index of the row and the column of the value you want to access.\n",
        "  For example, to get the revenue generated by Ellen, specify the value in the 3rd row and 7th column."
      ]
    },
    {
      "cell_type": "code",
      "execution_count": 182,
      "metadata": {
        "id": "qkHN7yCiSs7z"
      },
      "outputs": [
        {
          "name": "stdout",
          "output_type": "stream",
          "text": [
            "Ellen generated 6000 revenue for the company.\n"
          ]
        }
      ],
      "source": [
        "#Print the revenue generated by entered user.\n",
        "employee_name = input(\"Enter the employee name:\")\n",
        "name_index = names_list.index(employee_name)\n",
        "print(f\"{employee_name} generated {data[3][name_index]} revenue for the company.\")"
      ]
    },
    {
      "cell_type": "markdown",
      "metadata": {
        "id": "HpcNsSjVVJ76"
      },
      "source": [
        "###Analyzing the data\n",
        "\n",
        "Great, your array is ready!\n",
        "\n",
        "The sales team has a formula that they use to calculate the performance score of an employee.\n",
        "\n",
        "\n",
        "\\begin{align}\n",
        "        \\text{Performance} = \\frac{\\text{Average deal size x Revenue}}{\\text{Number of calls}}\n",
        "    \\end{align}\n",
        "\n",
        "\n",
        "📌 Create a function called “calculate_performance” to implement this formula. It should take the employee name as an input."
      ]
    },
    {
      "cell_type": "code",
      "execution_count": 183,
      "metadata": {
        "id": "UoB-hSG02lmJ"
      },
      "outputs": [],
      "source": [
        "#Define the function calculate_performance\n",
        "def calculate_performance(array_name, name_list, employee_name):\n",
        "    name_index = name_list.index(employee_name)\n",
        "    performance = (array_name[2][name_index]*array_name[3][name_index])/array_name[1][name_index]\n",
        "    return performance\n",
        "    "
      ]
    },
    {
      "cell_type": "markdown",
      "metadata": {
        "id": "BJp7Qgxv5cVX"
      },
      "source": [
        "###Try it out\n",
        "\n",
        "Let's check Ellen's performance score and print the result."
      ]
    },
    {
      "cell_type": "code",
      "execution_count": 184,
      "metadata": {
        "id": "kd2J09dg6n4i"
      },
      "outputs": [
        {
          "name": "stdout",
          "output_type": "stream",
          "text": [
            "Ellen's performance is 300.0.\n"
          ]
        }
      ],
      "source": [
        "#Use the calculate performance function to print Ellen's performance\n",
        "employee_name_entry = input(\"Enter the employee name:\")\n",
        "employee_performance = calculate_performance(data, names_list, employee_name_entry)\n",
        "\n",
        "print(f\"{employee_name_entry}'s performance is {employee_performance}.\")"
      ]
    },
    {
      "cell_type": "markdown",
      "metadata": {
        "id": "4zUQIn2s7wwy"
      },
      "source": [
        "###Calculate the performance of each employee\n",
        "Now you need to calculate the performance score of each employee and add these scores to a list.\n",
        "\n",
        "📌 Create an empty list \"performance_scores\" to hold the scores.\n",
        "\n",
        "📌 Use a for loop to convert the scores into integer type data and append it to the list \"sperformance_scores\"."
      ]
    },
    {
      "cell_type": "code",
      "execution_count": 185,
      "metadata": {
        "id": "xTroGqo745AO"
      },
      "outputs": [
        {
          "name": "stdout",
          "output_type": "stream",
          "text": [
            "All the performances: [  64   36  576 1040   25  192  166  300   60   26   75]\n"
          ]
        }
      ],
      "source": [
        "#Calculate the performance of each employee and add into performance_array.\n",
        "performance_array = np.array([],dtype=int)\n",
        "for name in names_list:\n",
        "    performance_array = np.append(performance_array, int(calculate_performance(data, names_list, name)))\n",
        "print(f\"All the performances: {performance_array}\")"
      ]
    },
    {
      "cell_type": "markdown",
      "metadata": {
        "id": "JEjPMpP7FvOw"
      },
      "source": [
        "###Add the scores to the \"data\" array\n",
        "\n",
        "Next, you need to add the scores to your \"data\" array and print the result.\n",
        "\n",
        "📌 Use the .concatenate() method to add the \"performance_scores\" list to the \"data\" array. "
      ]
    },
    {
      "cell_type": "code",
      "execution_count": 187,
      "metadata": {
        "id": "zm4Zbzl9-1n-"
      },
      "outputs": [
        {
          "name": "stdout",
          "output_type": "stream",
          "text": [
            "All arrays concatenated. Result: [[    0     1     2     3     4     5     6     7     8     9    10]\n",
            " [  300    10   500    70   100   100   600   800   200   450    80]\n",
            " [    8     6    24    32     5    25    25    40    15    10    12]\n",
            " [ 2400    60 12000  2275   500   770  4000  6000   800  1200   500]\n",
            " [   64    36   576  1040    25   192   166   300    60    26    75]]\n"
          ]
        }
      ],
      "source": [
        "#Print the resulting array\n",
        "data = data.reshape(1,44)\n",
        "data = np.append(data, performance_array)\n",
        "data = data.reshape(5,11)\n",
        "print(f\"All arrays concatenated. Result: {data}\")"
      ]
    },
    {
      "cell_type": "markdown",
      "metadata": {
        "id": "oWMMtqfDUZVs"
      },
      "source": [
        "###Find out the best and worst performing employees\n",
        "\n",
        "Finally, you need to determine the best and worst performing employees.\n",
        "\n",
        "📌 Use the .argmax() and .argmin() methods to find the index of the best and worst performing employees."
      ]
    },
    {
      "cell_type": "code",
      "execution_count": 188,
      "metadata": {
        "id": "58fNLhRsQ18I"
      },
      "outputs": [
        {
          "name": "stdout",
          "output_type": "stream",
          "text": [
            "Worst performer is Sue\n",
            "Best performer is Celine\n"
          ]
        }
      ],
      "source": [
        "#Use .argmax() and .argmin() methods to determine the best and worst performing employees\n",
        "index_worst_performance = np.argmin(data[4])\n",
        "index_best_performance = np.argmax(data[4])\n",
        "\n",
        "#Print out the results\n",
        "print(f\"Worst performer is {names_list[index_worst_performance]}\")\n",
        "print(f\"Best performer is {names_list[index_best_performance]}\")"
      ]
    }
  ],
  "metadata": {
    "colab": {
      "collapsed_sections": [],
      "name": "Guided_project_4_updated.ipynb",
      "provenance": []
    },
    "kernelspec": {
      "display_name": "Python 3.10.5 64-bit",
      "language": "python",
      "name": "python3"
    },
    "language_info": {
      "codemirror_mode": {
        "name": "ipython",
        "version": 3
      },
      "file_extension": ".py",
      "mimetype": "text/x-python",
      "name": "python",
      "nbconvert_exporter": "python",
      "pygments_lexer": "ipython3",
      "version": "3.10.5"
    },
    "vscode": {
      "interpreter": {
        "hash": "26de051ba29f2982a8de78e945f0abaf191376122a1563185a90213a26c5da77"
      }
    }
  },
  "nbformat": 4,
  "nbformat_minor": 0
}
