{
  "cells": [
    {
      "cell_type": "markdown",
      "metadata": {
        "id": "VMuUK0ap_bRD"
      },
      "source": [
        "# Chapter 1\n",
        "### Your first day at your new job 👩‍💻👨‍💻\n",
        "\n",
        "You are starting a new job as a junior software developer in an IT company. \n",
        "\n",
        "The company’s HR department asks you to fill out a form, so you start by assigning your personal information to corresponding variables.\n",
        "\n",
        "📌 Create a variable for your name, surname, age, ID number, place of residence, to specify if you have active health insurance or not, and lastly one for specifying your nationality.\n"
      ]
    },
    {
      "cell_type": "code",
      "execution_count": 1,
      "metadata": {
        "id": "OPLhhc2Sp-D0"
      },
      "outputs": [],
      "source": [
        "#Please assign your personal information to variables\n",
        "my_name = \"Ugurcan\"\n",
        "my_surname = \"Uzunkaya\"\n",
        "my_age = 20\n",
        "my_id = 1234\n",
        "my_residence = \"Türkiye\"\n",
        "health_insurance = False\n",
        "my_nationality = \"Turk\""
      ]
    },
    {
      "cell_type": "markdown",
      "metadata": {
        "id": "3zaUlxwcp-D0"
      },
      "source": [
        "###Meet And Greet\n",
        "Introduce yourself to your new co-workers.\n",
        "\n",
        "📌 Use a f-string to print \"My name is Joey Tribbiani I am 25 years old and I live in London”."
      ]
    },
    {
      "cell_type": "code",
      "execution_count": 2,
      "metadata": {
        "id": "XNuh5_2WXwvg"
      },
      "outputs": [
        {
          "name": "stdout",
          "output_type": "stream",
          "text": [
            "My name is Ugurcan. I am 20 years old and I live in Türkiye.\n"
          ]
        }
      ],
      "source": [
        "#Write a sentence using the print function to describe yourself using the variables above in the correct data type\n",
        "print(f\"My name is {my_name}. I am {my_age} years old and I live in {my_residence}.\")"
      ]
    },
    {
      "cell_type": "markdown",
      "metadata": {
        "id": "EEL9To4ip-D1"
      },
      "source": [
        "### Equipment starter pack\n",
        "The HR department asks you to list the items you would need to improve your work efficiency\n",
        "\n",
        "Mandatory:\n",
        "* Laptop\n",
        "* Headset\n",
        "* Second monitor\n",
        "\n",
        "Optional:\n",
        "* Mousepad\n",
        "* USB drive\n",
        "* External drive\n",
        "\n",
        "\n",
        "📌 Create a shopping list that contains items above and print it."
      ]
    },
    {
      "cell_type": "code",
      "execution_count": 3,
      "metadata": {
        "id": "fPFBLDyqp-D2"
      },
      "outputs": [],
      "source": [
        "#Create the item_list\n",
        "item_list = [\"Laptop\", \"Headset\", \"Second Monitor\", \"Mousepad\", \"USB Drive\", \"External Drive\"]"
      ]
    },
    {
      "cell_type": "code",
      "execution_count": 4,
      "metadata": {
        "id": "358R_CN5U2-J"
      },
      "outputs": [
        {
          "name": "stdout",
          "output_type": "stream",
          "text": [
            "Equipment Starter Pack\n",
            "1. item: Laptop\n",
            "2. item: Headset\n",
            "3. item: Second Monitor\n",
            "4. item: Mousepad\n",
            "5. item: USB Drive\n",
            "6. item: External Drive\n"
          ]
        }
      ],
      "source": [
        "#Print the list\n",
        "print(\"Equipment Starter Pack\")\n",
        "for i in range(len(item_list)):\n",
        "    print(f\"{i+1}. item: {item_list[i]}\")"
      ]
    },
    {
      "cell_type": "markdown",
      "metadata": {
        "id": "5keEWjCyp-D2"
      },
      "source": [
        "####What is mandatory and what is optional?\n",
        "\n",
        "📌 Use list slicing to devide your list in two list: 'mandatory_item_list' and 'optional_item_list' and print both to the screen."
      ]
    },
    {
      "cell_type": "code",
      "execution_count": 5,
      "metadata": {
        "id": "E6ewuDYZp-D2"
      },
      "outputs": [],
      "source": [
        "#Use list slicing to divide the mandatory items\n",
        "mandatory_item_list = item_list[:3]"
      ]
    },
    {
      "cell_type": "code",
      "execution_count": 6,
      "metadata": {
        "id": "hOmkym01RGEL"
      },
      "outputs": [],
      "source": [
        "#Use list slicing to divide the optional items\n",
        "optional_item_list = item_list[3:]"
      ]
    },
    {
      "cell_type": "code",
      "execution_count": 7,
      "metadata": {
        "id": "xsVv1_msVE1_"
      },
      "outputs": [
        {
          "name": "stdout",
          "output_type": "stream",
          "text": [
            "Mandotory Items in Pack\n",
            "1. item: Laptop\n",
            "2. item: Headset\n",
            "3. item: Second Monitor\n",
            "\n",
            "Optional Items in Pack\n",
            "1. item: Mousepad\n",
            "2. item: USB Drive\n",
            "3. item: External Drive\n"
          ]
        }
      ],
      "source": [
        "#Print both to the screen\n",
        "print(\"Mandotory Items in Pack\")\n",
        "for i in range(len(mandatory_item_list)):\n",
        "    print(f\"{i+1}. item: {mandatory_item_list[i]}\")\n",
        "print()\n",
        "print(\"Optional Items in Pack\")\n",
        "for i in range(len(optional_item_list)):\n",
        "    print(f\"{i+1}. item: {optional_item_list[i]}\")"
      ]
    },
    {
      "cell_type": "markdown",
      "metadata": {
        "id": "s_M1Q93wp-D3"
      },
      "source": [
        "#### Go Shopping\n",
        "Next, you will have to go and purchase these items, the finance department confirmed a budget of $5000.\n",
        "\n",
        "📌 Assign 5000 to a variable called limit, so you know how much you can spend."
      ]
    },
    {
      "cell_type": "code",
      "execution_count": 8,
      "metadata": {
        "id": "nCmpm0oqp-D3"
      },
      "outputs": [],
      "source": [
        "#Assign the spending limit value to a variable called limit\n",
        "spending_limit = 5000"
      ]
    },
    {
      "cell_type": "markdown",
      "metadata": {
        "id": "VwbEEymVp-D3"
      },
      "source": [
        "####Price dictionary\n",
        "\n",
        "Before you start shopping yo need to find the best items that you can buy within the company budget. \n",
        "\n",
        "📌 Prepare a dictionary called “price_sheet” that includes the items as keys and the prices as values.  \n",
        " "
      ]
    },
    {
      "cell_type": "code",
      "execution_count": 9,
      "metadata": {
        "id": "9o9n9Ag-p-D3"
      },
      "outputs": [
        {
          "name": "stdout",
          "output_type": "stream",
          "text": [
            "Laptop is worth 362\n",
            "Headset is worth 1654\n",
            "Second Monitor is worth 1950\n",
            "Mousepad is worth 1999\n",
            "USB Drive is worth 576\n",
            "External Drive is worth 501\n"
          ]
        }
      ],
      "source": [
        "#Create a dictionary that contains each item and its price\n",
        "import random \n",
        "\n",
        "price_sheet = {i: random.randint(0, 2000) for i in item_list}\n",
        "price_sheet_keys = list(price_sheet.keys())\n",
        "price_sheet_vals = list(price_sheet.values())\n",
        "for i in range(len(price_sheet)):\n",
        "    print(f\"{price_sheet_keys[i]} is worth {price_sheet_vals[i]}\")\n"
      ]
    },
    {
      "cell_type": "markdown",
      "metadata": {
        "id": "rUYivBVEBhCv"
      },
      "source": [
        "####Shopping functions\n",
        "\n",
        "You need to define three functions that will help you during shopping.\n",
        "\n",
        "📌 First, create an empty list that  will be your shopping cart. Here you will add the items you need to purchase.\n",
        "\n",
        "1. Define a function for both adding items to the cart and removing them from the item_list.\n",
        "\n",
        "📌 The \"add_to_cart\" function should take the item name and the quantity to buy as an argument. \n",
        "\n",
        "2. Define a function that will create an invoice. \n",
        "\n",
        "📌 The \"create_invoice\" function should calculate the taxes of each item (18%) and add it to the total amount.\n",
        "\n",
        "3. Define a function for the checkout. \n",
        "\n",
        "📌 The \"checkout\" function should subtract the total amount from the budget and print a statement to inform if the payment was successful. "
      ]
    },
    {
      "cell_type": "code",
      "execution_count": 10,
      "metadata": {
        "id": "dBNZ2ZdkGHUe"
      },
      "outputs": [],
      "source": [
        "#Initialize the cart list\n",
        "cart_list = []"
      ]
    },
    {
      "cell_type": "code",
      "execution_count": 11,
      "metadata": {
        "id": "HH26hHHFGKPJ"
      },
      "outputs": [],
      "source": [
        "#Define the \"add_to_cart\" function\n",
        "def add_to_cart(cart, item): # Asking question for quantity for every item\n",
        "    quantity = int(input(f\"Enter how many you want of {item}:\"))\n",
        "    cart.append((item, quantity))\n",
        "    return cart"
      ]
    },
    {
      "cell_type": "code",
      "execution_count": 12,
      "metadata": {
        "id": "TUmNr4xVGQdm"
      },
      "outputs": [],
      "source": [
        "#Define the \"create_invoice\" function\n",
        "def create_invoice(cart, sheet):\n",
        "    total_amount_with_tax = 0\n",
        "    tax = 0.18\n",
        "    for i in range(len(cart)):\n",
        "        price = sheet[cart[i][0]]\n",
        "        taxxed_price = price + price*tax\n",
        "        total_amount_with_tax += taxxed_price*cart[i][1]\n",
        "        print(f\"Item: {cart[i][0]}, Price: {price}, Quantity: {cart[i][1]}, Tax: {tax}, Taxxed Price: {taxxed_price:.2f}, Subtotal: {total_amount_with_tax:.2f} \")\n",
        "    print(f\"Total: {total_amount_with_tax:.2f}\")\n",
        "    return total_amount_with_tax\n",
        "    \n",
        "        "
      ]
    },
    {
      "cell_type": "code",
      "execution_count": 13,
      "metadata": {
        "id": "iUlKiXgMGdIk"
      },
      "outputs": [],
      "source": [
        "#Define the \"checkout\" function\n",
        "def checkout(limit, cart, sheet):\n",
        "    total_amount = create_invoice(cart, sheet)\n",
        "    if limit == 0:\n",
        "        print(\"You don't have any budget\")\n",
        "    elif total_amount>limit:\n",
        "        print(\"You exceed the limit. You need to drop some item.\")\n",
        "    else:\n",
        "        limit -= total_amount\n",
        "        print(f\"Checkout is done. You spent {total_amount:.2f}. You have {limit:.2f} to spend.\")"
      ]
    },
    {
      "cell_type": "code",
      "execution_count": 14,
      "metadata": {},
      "outputs": [],
      "source": [
        "# New added remove function\n",
        "def remove_from_cart(cart, item):\n",
        "    for i in range(len(cart)):\n",
        "        if i < len(cart) and cart[i][0] == item:\n",
        "            cart.pop(i)\n",
        "    return cart"
      ]
    },
    {
      "cell_type": "markdown",
      "metadata": {
        "id": "2IFUlu0yB0In"
      },
      "source": [
        "Let's shop!"
      ]
    },
    {
      "cell_type": "code",
      "execution_count": 15,
      "metadata": {
        "id": "FDO7CRJTWPg7"
      },
      "outputs": [
        {
          "name": "stdout",
          "output_type": "stream",
          "text": [
            "Item: Laptop, Quantity: 1\n",
            "Item: Headset, Quantity: 1\n",
            "Item: Second Monitor, Quantity: 1\n",
            "Item: Mousepad, Quantity: 1\n",
            "Item: USB Drive, Quantity: 1\n",
            "Item: External Drive, Quantity: 1\n"
          ]
        }
      ],
      "source": [
        "#Call the \"add_to_cart\" function for each item\n",
        "#Add first item to cart\n",
        "#Add second item to cart\n",
        "#Add third item to cart\n",
        "#Add fourth item to cart\n",
        "#Add fifth item to cart\n",
        "#Add last item to cart\n",
        "\n",
        "for i in range(len(price_sheet)): #Adds all the items in the price sheet\n",
        "    add_to_cart(cart_list, price_sheet_keys[i])\n",
        "    print(f\"Item: {cart_list[i][0]}, Quantity: {cart_list[i][1]}\")\n"
      ]
    },
    {
      "cell_type": "code",
      "execution_count": 16,
      "metadata": {},
      "outputs": [
        {
          "name": "stdout",
          "output_type": "stream",
          "text": [
            "Item: Laptop, Price: 362, Quantity: 1, Tax: 0.18, Taxxed Price: 427.16, Subtotal: 427.16 \n",
            "Item: Headset, Price: 1654, Quantity: 1, Tax: 0.18, Taxxed Price: 1951.72, Subtotal: 2378.88 \n",
            "Item: Second Monitor, Price: 1950, Quantity: 1, Tax: 0.18, Taxxed Price: 2301.00, Subtotal: 4679.88 \n",
            "Item: Mousepad, Price: 1999, Quantity: 1, Tax: 0.18, Taxxed Price: 2358.82, Subtotal: 7038.70 \n",
            "Item: USB Drive, Price: 576, Quantity: 1, Tax: 0.18, Taxxed Price: 679.68, Subtotal: 7718.38 \n",
            "Item: External Drive, Price: 501, Quantity: 1, Tax: 0.18, Taxxed Price: 591.18, Subtotal: 8309.56 \n",
            "Total: 8309.56\n",
            "You exceed the limit. You need to drop some item.\n"
          ]
        }
      ],
      "source": [
        "#Call the create \"checkout\" function to pay for all your items\n",
        "checkout(spending_limit, cart_list, price_sheet)"
      ]
    },
    {
      "cell_type": "code",
      "execution_count": 17,
      "metadata": {},
      "outputs": [
        {
          "name": "stdout",
          "output_type": "stream",
          "text": [
            "Before removing any item\n",
            "[('Laptop', 1), ('Headset', 1), ('Second Monitor', 1), ('Mousepad', 1), ('USB Drive', 1), ('External Drive', 1)]\n",
            "After removing USB Drive\n",
            "[('Laptop', 1), ('Headset', 1), ('Second Monitor', 1), ('Mousepad', 1), ('External Drive', 1)]\n"
          ]
        }
      ],
      "source": [
        "# New added example of how to remove item from cart\n",
        "print(\"Before removing any item\")\n",
        "print(cart_list)\n",
        "item_name = input(\"Enter which item you want to remove from cart:\")\n",
        "print(f\"After removing {item_name}\")\n",
        "print(remove_from_cart(cart_list, item_name))"
      ]
    },
    {
      "cell_type": "markdown",
      "metadata": {
        "id": "ZL-r2x_xKixg"
      },
      "source": [
        "###Game Night\n",
        "\n",
        "You are back at the office and the HR department organizes a welcome party for new employees. \n",
        "\n",
        "You decide to create a Rock-Paper-Scissor game. \n",
        "\n",
        "📌 Create a Rock-Paper-Scissor game in which the user plays against the computer. The player will choose one of the actions, and the computer will choose its action randomly.\n"
      ]
    },
    {
      "cell_type": "code",
      "execution_count": null,
      "metadata": {
        "id": "qzD5pxBTgcFb"
      },
      "outputs": [],
      "source": [
        "#Import the random library\n"
      ]
    },
    {
      "cell_type": "code",
      "execution_count": null,
      "metadata": {
        "id": "oJv-ihLAgcRo"
      },
      "outputs": [],
      "source": [
        "#create a list containing the three actions of the game.\n"
      ]
    },
    {
      "cell_type": "code",
      "execution_count": null,
      "metadata": {
        "id": "DNUa_9afWqMd"
      },
      "outputs": [],
      "source": [
        "#Set the scores of players to 0\n",
        "\n",
        "\n",
        "#Ask the user how many rounds they want to play\n",
        "\n",
        "\n",
        "#Add a round_counter that is 0 at the beginning\n",
        "\n",
        "\n",
        "#Write a while loop and put the game inside\n",
        "\n",
        "\n",
        "  #Increase round_counter by and print it\n",
        "  \n",
        "\n",
        "\n",
        "  #Select a random action for computer\n",
        "  \n",
        "\n",
        "  #Ask player to choose an action\n",
        "  \n",
        "\n",
        "  #Print the players choices\n",
        "  \n",
        "\n",
        "\n",
        "\n",
        "  #tie condition\n",
        "  \n",
        "\n",
        "\n",
        "  #Remaining conditions\n",
        "  \n",
        "\n",
        "\n",
        "\n",
        "\n",
        "\n",
        "  #Stop the while loop if the round_counter equals the number of total rounds\n",
        "  \n",
        "\n",
        "\n",
        "#Print the outcome of the game by using conditional statements\n"
      ]
    },
    {
      "cell_type": "markdown",
      "metadata": {
        "id": "jdrYN0Xgp-D6"
      },
      "source": [
        "# Your first task \n",
        "\n",
        "Rachel asks you to write a program to track the name and revenue each employee brings.  \n",
        "\n",
        "* Create the \"salesperson_revenue\" dictionary to see the employee name as a key and the revenue as a value.\n",
        "\n",
        "  📌 Every employee starts with 0 revenue.\n",
        "* Define the \"enter_revenue\" function. \n",
        "\n",
        "  📌 The function takes the name and revenue as an argument and updates the salesperson_revenue dictionary.\n"
      ]
    },
    {
      "cell_type": "code",
      "execution_count": null,
      "metadata": {
        "id": "3vzRo7hyMRv2"
      },
      "outputs": [],
      "source": [
        "#Create salesperson_revenue dictionary\n",
        "\n"
      ]
    },
    {
      "cell_type": "code",
      "execution_count": null,
      "metadata": {
        "id": "m-8IozBwMRzM"
      },
      "outputs": [],
      "source": [
        "#Define enter_revenue function\n",
        "\n"
      ]
    },
    {
      "cell_type": "markdown",
      "metadata": {
        "id": "UnTGSoNTi58u"
      },
      "source": [
        "####Try out the functions\n",
        "* In a while loop ask the user to give the name of the employee and for the revenue \n",
        "\n",
        "  📌 If the user enters “quit” the loop should break.\n",
        "\n",
        "After that, print out the salesperson_revenue dictionary.\n"
      ]
    },
    {
      "cell_type": "code",
      "execution_count": null,
      "metadata": {
        "id": "2E549VvFXNi6"
      },
      "outputs": [],
      "source": [
        "#Asking user employee name as input\n"
      ]
    },
    {
      "cell_type": "code",
      "execution_count": null,
      "metadata": {
        "id": "OAvl9rgOXPe6"
      },
      "outputs": [],
      "source": [
        "#Print the salesperson_revenue dictionary\n"
      ]
    }
  ],
  "metadata": {
    "colab": {
      "collapsed_sections": [],
      "name": "Guided_project_1.ipynb",
      "provenance": []
    },
    "kernelspec": {
      "display_name": "Python 3.10.5 64-bit",
      "language": "python",
      "name": "python3"
    },
    "language_info": {
      "codemirror_mode": {
        "name": "ipython",
        "version": 3
      },
      "file_extension": ".py",
      "mimetype": "text/x-python",
      "name": "python",
      "nbconvert_exporter": "python",
      "pygments_lexer": "ipython3",
      "version": "3.10.5"
    },
    "orig_nbformat": 4,
    "vscode": {
      "interpreter": {
        "hash": "26de051ba29f2982a8de78e945f0abaf191376122a1563185a90213a26c5da77"
      }
    }
  },
  "nbformat": 4,
  "nbformat_minor": 0
}
