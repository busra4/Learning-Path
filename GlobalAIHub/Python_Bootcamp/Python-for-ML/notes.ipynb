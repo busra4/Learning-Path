{
 "cells": [
  {
   "cell_type": "markdown",
   "metadata": {},
   "source": [
    "AI7080 - Introduction\n",
    "- Reminder for Python syntax with simple guided project."
   ]
  },
  {
   "cell_type": "markdown",
   "metadata": {},
   "source": [
    "AI7090 - Object-Oriented Programming\n",
    "- OOP is a specific way, or style, of designing programs, which helps you to break down all of the functions in your program into smaller parts.\n",
    "- Class is a blueprint of an object and object is an instance of class. \n",
    "- One of basic principle is \"Don't Repeat Yourself!\"\n",
    "- Advantages\n",
    "    - Create large software with smaller programs and distribute them to people or groups to develop it.\n",
    "    - Allow to focus on smaller pieces of the action plan. So, it simplify the process and helps to develop easily.\n",
    "    - Easier changeability and not effect the whole program.\n",
    "    - Easier documentation, maintenance, understandibility\n",
    "    - \n"
   ]
  },
  {
   "cell_type": "code",
   "execution_count": 16,
   "metadata": {},
   "outputs": [],
   "source": [
    "# Class Example\n",
    "\n",
    "class Employee():\n",
    "    def __init__(self):\n",
    "        self.employee_list = []\n",
    "    \n",
    "    def add_new_employee(self):\n",
    "        self.employee_name = input(\"Enter the name of the employee:\").capitalize()\n",
    "        self.department = input(\"Enter the department of the employee:\").capitalize()\n",
    "        self.starting_year = input(\"Enter the starting year of the employee:\")\n",
    "        self.salary = float(input(\"Enter the salary of the employee:\"))\n",
    "        self.employee_list.append((self.employee_name, self.department, self.starting_year, self.salary))\n",
    "        print(self.employee_list)\n",
    "    \n",
    "    def search_employee(self, name):\n",
    "        for i in self.employee_list:\n",
    "            if name in i:\n",
    "                for y in range(len(i)):\n",
    "                    print(i[y])\n"
   ]
  },
  {
   "cell_type": "code",
   "execution_count": 17,
   "metadata": {},
   "outputs": [
    {
     "name": "stdout",
     "output_type": "stream",
     "text": [
      "[('ben', 'sales', '1999', 5000.0)]\n",
      "ben\n",
      "sales\n",
      "1999\n",
      "5000.0\n"
     ]
    }
   ],
   "source": [
    "first_employee = Employee()\n",
    "first_employee.add_new_employee()\n",
    "first_employee.search_employee(\"ben\")"
   ]
  }
 ],
 "metadata": {
  "kernelspec": {
   "display_name": "Python 3.10.5 64-bit",
   "language": "python",
   "name": "python3"
  },
  "language_info": {
   "codemirror_mode": {
    "name": "ipython",
    "version": 3
   },
   "file_extension": ".py",
   "mimetype": "text/x-python",
   "name": "python",
   "nbconvert_exporter": "python",
   "pygments_lexer": "ipython3",
   "version": "3.10.5"
  },
  "orig_nbformat": 4,
  "vscode": {
   "interpreter": {
    "hash": "26de051ba29f2982a8de78e945f0abaf191376122a1563185a90213a26c5da77"
   }
  }
 },
 "nbformat": 4,
 "nbformat_minor": 2
}
