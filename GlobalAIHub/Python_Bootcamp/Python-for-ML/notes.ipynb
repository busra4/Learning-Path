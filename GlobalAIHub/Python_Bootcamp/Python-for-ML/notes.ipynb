{
 "cells": [
  {
   "cell_type": "markdown",
   "metadata": {},
   "source": [
    "AI7080 - Introduction\n",
    "- Reminder for Python syntax with guided project 1."
   ]
  },
  {
   "cell_type": "markdown",
   "metadata": {},
   "source": [
    "AI7090 - Object-Oriented Programming\n",
    "- OOP is a specific way, or style, of designing programs, which helps you to break down all of the functions in your program into smaller parts.\n",
    "- Class is a blueprint of an object and object is an instance of class. \n",
    "- One of basic principle is \"Don't Repeat Yourself!\"\n",
    "- Advantages\n",
    "    - Create large software with smaller programs and distribute them to people or groups to develop it.\n",
    "    - Allow to focus on smaller pieces of the action plan. So, it simplify the process and helps to develop easily.\n",
    "    - Easier changeability and not effect the whole program.\n",
    "    - Easier documentation, maintenance, understandibility.\n",
    "\n",
    "- You can see example usage of class in guided project 2."
   ]
  },
  {
   "cell_type": "markdown",
   "metadata": {},
   "source": [
    "AI70100 - Preparing Data\n",
    "- Used different functions and advanced data types. You can see examples in guided project 3."
   ]
  },
  {
   "cell_type": "markdown",
   "metadata": {},
   "source": [
    "AI70110 - Processing Data\n",
    "- NumPy = Numerical Python.\n",
    "- Numpy is widely used for processing data.\n",
    "- It is faster and easier to work with large numerical datasets than using lists or loops.\n",
    "- You need to install numpy before using. You can use terminal to install with this \"python -m pip install numpy\" or use Anaconda to install.\n",
    "- Usually called as np.\n",
    "- It has own data type \"ndarray\" = n-dimensional array.\n",
    "- Can not store different data types. You can use \"np.array(listname)\" to use numpy."
   ]
  },
  {
   "cell_type": "code",
   "execution_count": 3,
   "metadata": {},
   "outputs": [
    {
     "name": "stdout",
     "output_type": "stream",
     "text": [
      "<class 'numpy.str_'>\n",
      "<class 'numpy.str_'>\n",
      "<class 'numpy.str_'>\n",
      "<class 'numpy.str_'>\n"
     ]
    }
   ],
   "source": [
    "import numpy as np\n",
    "list_name = [\"ben\", 1, 3,\"kate\"]\n",
    "array_name = np.array(list_name)\n",
    "for i in array_name:\n",
    "    print(type(i))"
   ]
  },
  {
   "cell_type": "markdown",
   "metadata": {},
   "source": [
    "- We can use \".ndim\" to see how many dimensions that array has.\n",
    "- We can use \".shape\" to see how many rows and columns that array has also we can see total element number by multiplying them.\n",
    "- We can use \".size\" to see how many elements in the array."
   ]
  },
  {
   "cell_type": "markdown",
   "metadata": {},
   "source": []
  }
 ],
 "metadata": {
  "kernelspec": {
   "display_name": "Python 3.10.5 64-bit",
   "language": "python",
   "name": "python3"
  },
  "language_info": {
   "codemirror_mode": {
    "name": "ipython",
    "version": 3
   },
   "file_extension": ".py",
   "mimetype": "text/x-python",
   "name": "python",
   "nbconvert_exporter": "python",
   "pygments_lexer": "ipython3",
   "version": "3.10.5"
  },
  "orig_nbformat": 4,
  "vscode": {
   "interpreter": {
    "hash": "26de051ba29f2982a8de78e945f0abaf191376122a1563185a90213a26c5da77"
   }
  }
 },
 "nbformat": 4,
 "nbformat_minor": 2
}
