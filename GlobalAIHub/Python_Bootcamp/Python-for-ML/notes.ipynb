{
 "cells": [
  {
   "cell_type": "markdown",
   "metadata": {},
   "source": [
    "AI7080 - Introduction\n",
    "- Reminder for Python syntax with simple guided project."
   ]
  },
  {
   "cell_type": "markdown",
   "metadata": {},
   "source": [
    "AI7090 - Object-Oriented Programming\n",
    "- OOP is a specific way, or style, of designing programs, which helps you to break down all of the functions in your program into smaller parts.\n",
    "- Class is a blueprint of an object and object is an instance of class. \n",
    "- One of basic principle is \"Don't Repeat Yourself!\"\n",
    "- Advantages\n",
    "    - Create large software with smaller programs and distribute them to people or groups to develop it.\n",
    "    - Allow to focus on smaller pieces of the action plan. So, it simplify the process and helps to develop easily.\n",
    "    - Easier changeability and not effect the whole program.\n",
    "    - Easier documentation, maintenance, understandibility\n"
   ]
  }
 ],
 "metadata": {
  "kernelspec": {
   "display_name": "Python 3.10.5 64-bit",
   "language": "python",
   "name": "python3"
  },
  "language_info": {
   "codemirror_mode": {
    "name": "ipython",
    "version": 3
   },
   "file_extension": ".py",
   "mimetype": "text/x-python",
   "name": "python",
   "nbconvert_exporter": "python",
   "pygments_lexer": "ipython3",
   "version": "3.10.5"
  },
  "orig_nbformat": 4,
  "vscode": {
   "interpreter": {
    "hash": "26de051ba29f2982a8de78e945f0abaf191376122a1563185a90213a26c5da77"
   }
  }
 },
 "nbformat": 4,
 "nbformat_minor": 2
}
