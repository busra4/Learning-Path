{
 "cells": [
  {
   "cell_type": "markdown",
   "metadata": {},
   "source": [
    "AI7010 - Introduction\n",
    "- Practice makes improvement.\n",
    "- Mostly used in data science, machine learning and AI applications.\n",
    "- Easy to learn and simple core syntax.\n",
    "- Try to diversify community to minimize the bias.\n",
    "- All of the program have the same base. Concept, algorithm and message.\n",
    "- Simple, compact and readable code always the best one.\n",
    "- While programming, you spent most of the time while debugging the program.\n",
    "- Programming is a skill you need to practice every day to improve and maintain it.\n",
    "- You need to improve your programming, mathematical and communication skill to be a good one.\n"
   ]
  },
  {
   "cell_type": "code",
   "execution_count": 1,
   "metadata": {},
   "outputs": [
    {
     "name": "stdout",
     "output_type": "stream",
     "text": [
      "Help on class int in module builtins:\n",
      "\n",
      "class int(object)\n",
      " |  int([x]) -> integer\n",
      " |  int(x, base=10) -> integer\n",
      " |  \n",
      " |  Convert a number or string to an integer, or return 0 if no arguments\n",
      " |  are given.  If x is a number, return x.__int__().  For floating point\n",
      " |  numbers, this truncates towards zero.\n",
      " |  \n",
      " |  If x is not a number or if base is given, then x must be a string,\n",
      " |  bytes, or bytearray instance representing an integer literal in the\n",
      " |  given base.  The literal can be preceded by '+' or '-' and be surrounded\n",
      " |  by whitespace.  The base defaults to 10.  Valid bases are 0 and 2-36.\n",
      " |  Base 0 means to interpret the base from the string as an integer literal.\n",
      " |  >>> int('0b100', base=0)\n",
      " |  4\n",
      " |  \n",
      " |  Built-in subclasses:\n",
      " |      bool\n",
      " |  \n",
      " |  Methods defined here:\n",
      " |  \n",
      " |  __abs__(self, /)\n",
      " |      abs(self)\n",
      " |  \n",
      " |  __add__(self, value, /)\n",
      " |      Return self+value.\n",
      " |  \n",
      " |  __and__(self, value, /)\n",
      " |      Return self&value.\n",
      " |  \n",
      " |  __bool__(self, /)\n",
      " |      True if self else False\n",
      " |  \n",
      " |  __ceil__(...)\n",
      " |      Ceiling of an Integral returns itself.\n",
      " |  \n",
      " |  __divmod__(self, value, /)\n",
      " |      Return divmod(self, value).\n",
      " |  \n",
      " |  __eq__(self, value, /)\n",
      " |      Return self==value.\n",
      " |  \n",
      " |  __float__(self, /)\n",
      " |      float(self)\n",
      " |  \n",
      " |  __floor__(...)\n",
      " |      Flooring an Integral returns itself.\n",
      " |  \n",
      " |  __floordiv__(self, value, /)\n",
      " |      Return self//value.\n",
      " |  \n",
      " |  __format__(self, format_spec, /)\n",
      " |      Default object formatter.\n",
      " |  \n",
      " |  __ge__(self, value, /)\n",
      " |      Return self>=value.\n",
      " |  \n",
      " |  __getattribute__(self, name, /)\n",
      " |      Return getattr(self, name).\n",
      " |  \n",
      " |  __getnewargs__(self, /)\n",
      " |  \n",
      " |  __gt__(self, value, /)\n",
      " |      Return self>value.\n",
      " |  \n",
      " |  __hash__(self, /)\n",
      " |      Return hash(self).\n",
      " |  \n",
      " |  __index__(self, /)\n",
      " |      Return self converted to an integer, if self is suitable for use as an index into a list.\n",
      " |  \n",
      " |  __int__(self, /)\n",
      " |      int(self)\n",
      " |  \n",
      " |  __invert__(self, /)\n",
      " |      ~self\n",
      " |  \n",
      " |  __le__(self, value, /)\n",
      " |      Return self<=value.\n",
      " |  \n",
      " |  __lshift__(self, value, /)\n",
      " |      Return self<<value.\n",
      " |  \n",
      " |  __lt__(self, value, /)\n",
      " |      Return self<value.\n",
      " |  \n",
      " |  __mod__(self, value, /)\n",
      " |      Return self%value.\n",
      " |  \n",
      " |  __mul__(self, value, /)\n",
      " |      Return self*value.\n",
      " |  \n",
      " |  __ne__(self, value, /)\n",
      " |      Return self!=value.\n",
      " |  \n",
      " |  __neg__(self, /)\n",
      " |      -self\n",
      " |  \n",
      " |  __or__(self, value, /)\n",
      " |      Return self|value.\n",
      " |  \n",
      " |  __pos__(self, /)\n",
      " |      +self\n",
      " |  \n",
      " |  __pow__(self, value, mod=None, /)\n",
      " |      Return pow(self, value, mod).\n",
      " |  \n",
      " |  __radd__(self, value, /)\n",
      " |      Return value+self.\n",
      " |  \n",
      " |  __rand__(self, value, /)\n",
      " |      Return value&self.\n",
      " |  \n",
      " |  __rdivmod__(self, value, /)\n",
      " |      Return divmod(value, self).\n",
      " |  \n",
      " |  __repr__(self, /)\n",
      " |      Return repr(self).\n",
      " |  \n",
      " |  __rfloordiv__(self, value, /)\n",
      " |      Return value//self.\n",
      " |  \n",
      " |  __rlshift__(self, value, /)\n",
      " |      Return value<<self.\n",
      " |  \n",
      " |  __rmod__(self, value, /)\n",
      " |      Return value%self.\n",
      " |  \n",
      " |  __rmul__(self, value, /)\n",
      " |      Return value*self.\n",
      " |  \n",
      " |  __ror__(self, value, /)\n",
      " |      Return value|self.\n",
      " |  \n",
      " |  __round__(...)\n",
      " |      Rounding an Integral returns itself.\n",
      " |      \n",
      " |      Rounding with an ndigits argument also returns an integer.\n",
      " |  \n",
      " |  __rpow__(self, value, mod=None, /)\n",
      " |      Return pow(value, self, mod).\n",
      " |  \n",
      " |  __rrshift__(self, value, /)\n",
      " |      Return value>>self.\n",
      " |  \n",
      " |  __rshift__(self, value, /)\n",
      " |      Return self>>value.\n",
      " |  \n",
      " |  __rsub__(self, value, /)\n",
      " |      Return value-self.\n",
      " |  \n",
      " |  __rtruediv__(self, value, /)\n",
      " |      Return value/self.\n",
      " |  \n",
      " |  __rxor__(self, value, /)\n",
      " |      Return value^self.\n",
      " |  \n",
      " |  __sizeof__(self, /)\n",
      " |      Returns size in memory, in bytes.\n",
      " |  \n",
      " |  __sub__(self, value, /)\n",
      " |      Return self-value.\n",
      " |  \n",
      " |  __truediv__(self, value, /)\n",
      " |      Return self/value.\n",
      " |  \n",
      " |  __trunc__(...)\n",
      " |      Truncating an Integral returns itself.\n",
      " |  \n",
      " |  __xor__(self, value, /)\n",
      " |      Return self^value.\n",
      " |  \n",
      " |  as_integer_ratio(self, /)\n",
      " |      Return integer ratio.\n",
      " |      \n",
      " |      Return a pair of integers, whose ratio is exactly equal to the original int\n",
      " |      and with a positive denominator.\n",
      " |      \n",
      " |      >>> (10).as_integer_ratio()\n",
      " |      (10, 1)\n",
      " |      >>> (-10).as_integer_ratio()\n",
      " |      (-10, 1)\n",
      " |      >>> (0).as_integer_ratio()\n",
      " |      (0, 1)\n",
      " |  \n",
      " |  bit_count(self, /)\n",
      " |      Number of ones in the binary representation of the absolute value of self.\n",
      " |      \n",
      " |      Also known as the population count.\n",
      " |      \n",
      " |      >>> bin(13)\n",
      " |      '0b1101'\n",
      " |      >>> (13).bit_count()\n",
      " |      3\n",
      " |  \n",
      " |  bit_length(self, /)\n",
      " |      Number of bits necessary to represent self in binary.\n",
      " |      \n",
      " |      >>> bin(37)\n",
      " |      '0b100101'\n",
      " |      >>> (37).bit_length()\n",
      " |      6\n",
      " |  \n",
      " |  conjugate(...)\n",
      " |      Returns self, the complex conjugate of any int.\n",
      " |  \n",
      " |  to_bytes(self, /, length, byteorder, *, signed=False)\n",
      " |      Return an array of bytes representing an integer.\n",
      " |      \n",
      " |      length\n",
      " |        Length of bytes object to use.  An OverflowError is raised if the\n",
      " |        integer is not representable with the given number of bytes.\n",
      " |      byteorder\n",
      " |        The byte order used to represent the integer.  If byteorder is 'big',\n",
      " |        the most significant byte is at the beginning of the byte array.  If\n",
      " |        byteorder is 'little', the most significant byte is at the end of the\n",
      " |        byte array.  To request the native byte order of the host system, use\n",
      " |        `sys.byteorder' as the byte order value.\n",
      " |      signed\n",
      " |        Determines whether two's complement is used to represent the integer.\n",
      " |        If signed is False and a negative integer is given, an OverflowError\n",
      " |        is raised.\n",
      " |  \n",
      " |  ----------------------------------------------------------------------\n",
      " |  Class methods defined here:\n",
      " |  \n",
      " |  from_bytes(bytes, byteorder, *, signed=False) from builtins.type\n",
      " |      Return the integer represented by the given array of bytes.\n",
      " |      \n",
      " |      bytes\n",
      " |        Holds the array of bytes to convert.  The argument must either\n",
      " |        support the buffer protocol or be an iterable object producing bytes.\n",
      " |        Bytes and bytearray are examples of built-in objects that support the\n",
      " |        buffer protocol.\n",
      " |      byteorder\n",
      " |        The byte order used to represent the integer.  If byteorder is 'big',\n",
      " |        the most significant byte is at the beginning of the byte array.  If\n",
      " |        byteorder is 'little', the most significant byte is at the end of the\n",
      " |        byte array.  To request the native byte order of the host system, use\n",
      " |        `sys.byteorder' as the byte order value.\n",
      " |      signed\n",
      " |        Indicates whether two's complement is used to represent the integer.\n",
      " |  \n",
      " |  ----------------------------------------------------------------------\n",
      " |  Static methods defined here:\n",
      " |  \n",
      " |  __new__(*args, **kwargs) from builtins.type\n",
      " |      Create and return a new object.  See help(type) for accurate signature.\n",
      " |  \n",
      " |  ----------------------------------------------------------------------\n",
      " |  Data descriptors defined here:\n",
      " |  \n",
      " |  denominator\n",
      " |      the denominator of a rational number in lowest terms\n",
      " |  \n",
      " |  imag\n",
      " |      the imaginary part of a complex number\n",
      " |  \n",
      " |  numerator\n",
      " |      the numerator of a rational number in lowest terms\n",
      " |  \n",
      " |  real\n",
      " |      the real part of a complex number\n",
      "\n"
     ]
    }
   ],
   "source": [
    "# You can change int to anythinng that you want to get info about it. For example I wrote int function.\n",
    "anything = int\n",
    "help(anything)"
   ]
  },
  {
   "cell_type": "code",
   "execution_count": 2,
   "metadata": {},
   "outputs": [
    {
     "name": "stdout",
     "output_type": "stream",
     "text": [
      "\n",
      "Welcome to Python 3.10's help utility!\n",
      "\n",
      "If this is your first time using Python, you should definitely check out\n",
      "the tutorial on the internet at https://docs.python.org/3.10/tutorial/.\n",
      "\n",
      "Enter the name of any module, keyword, or topic to get help on writing\n",
      "Python programs and using Python modules.  To quit this help utility and\n",
      "return to the interpreter, just type \"quit\".\n",
      "\n",
      "To get a list of available modules, keywords, symbols, or topics, type\n",
      "\"modules\", \"keywords\", \"symbols\", or \"topics\".  Each module also comes\n",
      "with a one-line summary of what it does; to list the modules whose name\n",
      "or summary contain a given string such as \"spam\", type \"modules spam\".\n",
      "\n",
      "\n",
      "Here is a list of the Python keywords.  Enter any keyword to get more help.\n",
      "\n",
      "False               class               from                or\n",
      "None                continue            global              pass\n",
      "True                def                 if                  raise\n",
      "and                 del                 import              return\n",
      "as                  elif                in                  try\n",
      "assert              else                is                  while\n",
      "async               except              lambda              with\n",
      "await               finally             nonlocal            yield\n",
      "break               for                 not                 \n",
      "\n",
      "\n",
      "You are now leaving help and returning to the Python interpreter.\n",
      "If you want to ask for help on a particular object directly from the\n",
      "interpreter, you can type \"help(object)\".  Executing \"help('string')\"\n",
      "has the same effect as typing a particular string at the help> prompt.\n"
     ]
    }
   ],
   "source": [
    "# You can also just write help() and in the prompt write what you want to get help and you can get. For example I wrote keywords.\n",
    "help()"
   ]
  },
  {
   "cell_type": "markdown",
   "metadata": {},
   "source": [
    "AI7020 - Python Syntax Essentials\n",
    "- Identifier is a user-defined name to represent basic objects in Python. These can be variables, functions, classes, modules, or other. It gives these objects unique identities to access easily through their name.\n",
    "- Python is a case-sensitive. So, \"Name\" and \"name\" are different. You can also use uppercase,lowercase,underscores or numbers (not in the start of variable name). You can't use symbols like !, @, #.\n",
    "- Tab is widely used to indent and create code blocks easily in Python. Tab = 4 spaces.\n",
    "- '#' for add comments to explain how the code works. If you want to add longer and multiple lines of explanation you can use triple quotes like this:\n",
    "<br>\n",
    "\"\"\"<br> \n",
    "your explanation<br>\n",
    "\"\"\" <br>\n",
    "\n",
    "- We can use variables as container with equal (=) sign. We can see type of variable with type(variable_name) function.\n",
    "- String is a sequence of characters. To use it as string, you need to add into single (' ') or double (\" \") quotes. You can convert elements into strings with str(). For example, str(25) -> \"25\" (you can't use as number).\n",
    "- Numbers are basically three types as integers, floating-point and complex numbers. We focus on first two for now. Integers called as int and floating-point numbers called as float in Python. \n",
    "- You can convert a number to integer with int(). If you use it on floats, you get the numbers before the decimal point not as rounded. For example, int(25.6) -> 25.\n",
    "- Also you can convert a number to floats with float(). If you use it on integers, you get number with decimal point and zero. For example, float(25) -> 25.0.\n",
    "- Lists can hold multiple elements same or different types. You use it with pair of square brackets ([]) after equal (=) sign and add elements into it. Index starts from 0 not 1. Also, you can easily change its elements because lists are mutable. To access an element, you need its index and change it like this: \n",
    " list1[0] = 2\n",
    "- To slice a list you need to indexes if you want specific area. For example, list1 has 5 elements and you need second and third element you slice it as list1[1:3]. It excluded the last index so you don't get fourth element. Also, you can slice it like those:\n",
    "<br>\n",
    "list1[:]: to see all elements<br>\n",
    "list1[1:]: from index 1 to last<br>\n",
    "list1[:4]: from beginning to index 4<br>\n",
    "<br>"
   ]
  },
  {
   "cell_type": "code",
   "execution_count": 3,
   "metadata": {},
   "outputs": [
    {
     "name": "stdout",
     "output_type": "stream",
     "text": [
      "First example: [0, 1, 2, 3, 4, 5, 6, 7, 8, 9]\n",
      "Second example: [1, 2, 3, 4, 5, 6, 7, 8, 9]\n",
      "Third example: [0, 1, 2, 3]\n"
     ]
    }
   ],
   "source": [
    "list1 = [0, 1, 2, 3, 4, 5, 6, 7, 8, 9]\n",
    "print(f\"First example: {list1[:]}\")\n",
    "print(f\"Second example: {list1[1:]}\")\n",
    "print(f\"Third example: {list1[:4]}\")"
   ]
  },
  {
   "cell_type": "markdown",
   "metadata": {},
   "source": [
    "- print() use to show data (output function). input() use to get data (input function).\n",
    "- To print both static and dynamic values (variables that with or without input() function) and also numbers, you can use f-strings easily like:"
   ]
  },
  {
   "cell_type": "code",
   "execution_count": 4,
   "metadata": {},
   "outputs": [
    {
     "name": "stdout",
     "output_type": "stream",
     "text": [
      "I love you 3000 Tony!\n"
     ]
    }
   ],
   "source": [
    "name = input(\"Enter your name:\")\n",
    "print(f\"I love you 3000 {name}!\")"
   ]
  },
  {
   "cell_type": "markdown",
   "metadata": {},
   "source": [
    "- We use to import and use module's functions or methods with import function. For example, \"import math\" is used for import math module to use its functions. Also, you can create modules as python files and use it in different python file.\n",
    "- The special symbols that allow us to do arithmetic or logical calculations in Python called operators, and the values used in these operations are called operands. There are 4 types of operators in Python: arithmetic, assignment, comparison, and logical operators.\n",
    "    - Arithmetic operators are +(addition), -(substraction), /(division), //(floor or integer division), *(multiply), **(power), %(mod).\n",
    "    - Assignment operator are = (equal sign as assign), += (as add the right value to left value and assign to left value), -= (as subtract the right value to left value and assign to left value), *=, /=, //=, **=, %= (you know the drill :D). For example, "
   ]
  },
  {
   "cell_type": "code",
   "execution_count": 5,
   "metadata": {},
   "outputs": [
    {
     "name": "stdout",
     "output_type": "stream",
     "text": [
      "4\n"
     ]
    }
   ],
   "source": [
    "a = 2\n",
    "a **= 2\n",
    "print(a)"
   ]
  },
  {
   "cell_type": "markdown",
   "metadata": {},
   "source": [
    "-\n",
    "    - Comparison operators are <(less than), >(greater than), <= (less and equal than), >= (greater and equal than), == (equal to), != (not equal to).\n",
    "    - Logical operators are and (both values need to be True or 1 to satisfy), or (at least one of the values need to be True or 1 to satisfy), not (inverts the value like True(1) to False(0) or vice versa)"
   ]
  },
  {
   "cell_type": "markdown",
   "metadata": {},
   "source": [
    "AI7030 - Flow Controls\n",
    "- if/elif/else is using for conditions. if and elif takes condition but else not take condition but all of them can create a code block.\n",
    "- We can use it as nested so we test more than one conditions that depend one to another."
   ]
  },
  {
   "cell_type": "code",
   "execution_count": 1,
   "metadata": {},
   "outputs": [
    {
     "name": "stdout",
     "output_type": "stream",
     "text": [
      "You are Ben!\n",
      "You know the name and password!\n"
     ]
    }
   ],
   "source": [
    "# Just two independent conditions\n",
    "name = \"Ben\"\n",
    "if name == \"Ben\":\n",
    "    print(\"You are Ben!\")\n",
    "elif name != \"Jane\":\n",
    "    print(\"You are Jane!\")\n",
    "else:\n",
    "    print(\"Who are you then?\")\n",
    "\n",
    "#One independent and one dependent condition\n",
    "name = \"Ben\"\n",
    "password = \"Jane\"\n",
    "if name == \"Ben\":\n",
    "    if password == \"Jane\":\n",
    "        print(\"You know the name and password!\")\n",
    "    else:\n",
    "        print(\"How did you enter the wrong password?\")\n",
    "else:\n",
    "    print(\"Who are you?\")"
   ]
  },
  {
   "cell_type": "markdown",
   "metadata": {},
   "source": [
    "- There is two types of loops in Python. for loops and while loops.\n",
    "- for loops create a loop from the beginning to the end of a sequence. Like strings, lists, tuples, sets etc.\n",
    "- Generally if we don't use lists, strings or etc. we can use range(start, stop, step) function to create a sequence. start equals 0 and step equals to 1 default. You can just enter the stop and use it."
   ]
  },
  {
   "cell_type": "code",
   "execution_count": 4,
   "metadata": {},
   "outputs": [
    {
     "name": "stdout",
     "output_type": "stream",
     "text": [
      "str loop\n",
      "E\n",
      "y\n",
      "j\n",
      "a\n",
      "\n",
      "list loop\n",
      "1\n",
      "2\n",
      "3\n",
      "4\n",
      "\n",
      "range(stop) loop\n",
      "0\n",
      "1\n",
      "2\n",
      "3\n",
      "4\n",
      "\n",
      "range(start, stop, step) loop\n",
      "5\n",
      "10\n",
      "15\n"
     ]
    }
   ],
   "source": [
    "string = \"Eyja\"\n",
    "list_name = [1, 2, 3, 4]\n",
    "\n",
    "print(\"str loop\")\n",
    "for i in string: #string loop\n",
    "    print(i)\n",
    "\n",
    "print(\"\\nlist loop\")\n",
    "for i in list_name: #list loop\n",
    "    print(i)\n",
    "\n",
    "print(\"\\nrange(stop) loop\")\n",
    "for i in range(5): #range(stop) loop\n",
    "    print(i)\n",
    "\n",
    "print(\"\\nrange(start, stop, step) loop\")\n",
    "for i in range(5,20,5): #range(start, stop, step) loop\n",
    "    print(i)"
   ]
  },
  {
   "cell_type": "markdown",
   "metadata": {},
   "source": [
    "- On the other hand, while loops need a condition to work. \n",
    "- Also, used for where we don't know when to stop the program. To stop it, use break inside a condition block.\n",
    "- You can use break keyword in the for loop too."
   ]
  },
  {
   "cell_type": "code",
   "execution_count": 8,
   "metadata": {},
   "outputs": [
    {
     "name": "stdout",
     "output_type": "stream",
     "text": [
      "While loop with condition\n",
      "hello\n",
      "hello\n",
      "hello\n",
      "hello\n",
      "\n",
      "Infinite loop with a break\n",
      "olleh\n",
      "olleh\n",
      "olleh\n",
      "olleh\n"
     ]
    }
   ],
   "source": [
    "print(\"While loop with condition\")\n",
    "count = 0\n",
    "while count <=3:\n",
    "    print(\"hello\")\n",
    "    count += 1\n",
    "\n",
    "print(\"\\nInfinite loop with a break\")\n",
    "while True:\n",
    "    count -= 1\n",
    "    print(\"olleh\")\n",
    "    if count == 0:\n",
    "        break"
   ]
  },
  {
   "cell_type": "markdown",
   "metadata": {},
   "source": [
    "AI7040 - Functions\n",
    "-"
   ]
  }
 ],
 "metadata": {
  "kernelspec": {
   "display_name": "Python 3.10.5 64-bit",
   "language": "python",
   "name": "python3"
  },
  "language_info": {
   "codemirror_mode": {
    "name": "ipython",
    "version": 3
   },
   "file_extension": ".py",
   "mimetype": "text/x-python",
   "name": "python",
   "nbconvert_exporter": "python",
   "pygments_lexer": "ipython3",
   "version": "3.10.5"
  },
  "orig_nbformat": 4,
  "vscode": {
   "interpreter": {
    "hash": "26de051ba29f2982a8de78e945f0abaf191376122a1563185a90213a26c5da77"
   }
  }
 },
 "nbformat": 4,
 "nbformat_minor": 2
}
