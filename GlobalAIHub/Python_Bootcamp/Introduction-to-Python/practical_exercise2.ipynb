{
  "cells": [
    {
      "cell_type": "markdown",
      "metadata": {
        "id": "tBDsFMQwBs6Z"
      },
      "source": [
        "# Practical exercise 2:  You are a game developer :)\n",
        "\n",
        "In this practical exercise you are a game developer. You will program your first game – Rock, Paper, Scissors.\n",
        "\n",
        "If you are not familiar with the game, you can read about it here: https://en.wikipedia.org/wiki/Rock_paper_scissors.\n",
        "\n",
        "You will program the game step by step. Please read the instructions carefully. There are hints and important explanations that will help you with this exercise."
      ]
    },
    {
      "cell_type": "markdown",
      "metadata": {
        "id": "ymULFKyosM3d"
      },
      "source": [
        "##Warm up\n",
        "\n",
        "Each player can choose between the three actions \"rock\", \"paper\" and \"scissors\". First, you need to create a list that contains all possible actions. "
      ]
    },
    {
      "cell_type": "code",
      "execution_count": 9,
      "metadata": {
        "id": "0w6HGZBvsvru"
      },
      "outputs": [],
      "source": [
        "#Please create a list containing the three actions of the game.\n",
        "actions = [\"rock\", \"paper\", \"scissors\"]"
      ]
    },
    {
      "cell_type": "markdown",
      "metadata": {
        "id": "cnWVzlo1vBy8"
      },
      "source": [
        "# Choose an action\n",
        "\n",
        "Now you have the list with the actions ready. The next step is to let Python randomly choose an action from this list. Each player has to make a choice, so Python has to make a choice for player 1 and another one for player 2.\n",
        "\n",
        "📌The built-in module \"random\" can help you with this. As you might remember from previous lessons you can use the .randint() method to generate random numbers.\n",
        "\n",
        "📌📌There is another method in the random module called .choice(). It takes a list as input and selects an item randomly from that list.\n",
        "\n"
      ]
    },
    {
      "cell_type": "code",
      "execution_count": 10,
      "metadata": {
        "id": "bdlEyJC2xPOw"
      },
      "outputs": [
        {
          "name": "stdout",
          "output_type": "stream",
          "text": [
            "Player 1 chosed scissors\n",
            "Player 2 chosed paper\n"
          ]
        }
      ],
      "source": [
        "#Import the random library\n",
        "import random\n",
        "\n",
        "#Select a random action for each player\n",
        "player1_choice = random.choice(actions)\n",
        "player2_choice = actions[random.randint(0,2)]\n",
        "\n",
        "#Use the print function to print the players choices\n",
        "print(f\"Player 1 chosed {player1_choice}\")\n",
        "print(f\"Player 2 chosed {player2_choice}\")"
      ]
    },
    {
      "cell_type": "markdown",
      "metadata": {
        "id": "Yr7uQq1J2k6p"
      },
      "source": [
        "# Determine the winner\n",
        "\n",
        "So, who won? To determine the winner, you first have to specify all possible outcomes of the game. Then you can use conditional statements to specify which outcome will lead to a win for player 1 or player 2, or a tie.\n",
        "\n",
        "First, let's start with the outcome that both users chose the same action: a tie!\n",
        "In case of a tie, the game should print the message \"Tie! Both players chose the same action.\" to the screen.\n",
        "\n",
        "📌Use conditional statements to check whether the players actions are equal to each other and *if* this condition is true the message should be printed."
      ]
    },
    {
      "cell_type": "code",
      "execution_count": 11,
      "metadata": {
        "id": "8S1F2r8NtEoN"
      },
      "outputs": [
        {
          "name": "stdout",
          "output_type": "stream",
          "text": [
            "It's not a tie!\n"
          ]
        }
      ],
      "source": [
        "#1 - Tie Condition\n",
        "#Please write an if statement to check if the players chose the same action\n",
        "if player1_choice == player2_choice:\n",
        "    print(\"It's a tie! You both selected the same action.\")\n",
        "else:\n",
        "    print(\"It's not a tie!\")"
      ]
    },
    {
      "cell_type": "markdown",
      "metadata": {
        "id": "6aKSif7rItma"
      },
      "source": [
        "Now, let's focus on the remaining outcomes. We have three different actions: rock, paper and scissors.\n",
        "\n",
        "This is a list of all the possible combinations (without those that result in a tie):\n",
        "\n",
        "1.   (paper, rock)\n",
        "2.   (paper, scissors)\n",
        "3.   (scissors, rock)\n",
        "4.   (scissors, paper)\n",
        "5.   (rock, paper)\n",
        "6.   (rock, scissors)\n",
        "\n",
        "You need to check all these conditions in order to determine the winner.\n",
        "\n",
        "📌You can use the \"and\" operator to combine two actions in one conditional statement.\n",
        "\n",
        "📌📌Another approach is using nested if statements to check whether the action of player 2 beats the action of player 1.\n",
        "\n",
        "🧨💣In the cell, first copy the code you wrote for \"Tie\" conditions. Then continue to add the other outcomes using \"elif\".\n",
        "\n",
        "\n"
      ]
    },
    {
      "cell_type": "code",
      "execution_count": 12,
      "metadata": {
        "id": "Ix9sskr5z6Td"
      },
      "outputs": [
        {
          "name": "stdout",
          "output_type": "stream",
          "text": [
            "It's not a tie!\n",
            "Player 1 wins the round! Player 1 0 - Player 2 0\n"
          ]
        }
      ],
      "source": [
        "#Copy your code of the tie-conditions here\n",
        "#1 - Tie Condition\n",
        "if player1_choice == player2_choice:\n",
        "    print(\"It's a tie! You both selected the same action.\")\n",
        "else:\n",
        "    print(\"It's not a tie!\")\n",
        "\n",
        "#2-Winning Conditions\n",
        "#Please add the conditional statements for the remaining combinations \n",
        "if player1_choice == \"rock\":\n",
        "    if player2_choice == \"paper\":\n",
        "        print(\"Player 2 wins the round!\")\n",
        "    else:\n",
        "        print(\"Player 1 wins the round!\")\n",
        "elif player1_choice == \"paper\":\n",
        "    if player2_choice == \"rock\":\n",
        "        print(\"Player 1 wins the round!\")\n",
        "    else:\n",
        "        print(\"Player 2 wins the round!\")\n",
        "elif player1_choice == \"scissors\":\n",
        "    if player2_choice == \"rock\":\n",
        "        print(\"Player 2 wins the round!\")\n",
        "    else:\n",
        "        print(\"Player 1 wins the round!\")\n",
        "\n"
      ]
    },
    {
      "cell_type": "markdown",
      "metadata": {
        "id": "7Ixf-AHqIhcV"
      },
      "source": [
        "# Best of 3 or 5 or single round ? :)\n",
        "\n",
        "Now that you have your game set, let's also ask the users how many rounds they want to play.\n",
        "\n",
        "📌 You can use the input function for this.\n",
        "\n",
        "And because there are multiple rounds, you need to keep track of the score. For this, you need to create a variable for each player that is 0 in the beginning.\n"
      ]
    },
    {
      "cell_type": "code",
      "execution_count": 13,
      "metadata": {
        "id": "_kbrpXXkBU_d"
      },
      "outputs": [],
      "source": [
        "#Please ask the user how many rounds they want to play\n",
        "\n",
        "\n",
        "#Scores of players\n",
        "player1_score = 0\n",
        "player2_score = 0\n"
      ]
    },
    {
      "cell_type": "markdown",
      "metadata": {
        "id": "nzIGT6s_CWvP"
      },
      "source": [
        "# Use a for loop to specify the number of rounds \n",
        "The user specified how many rounds he or she wants to play. \n",
        "\n",
        "One way to use this information is to put the game inside of a for loop.\n",
        "\n",
        "📌 You can use a for loop and the range() function to repeat the loop for a specified number of times.\n",
        "\n",
        "📌📌 Don't forget to convert the user input to the data type integer. You can use the int() function for this.\n",
        "\n",
        "📌📌📌 Don't forget to increment or add 1 to the score of the players that win, and print the current score after each round. You can use the assignment operator +=1 for this. "
      ]
    },
    {
      "cell_type": "code",
      "execution_count": 25,
      "metadata": {
        "id": "Wy7CLLRNCV3X"
      },
      "outputs": [
        {
          "name": "stdout",
          "output_type": "stream",
          "text": [
            "\n",
            "Player 1 chosed rock\n",
            "Player 2 chosed rock\n",
            "It's a tie! Players selected the same action.\n",
            "\n",
            "Player 1 chosed scissors\n",
            "Player 2 chosed paper\n",
            "Player 1 wins the round! Player 1 |0 - 0| Player 2\n",
            "\n",
            "Player 1 chosed paper\n",
            "Player 2 chosed rock\n",
            "Player 1 wins the round! Player 1 |1 - 0| Player 2\n",
            "\n",
            "Player 1 wins the game! Player 1 |2 - 0| Player 2\n"
          ]
        }
      ],
      "source": [
        "#Collect all the components of your program to run it in a for loop\n",
        "#Import the random library\n",
        "\n",
        "\n",
        "#Add the code to create a list containing the three actions of the game.\n",
        "\n",
        "\n",
        "#Add the code to set the scores of players to 0\n",
        "\n",
        "\n",
        "#Add the code to ask the user how many rounds they want to play\n",
        "\n",
        "\n",
        "#Write a for loop and put the game inside\n",
        "\n",
        "\n",
        "  #Add the code to select a random action for each player\n",
        "\n",
        "\n",
        "  #Add the code to print the players choices\n",
        "\n",
        "\n",
        "  #Add the tie condition\n",
        "\n",
        "\n",
        "  #Add the remaining condition\n",
        "\n",
        "\n",
        "  #print the score\n",
        "\n",
        "import random\n",
        "\n",
        "actions = [\"rock\", \"paper\", \"scissors\"]\n",
        "\n",
        "rounds = int(input(\"Enter how many rounds you want to play: \"))\n",
        "\n",
        "player1_score = 0\n",
        "player2_score = 0\n",
        "\n",
        "for _ in range(rounds):\n",
        "    print()\n",
        "    player1_choice = random.choice(actions)\n",
        "    player2_choice = actions[random.randint(0,2)]\n",
        "\n",
        "    print(f\"Player 1 chosed {player1_choice}\")\n",
        "    print(f\"Player 2 chosed {player2_choice}\")\n",
        "\n",
        "    if player1_choice == player2_choice:\n",
        "        print(\"It's a tie! Players selected the same action.\")\n",
        "    \n",
        "    elif player1_choice == \"rock\":\n",
        "        if player2_choice == \"paper\":\n",
        "            print(f\"Player 2 wins the round! Player 1 |{player1_score} - {player2_score}| Player 2\")\n",
        "            player2_score += 1\n",
        "        else:\n",
        "            print(f\"Player 1 wins the round! Player 1 |{player1_score} - {player2_score}| Player 2\")\n",
        "            player1_score += 1\n",
        "\n",
        "    elif player1_choice == \"paper\":\n",
        "      if player2_choice == \"rock\":\n",
        "          print(f\"Player 1 wins the round! Player 1 |{player1_score} - {player2_score}| Player 2\")\n",
        "          player1_score += 1\n",
        "      else:\n",
        "          print(f\"Player 2 wins the round! Player 1 |{player1_score} - {player2_score}| Player 2\")\n",
        "          player2_score += 1\n",
        "\n",
        "    elif player1_choice == \"scissors\":\n",
        "      if player2_choice == \"rock\":\n",
        "          print(f\"Player 2 wins the round! Player 1 |{player1_score} - {player2_score}| Player 2\")\n",
        "          player2_score += 1\n",
        "      else:\n",
        "          print(f\"Player 1 wins the round! Player 1 |{player1_score} - {player2_score}| Player 2\")\n",
        "          player1_score += 1\n",
        "\n",
        "print()\n",
        "if player1_score == player2_score:\n",
        "    print(\"It's tie!\")\n",
        "\n",
        "elif player1_score > player2_score:\n",
        "    print(f\"Player 1 wins the game! Player 1 |{player1_score} - {player2_score}| Player 2\")\n",
        "\n",
        "else:\n",
        "    print(f\"Player 2 wins the game! Player 1 |{player1_score} - {player2_score}| Player 2\")\n"
      ]
    },
    {
      "cell_type": "markdown",
      "metadata": {
        "id": "QQIXQsmRwGqB"
      },
      "source": [
        "# Use a while loop to specify the number of rounds - Part 1\n",
        "\n",
        "In this module we also learned about while loops. Another way to play the game over and over again is using a while loop. \n",
        "\n",
        "This time, let's put the game inside a while loop.\n",
        "\n",
        "📌 You can directly use the value *True* to specify that the while loop should be executed. \n",
        "\n",
        "💣 By the way: Another very common name for True/False values is \"**Boolean values**\" or \"**Bools**\" in short.\n",
        "\n",
        "🧨🧨 Caution! Since we run the game in an while loop, you have to stop the game manually. Otherwise it will run infinitely.\n"
      ]
    },
    {
      "cell_type": "code",
      "execution_count": 29,
      "metadata": {
        "id": "dvTr4HR4wF4n"
      },
      "outputs": [
        {
          "name": "stdout",
          "output_type": "stream",
          "text": [
            "\n",
            "Player 1 chosed scissors\n",
            "Player 2 chosed paper\n",
            "Player 1 wins the round! Player 1 |1 - 0| Player 2\n",
            "\n",
            "Player 1 chosed rock\n",
            "Player 2 chosed scissors\n",
            "Player 1 wins the round! Player 1 |2 - 0| Player 2\n",
            "\n",
            "Player 1 chosed paper\n",
            "Player 2 chosed rock\n",
            "Player 1 wins the round! Player 1 |3 - 0| Player 2\n",
            "\n",
            "Player 1 chosed scissors\n",
            "Player 2 chosed scissors\n",
            "It's a tie! Players selected the same action.\n",
            "\n",
            "Player 1 wins the game! Player 1 |3 - 0| Player 2\n"
          ]
        }
      ],
      "source": [
        "#Collect all the components of your program to run it in a while loop\n",
        "#Import the random library\n",
        "\n",
        "\n",
        "#Add the code to create a list containing the three actions of the game.\n",
        "\n",
        "\n",
        "#Add the code to set the scores of players to 0\n",
        "\n",
        "\n",
        "#Write a while loop and put the game inside\n",
        "\n",
        "\n",
        "  #Add the code to select a random action for each player\n",
        "\n",
        "\n",
        "  #Add the code to print the players choices\n",
        "\n",
        "\n",
        "  #Add the tie condition\n",
        "\n",
        "\n",
        "  #Add the remaining condition\n",
        "\n",
        "\n",
        "  #print the score\n",
        "\n",
        "import random\n",
        "\n",
        "actions = [\"rock\", \"paper\", \"scissors\"]\n",
        "\n",
        "player1_score = 0\n",
        "player2_score = 0\n",
        "\n",
        "while True:\n",
        "    \n",
        "  player1_choice = random.choice(actions)\n",
        "  player2_choice = actions[random.randint(0,2)]\n",
        "\n",
        "  print()\n",
        "  print(f\"Player 1 chosed {player1_choice}\")\n",
        "  print(f\"Player 2 chosed {player2_choice}\")\n",
        "\n",
        "  if player1_choice == player2_choice:\n",
        "      print(\"It's a tie! Players selected the same action.\")\n",
        "  \n",
        "  elif player1_choice == \"rock\":\n",
        "    if player2_choice == \"paper\":\n",
        "      player2_score += 1\n",
        "      print(f\"Player 2 wins the round! Player 1 |{player1_score} - {player2_score}| Player 2\")\n",
        "        \n",
        "    else:\n",
        "      player1_score += 1\n",
        "      print(f\"Player 1 wins the round! Player 1 |{player1_score} - {player2_score}| Player 2\")\n",
        "        \n",
        "\n",
        "  elif player1_choice == \"paper\":\n",
        "    if player2_choice == \"rock\":\n",
        "      player1_score += 1\n",
        "      print(f\"Player 1 wins the round! Player 1 |{player1_score} - {player2_score}| Player 2\")\n",
        "      \n",
        "    else:\n",
        "      player2_score += 1\n",
        "      print(f\"Player 2 wins the round! Player 1 |{player1_score} - {player2_score}| Player 2\")\n",
        "        \n",
        "\n",
        "  elif player1_choice == \"scissors\":\n",
        "    if player2_choice == \"rock\":\n",
        "      player2_score += 1\n",
        "      print(f\"Player 2 wins the round! Player 1 |{player1_score} - {player2_score}| Player 2\")\n",
        "        \n",
        "    else:\n",
        "      player1_score += 1\n",
        "      print(f\"Player 1 wins the round! Player 1 |{player1_score} - {player2_score}| Player 2\")\n",
        "          \n",
        "  stopping = input(\"Do you want to stop the game? (Yes/No) \").capitalize()\n",
        "  \n",
        "  if stopping == \"Yes\":\n",
        "    break\n",
        "  \n",
        "\n",
        "print()\n",
        "\n",
        "if player1_score == player2_score:\n",
        "    print(\"It's a tie!\")\n",
        "\n",
        "elif player1_score > player2_score:\n",
        "    print(f\"Player 1 wins the game! Player 1 |{player1_score} - {player2_score}| Player 2\")\n",
        "\n",
        "else:\n",
        "    print(f\"Player 2 wins the game! Player 1 |{player1_score} - {player2_score}| Player 2\")"
      ]
    },
    {
      "cell_type": "markdown",
      "metadata": {
        "id": "YKVAuxIsjaE6"
      },
      "source": [
        "# Use a while loop to specify the number of rounds - Part 2\n",
        "\n",
        "Now the game runs infinitely and the user can end it manually. But there is a more efficient way to do this: Let's ask the user again how many rounds they want to play, just as you did for the game inside the for loop.\n",
        "\n",
        "To prevent an infinite loop, you need to add a round_counter that is 0 at the beginning. In each round, this counter needs to increase by 1. \n",
        "\n",
        "At the end of your while loop, you need to add an \"if\" condition to check whether the round_counter is equal to the number of rounds that we got from user as an input. If this is the case, we need to use \"**break**\" to end the game.\n",
        "\n",
        "Once we end the game, it would be nice to see a message that prints the winner to the screen. In case of a tie, it should print a message that the game ended in a tie.\n",
        "\n",
        "📌 You can use \"if\" and \"elif\" statements to determine the winner at the end."
      ]
    },
    {
      "cell_type": "code",
      "execution_count": 28,
      "metadata": {
        "id": "emrjgYoXjYCR"
      },
      "outputs": [
        {
          "name": "stdout",
          "output_type": "stream",
          "text": [
            "\n",
            "Player 1 chosed rock\n",
            "Player 2 chosed paper\n",
            "Player 2 wins the round! Player 1 |0 - 1| Player 2\n",
            "\n",
            "Player 1 chosed scissors\n",
            "Player 2 chosed rock\n",
            "Player 2 wins the round! Player 1 |0 - 2| Player 2\n",
            "\n",
            "Player 1 chosed rock\n",
            "Player 2 chosed scissors\n",
            "Player 1 wins the round! Player 1 |1 - 2| Player 2\n",
            "\n",
            "Player 2 wins the game! Player 1 |1 - 2| Player 2\n"
          ]
        }
      ],
      "source": [
        "#Collect all the components of your program to run it in a while loop\n",
        "#Import the random library\n",
        "\n",
        "\n",
        "#Add the code to create a list containing the three actions of the game.\n",
        "\n",
        "\n",
        "#Add the code to set the scores of players to 0\n",
        "\n",
        "#Add a round_counter that is 0 at the beginning\n",
        "\n",
        "\n",
        "#Add the code to ask the user how many rounds they want to play\n",
        "\n",
        "\n",
        "#Write a while loop and put the game inside\n",
        "\n",
        "\n",
        "  #increase round_counter by 1 and print it\n",
        "\n",
        "\n",
        "  #Add the code to select a random action for each player\n",
        "\n",
        "\n",
        "  #Add the code to print the players choices\n",
        "\n",
        "\n",
        "  #Add the tie condition\n",
        "\n",
        "\n",
        "  #Add the remaining condition\n",
        "\n",
        "\n",
        "  #print the score\n",
        "\n",
        "\n",
        "  #stop the while loop if the round_counter equals the number of total rounds\n",
        "\n",
        "#Print the outcome of the game by using conditional statements\n",
        "\n",
        "import random\n",
        "\n",
        "actions = [\"rock\", \"paper\", \"scissors\"]\n",
        "\n",
        "rounds = int(input(\"Enter how many rounds you want to play: \"))\n",
        "\n",
        "player1_score = 0\n",
        "player2_score = 0\n",
        "\n",
        "count = 1\n",
        "\n",
        "while count <= rounds:\n",
        "    \n",
        "  player1_choice = random.choice(actions)\n",
        "  player2_choice = actions[random.randint(0,2)]\n",
        "\n",
        "  print()\n",
        "  print(f\"Player 1 chosed {player1_choice}\")\n",
        "  print(f\"Player 2 chosed {player2_choice}\")\n",
        "\n",
        "  if player1_choice == player2_choice:\n",
        "      print(\"It's a tie! Players selected the same action.\")\n",
        "  \n",
        "  elif player1_choice == \"rock\":\n",
        "    if player2_choice == \"paper\":\n",
        "      player2_score += 1\n",
        "      print(f\"Player 2 wins the round! Player 1 |{player1_score} - {player2_score}| Player 2\")\n",
        "        \n",
        "    else:\n",
        "      player1_score += 1\n",
        "      print(f\"Player 1 wins the round! Player 1 |{player1_score} - {player2_score}| Player 2\")\n",
        "        \n",
        "\n",
        "  elif player1_choice == \"paper\":\n",
        "    if player2_choice == \"rock\":\n",
        "      player1_score += 1\n",
        "      print(f\"Player 1 wins the round! Player 1 |{player1_score} - {player2_score}| Player 2\")\n",
        "      \n",
        "    else:\n",
        "      player2_score += 1\n",
        "      print(f\"Player 2 wins the round! Player 1 |{player1_score} - {player2_score}| Player 2\")\n",
        "        \n",
        "\n",
        "  elif player1_choice == \"scissors\":\n",
        "    if player2_choice == \"rock\":\n",
        "      player2_score += 1\n",
        "      print(f\"Player 2 wins the round! Player 1 |{player1_score} - {player2_score}| Player 2\")\n",
        "        \n",
        "    else:\n",
        "      player1_score += 1\n",
        "      print(f\"Player 1 wins the round! Player 1 |{player1_score} - {player2_score}| Player 2\")\n",
        "          \n",
        "\n",
        "  count += 1\n",
        "\n",
        "print()\n",
        "\n",
        "if player1_score == player2_score:\n",
        "    print(\"It's a tie!\")\n",
        "\n",
        "elif player1_score > player2_score:\n",
        "    print(f\"Player 1 wins the game! Player 1 |{player1_score} - {player2_score}| Player 2\")\n",
        "\n",
        "else:\n",
        "    print(f\"Player 2 wins the game! Player 1 |{player1_score} - {player2_score}| Player 2\")"
      ]
    }
  ],
  "metadata": {
    "colab": {
      "collapsed_sections": [],
      "name": "practical_exercise2.ipynb",
      "provenance": []
    },
    "kernelspec": {
      "display_name": "Python 3.10.5 64-bit",
      "language": "python",
      "name": "python3"
    },
    "language_info": {
      "codemirror_mode": {
        "name": "ipython",
        "version": 3
      },
      "file_extension": ".py",
      "mimetype": "text/x-python",
      "name": "python",
      "nbconvert_exporter": "python",
      "pygments_lexer": "ipython3",
      "version": "3.10.5"
    },
    "vscode": {
      "interpreter": {
        "hash": "26de051ba29f2982a8de78e945f0abaf191376122a1563185a90213a26c5da77"
      }
    }
  },
  "nbformat": 4,
  "nbformat_minor": 0
}
