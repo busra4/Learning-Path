{
  "cells": [
    {
      "cell_type": "markdown",
      "metadata": {
        "id": "tBDsFMQwBs6Z"
      },
      "source": [
        "# Practical exercise 4: Your own supermarket\n",
        "\n",
        "In this practical exercise, you are the owner of a supermarket.\n",
        "\n",
        "🛒 You will program an online shop to sell different types of items. \n",
        "\n",
        "Please read the instructions carefully. There are hints and important explanations that will help you with this exercise."
      ]
    },
    {
      "cell_type": "markdown",
      "metadata": {
        "id": "ymULFKyosM3d"
      },
      "source": [
        "##Warm up\n",
        "\n",
        "Before we actually start, let's get a little more familiar with the data structures that will be useful in this exercise: lists, tuples and dictionaries. \n",
        "\n",
        "###(1) Lists\n",
        "\n",
        "First, create a shopping list with items that you want to purchase from your online shop later. You need to buy: milk, apples, oranges, potatoes and bread."
      ]
    },
    {
      "cell_type": "code",
      "execution_count": 5,
      "metadata": {
        "id": "0w6HGZBvsvru"
      },
      "outputs": [],
      "source": [
        "#Please create a shopping list\n",
        "shopping_list = []\n",
        "while True:\n",
        "    item = input(\"What you need? (write q to exit)\")\n",
        "    if item == \"q\":\n",
        "        break\n",
        "    else:\n",
        "        shopping_list.append(item)"
      ]
    },
    {
      "cell_type": "markdown",
      "metadata": {
        "id": "K0TMLWsQbfPE"
      },
      "source": [
        "You also want to buy bananas and onions, so you add those to your list.\n",
        "\n",
        "Remember, there are two different ways to add an item to a list. \n",
        "\n",
        "📌 You can use the .append() method to add bananas to your list.\n",
        "\n",
        "📌📌 You can use the .insert() method to add onions to your list. With this method you will also have to specify the position at which you want the item to be added.\n",
        "\n",
        "💣 Make sure to print your shopping list afterwards to check if the items were added."
      ]
    },
    {
      "cell_type": "code",
      "execution_count": 6,
      "metadata": {
        "id": "YC3QlYU6NIrC"
      },
      "outputs": [
        {
          "name": "stdout",
          "output_type": "stream",
          "text": [
            "Shopping list: ['milk', 'apples', 'oranges', 'potatoes', 'bread', 'bananas']\n",
            "Shopping List: ['milk', 'onions', 'apples', 'oranges', 'potatoes', 'bread', 'bananas']\n"
          ]
        }
      ],
      "source": [
        "#Use the append method to add bananas to your list\n",
        "shopping_list.append(\"bananas\")\n",
        "#Print your shopping list\n",
        "print(\"Shopping list:\", shopping_list)\n",
        "\n",
        "#Use insert method to add onions at a specific position in your list\n",
        "shopping_list.insert(1, \"onions\")\n",
        "\n",
        "#Print your shopping list\n",
        "print(\"Shopping List:\", shopping_list)"
      ]
    },
    {
      "cell_type": "markdown",
      "metadata": {
        "id": "GVov48ohf4XA"
      },
      "source": [
        "Your roommate checks the shopping list and says that you already bought patatoes yesterday, so you decide to remove them from your list.\n",
        "\n",
        "📌 You can use the .remove() method to remove an item from your list."
      ]
    },
    {
      "cell_type": "code",
      "execution_count": 7,
      "metadata": {
        "id": "uH7PHLQpPFNC"
      },
      "outputs": [
        {
          "name": "stdout",
          "output_type": "stream",
          "text": [
            "Shopping List: ['milk', 'onions', 'apples', 'oranges', 'bread', 'bananas']\n"
          ]
        }
      ],
      "source": [
        "#Use the remove method to remove potatoes from the list\n",
        "shopping_list.remove(\"potatoes\")\n",
        "#Print your shopping list\n",
        "print(\"Shopping List:\", shopping_list)"
      ]
    },
    {
      "cell_type": "markdown",
      "metadata": {
        "id": "U7oyLFUNeFvL"
      },
      "source": [
        "###(2) Tuples\n",
        "As a next step, lets make your list more informative, by adding the respective section in the store where you can find each item.\n",
        "\n",
        "You can do this by using tuples, which contain the name of the item and the respective section. For example \"fruits\", \"dairy\", \"bakery\".\n",
        "\n",
        "📌 Tuples are similar to lists, but you create them with round brackets, or parentheses ( ), instead of square ones [ ].\n",
        "\n",
        "Your list should follow this structure:\n",
        "```\n",
        "shopping_list = [('item1', 'section1'), ('item2', 'section2')]\n",
        "```\n",
        "\n"
      ]
    },
    {
      "cell_type": "code",
      "execution_count": 5,
      "metadata": {
        "id": "m8SiT9xofIXR"
      },
      "outputs": [],
      "source": [
        "#Expand your list by adding tuples for each item\n",
        "new"
      ]
    },
    {
      "cell_type": "markdown",
      "metadata": {
        "id": "eyQLiQ0-ftZF"
      },
      "source": [
        "Next, you want to use this list to print out where each item is available. \n",
        "\n",
        "The message could be as follows: \n",
        "\"You can find the [item] in the [section] section\"\n",
        "\n",
        "\n",
        "📌 You can use the for loop to pick each tuple at a time and unpack it inside the loop. \n",
        "\n",
        "📌📌 Finally, you can include the item and section variable in the print function.\n"
      ]
    },
    {
      "cell_type": "code",
      "execution_count": null,
      "metadata": {
        "id": "t84kgxJIg7EZ"
      },
      "outputs": [],
      "source": [
        "#Use for loop to iterate over list and get each tuple for unpacking\n",
        "\n",
        "  #unpack the tuple into item and section variables \n",
        "\n",
        "  #print the message\n"
      ]
    },
    {
      "cell_type": "markdown",
      "metadata": {
        "id": "ZFuZo1ShhYTy"
      },
      "source": [
        "###(3) Dictionaries\n",
        "\n",
        "Another way to assign a section to each item is with dictionaries. Instead of a list containing multiple tuples, let's create a dictionary which contains the item as a key and the section as a value.\n",
        "\n",
        "📌 Dictionaries are created with curly braces { } and each item in a dictionary consists of key/value pairs.\n",
        "\n",
        "Your dictionary should follow this structure:\n",
        "```\n",
        "shopping_list = {'item1':'section1', 'item2':'section2'}\n",
        "```\n",
        "\n"
      ]
    },
    {
      "cell_type": "code",
      "execution_count": 7,
      "metadata": {
        "id": "_u68Uawrn0a0"
      },
      "outputs": [],
      "source": [
        "#Create a dictionary which contains the item as key and the section as value\n"
      ]
    },
    {
      "cell_type": "markdown",
      "metadata": {
        "id": "PCHcI3wooUuk"
      },
      "source": [
        "We have learned different methods to access the items in a dictionary.\n",
        "\n",
        "Let's use them first to print only the keys, then only the values and finally the key/value pairs as a list of tuples.\n",
        "\n",
        "📌 You can use .keys() method to access the keys.\n",
        "\n",
        "📌 You can use the .values() method to access the values.\n",
        "\n",
        "📌 You can use the .items() method to access the key/value pairs.\n"
      ]
    },
    {
      "cell_type": "code",
      "execution_count": null,
      "metadata": {
        "id": "ujwOVRsPotS2"
      },
      "outputs": [],
      "source": [
        "#Print the keys\n",
        "\n",
        "\n",
        "#Print the values\n",
        "\n",
        "\n",
        "#Print the key/value pairs\n"
      ]
    },
    {
      "cell_type": "markdown",
      "metadata": {
        "id": "cnWVzlo1vBy8"
      },
      "source": [
        "# Set up the online shop\n",
        "\n",
        "So, now that you have a gained some experience, let's start with our main exercise!\n",
        "\n",
        "Of course, you first need to add all the items that will be available in your online shop. \n",
        "\n",
        "📌Create a dictionary for your inventory. For each item the key should be the name and the value should be a list containing price, stock, and section.\n",
        "\n",
        "📌📌 Your dictionary should follow this structure: \n",
        "```\n",
        "inventory = {'item1':[price, stock quantity,'section'], 'item2':[price, stock quantity,'section']}\n",
        "```\n",
        "💣 You can also write each item of the dictionary in its own line to make it more user-friendly:\n",
        "\n",
        "```\n",
        "inventory = {'item1':[price, stock quantity,'section'], \n",
        "             'item2':[price, stock quantity,'section']}\n",
        "```"
      ]
    },
    {
      "cell_type": "code",
      "execution_count": 10,
      "metadata": {
        "id": "9N1XvG5lPZYb"
      },
      "outputs": [],
      "source": [
        "#Create a dictionary for your inventory\n",
        " "
      ]
    },
    {
      "cell_type": "markdown",
      "metadata": {
        "id": "AU7K16IxSsTh"
      },
      "source": [
        "# Your first client is here\n",
        "\n",
        "Now that your inverntory is set up, your first client visits the shop. Let's take a peak in their shopping list.\n",
        "\n",
        "📌 As we did in the warm up, let's create a shopping list for your first client with tuples for each item. This time, each tuple should consist of the item and the amount that they want to purchase.\n",
        "\n",
        "The list should follow this structure:\n",
        "\n",
        "```\n",
        "shopping_list = [('item1', amount),('item2', amount)]\n",
        "```\n",
        "\n"
      ]
    },
    {
      "cell_type": "code",
      "execution_count": 11,
      "metadata": {
        "id": "ZfsnRwT5Ux4O"
      },
      "outputs": [],
      "source": [
        "#Create a shopping list that specifies how much of each item you want to purchase\n"
      ]
    },
    {
      "cell_type": "markdown",
      "metadata": {
        "id": "7pPSFAdBUqHm"
      },
      "source": [
        "# What happens next? \n",
        "\n",
        "Everytime a customer wants to purchase something from your online shop, a few steps have to be taken. Here are the functions that will make your online shop work.\n",
        "\n",
        "##(1) Check the stock\n",
        "First, you have to make sure that you have sufficient stock of each item in your inventory. \n",
        "\n",
        "1. check_stock \n",
        "\n",
        "Define a function to check the stock quantity of the items in your shopping list. The function should take your shopping list and inventory as an argument. If there is not enough stock, the amount in your shopping list should be updated to the highest amount possible.\n",
        "\n",
        "\n",
        "💣 To start, create an empty shopping list, in which the items and their updated amounts will be written in as tuples. Remember that we cannot update them because tuples are immutable.\n",
        "\n",
        "📌 You can use a for loop to iterate over each item inside the shopping list.\n",
        "\n",
        "📌 You can then unpack the tuples to access each item and amount separately.\n",
        "\n",
        "📌 To access the available stock in your inventory dictionary, use the item as a key, then the corresponding index in the values list and check if there is enough stock. \n",
        "\n",
        "📌 The print function can help you to inform the client which items are out of stock and what the available amount is.\n",
        "\n",
        "📌 Update the amount if necessary and append the item and amount to your updated shopping list."
      ]
    },
    {
      "cell_type": "code",
      "execution_count": null,
      "metadata": {
        "id": "fHnIa5_o1em8"
      },
      "outputs": [],
      "source": [
        "#Define the check_stock function\n",
        "\n",
        "  #Create the empty shopping_list_updated\n",
        "\n",
        "  #Write a for loop to iterate over each item in your shopping list\n",
        "\n",
        "    #Access the available stock in your inventory\n",
        "\n",
        "    #append item and amount to your updated shopping list\n"
      ]
    },
    {
      "cell_type": "markdown",
      "metadata": {
        "id": "FeUryrwN-Cy_"
      },
      "source": [
        "2. compute_bill\n",
        "\n",
        "Next, we need to define a function to compute the bill and the price that has to be payed in the checkout. The function should take your **updated** shopping list and inventory as an argument.\n",
        "\n",
        "💣 In the beginning of the function, you need to create a bill variable and assign 0 to it.\n",
        "\n",
        "📌 You can use a for loop to iterate over each item inside the updated shopping list.\n",
        "\n",
        "📌 You can then unpack the tuples to access each item and amount separately.\n",
        "\n",
        "📌 To access the price in your inventory dictionary use the item as a key, then the corresponding index in the values list.\n",
        "\n",
        "📌 Compute the price for the amount inside your client's updated shopping list and add it to your bill variable. \n"
      ]
    },
    {
      "cell_type": "code",
      "execution_count": null,
      "metadata": {
        "id": "PfYhT-_skm6H"
      },
      "outputs": [],
      "source": [
        "#Define the compute_bill function\n",
        "\n",
        "  #Create a bill variable that equals 0\n",
        "\n",
        "  #Write a for loop to iterate over each item in your updated shopping list\n",
        "\n",
        "    #access the price in your inventory\n",
        "\n",
        "    #Compute the price and add it to the bill\n"
      ]
    },
    {
      "cell_type": "markdown",
      "metadata": {
        "id": "rY4TwQ-M-eBl"
      },
      "source": [
        "3. update_stock\n",
        "\n",
        "Your last function should update your store inventory after items were purchased. The function should take your **updated** shopping list and inventory as an argument.\n",
        "\n",
        "📌 You can use a for loop to iterate over each item inside the updated shopping list.\n",
        "\n",
        "📌 You can then unpack the tuples to access each item and amount separately.\n",
        "\n",
        "📌 To access the stock in your inventory dictionary use the item as a key, then the corresponding index in the values list.\n",
        "\n",
        "📌 Decrease the stock in your inventory by the amount that was purchased. \n"
      ]
    },
    {
      "cell_type": "code",
      "execution_count": null,
      "metadata": {
        "id": "Vm6X-Crvr4lp"
      },
      "outputs": [],
      "source": [
        "#Define the update_stock function \n",
        "\n",
        "  #Write a for loop to iterate over each item in your updated shopping list\n",
        "\n",
        "    #access the stock in your inventory\n",
        "\n",
        "    #Decrease the stock by the amount that was purchased\n",
        "\n"
      ]
    },
    {
      "cell_type": "markdown",
      "metadata": {
        "id": "xlh49KnZyl0L"
      },
      "source": [
        "# Time to test if everything is working!\n",
        "\n"
      ]
    },
    {
      "cell_type": "markdown",
      "metadata": {
        "id": "22SoF5NyGWeQ"
      },
      "source": [
        "Now that you have your functions set up, you are ready to fulfil your client's shopping list.\n",
        "\n",
        "1. Call the check_stock function\n",
        "\n",
        "💣 The first thing that you need to do is to check whether there is enough stock available in your online shop. \n",
        "\n",
        "📌 Use the check_stock function to check if there is enough stock and if not, to update your shopping list accordingly.\n",
        "\n",
        "📌 Next, print the following statement:\n",
        "\n",
        "\"Your updated shopping list is: [shopping_list]\""
      ]
    },
    {
      "cell_type": "code",
      "execution_count": null,
      "metadata": {
        "id": "bdlEyJC2xPOw"
      },
      "outputs": [],
      "source": [
        "#Call check_stock function for your shopping list\n"
      ]
    },
    {
      "cell_type": "markdown",
      "metadata": {
        "id": "oRiKfikSMQ0s"
      },
      "source": [
        "2.  Call the compute_bill function\n",
        "\n",
        "Now you are sure that all items in your list are available, you need to compute how much you have to pay.\n",
        "\n",
        "📌 Use the compute_bill function to find out how much you have to pay.\n",
        "\n",
        "💣 Make sure that you give the **updated** shopping list as an argument!\n",
        "\n",
        "📌 Next, print the following statement:\n",
        "\"Total price: [bill] $\""
      ]
    },
    {
      "cell_type": "code",
      "execution_count": null,
      "metadata": {
        "id": "ynk3rKhOMyP1"
      },
      "outputs": [],
      "source": [
        "#Call the compute_bill function for your updated shopping list\n"
      ]
    },
    {
      "cell_type": "markdown",
      "metadata": {
        "id": "eUORhgOvM1BK"
      },
      "source": [
        "3.   Call the update_stock function\n",
        "\n",
        "Lastly, you have to make sure that your inventory gets updated after the purchase. \n",
        "\n",
        "📌 Use the update_stock function to update the inventory stock.\n",
        "\n",
        "💣 Make sure that you give the **updated** shopping list as an argument!\n",
        "\n",
        "📌 Next, print the following statement:\n",
        "\"The inventory has been updated: [inventory]\""
      ]
    },
    {
      "cell_type": "code",
      "execution_count": null,
      "metadata": {
        "id": "8hyBJ49qNNFM"
      },
      "outputs": [],
      "source": [
        "#Call the update_stock function for your updated shopping list\n"
      ]
    }
  ],
  "metadata": {
    "colab": {
      "collapsed_sections": [],
      "name": "practical_exercise4.ipynb",
      "provenance": []
    },
    "kernelspec": {
      "display_name": "Python 3.10.5 64-bit",
      "language": "python",
      "name": "python3"
    },
    "language_info": {
      "codemirror_mode": {
        "name": "ipython",
        "version": 3
      },
      "file_extension": ".py",
      "mimetype": "text/x-python",
      "name": "python",
      "nbconvert_exporter": "python",
      "pygments_lexer": "ipython3",
      "version": "3.10.5"
    },
    "vscode": {
      "interpreter": {
        "hash": "26de051ba29f2982a8de78e945f0abaf191376122a1563185a90213a26c5da77"
      }
    }
  },
  "nbformat": 4,
  "nbformat_minor": 0
}
